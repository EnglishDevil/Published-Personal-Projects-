{
 "cells": [
  {
   "cell_type": "markdown",
   "metadata": {},
   "source": [
    "# A Map of crime in Skipton over 6 months\n",
    "I recently moved into Skipton and have been deciding on where would be a good place to live and buy a house for me and my family. I decided to have a look at crime occurances over the last six months to see if crime varies noticably between different areas of Skipton.\n",
    "\n",
    "## Data Sources\n",
    "I took the crime data from the https://data.police.uk API, asking it to show me all the crimes that occured in a polygon roughly the shape of Skipton. I used Plotly Express to plot the crimes onto a map of Skipton from Mapbox. "
   ]
  },
  {
   "cell_type": "code",
   "execution_count": 9,
   "metadata": {},
   "outputs": [
    {
     "data": {
      "text/html": [
       "<script>\n",
       "code_show=true; \n",
       "function code_toggle() {\n",
       " if (code_show){\n",
       " $('div.input').hide();\n",
       " } else {\n",
       " $('div.input').show();\n",
       " }\n",
       " code_show = !code_show\n",
       "} \n",
       "$( document ).ready(code_toggle);\n",
       "</script>\n",
       "The raw code for this IPython notebook is by default hidden for easier reading.\n",
       "To toggle on/off the raw code, click <a href=\"javascript:code_toggle()\">here</a>."
      ],
      "text/plain": [
       "<IPython.core.display.HTML object>"
      ]
     },
     "execution_count": 9,
     "metadata": {},
     "output_type": "execute_result"
    }
   ],
   "source": [
    "#import relevant libraries\n",
    "import plotly.figure_factory as ff\n",
    "import pandas as pd\n",
    "#hide code that isnt aesthetic\n",
    "from IPython.display import HTML\n",
    "HTML('''<script>\n",
    "code_show=true; \n",
    "function code_toggle() {\n",
    " if (code_show){\n",
    " $('div.input').hide();\n",
    " } else {\n",
    " $('div.input').show();\n",
    " }\n",
    " code_show = !code_show\n",
    "} \n",
    "$( document ).ready(code_toggle);\n",
    "</script>\n",
    "The raw code for this IPython notebook is by default hidden for easier reading.\n",
    "To toggle on/off the raw code, click <a href=\"javascript:code_toggle()\">here</a>.''')"
   ]
  },
  {
   "cell_type": "code",
   "execution_count": 10,
   "metadata": {},
   "outputs": [],
   "source": [
    "#call the API to get the data for the area defined by the co-ords. One call for each month\n",
    "calls = ['https://data.police.uk/api/crimes-street/all-crime?poly=53.933024,%20-1.949214:53.936022,%20-2.049110:54.016624,%20-1.954005:54.009636,%20-2.076643&date=2019-09',\n",
    "         'https://data.police.uk/api/crimes-street/all-crime?poly=53.933024,%20-1.949214:53.936022,%20-2.049110:54.016624,%20-1.954005:54.009636,%20-2.076643&date=2019-08',\n",
    "         'https://data.police.uk/api/crimes-street/all-crime?poly=53.933024,%20-1.949214:53.936022,%20-2.049110:54.016624,%20-1.954005:54.009636,%20-2.076643&date=2019-07',\n",
    "         'https://data.police.uk/api/crimes-street/all-crime?poly=53.933024,%20-1.949214:53.936022,%20-2.049110:54.016624,%20-1.954005:54.009636,%20-2.076643&date=2019-06',\n",
    "         'https://data.police.uk/api/crimes-street/all-crime?poly=53.933024,%20-1.949214:53.936022,%20-2.049110:54.016624,%20-1.954005:54.009636,%20-2.076643&date=2019-05',\n",
    "         'https://data.police.uk/api/crimes-street/all-crime?poly=53.933024,%20-1.949214:53.936022,%20-2.049110:54.016624,%20-1.954005:54.009636,%20-2.076643&date=2019-04']\n",
    "\n",
    "# Create an initial empty data frame\n",
    "df = pd.DataFrame()\n",
    "# Make the consecutive calls\n",
    "for i, call in enumerate(calls):\n",
    "    # Create the new DataFrame from the data you got\n",
    "    df_new = pd.read_json(call, orient='records')\n",
    "    # Merge it with the current data frame\n",
    "    df = pd.concat([df, df_new])\n",
    "#decrompess the nested data and add it to the table\n",
    "df[\"latitude\"] = df.latitude = pd.DataFrame(df.location.values.tolist())['latitude'].astype(float)\n",
    "df[\"longitude\"] = df.longitude = pd.DataFrame(df.location.values.tolist())['longitude'].astype(float)\n",
    "#df['month'] =  pd.to_datetime(df['month'], format='%Y-%m')\n",
    "#df = df.groupby(['month','id','category'])['location'].apply(','.join).reset_index()    \n",
    "\n",
    "#make it look pretty with less superfluous crap\n",
    "craven = df[['id', 'category', 'month', 'longitude', 'latitude']]"
   ]
  },
  {
   "cell_type": "markdown",
   "metadata": {},
   "source": [
    "## Glance at the data\n",
    "As can be seen below, in Skipton the majority of the crimes are anti social behaviour and violent crime with them accounting for 60.36 percent of all crime in Skipton during the 6 month time period."
   ]
  },
  {
   "cell_type": "code",
   "execution_count": 11,
   "metadata": {},
   "outputs": [
    {
     "data": {
      "text/html": [
       "<div>\n",
       "<style scoped>\n",
       "    .dataframe tbody tr th:only-of-type {\n",
       "        vertical-align: middle;\n",
       "    }\n",
       "\n",
       "    .dataframe tbody tr th {\n",
       "        vertical-align: top;\n",
       "    }\n",
       "\n",
       "    .dataframe thead th {\n",
       "        text-align: right;\n",
       "    }\n",
       "</style>\n",
       "<table border=\"1\" class=\"dataframe\">\n",
       "  <thead>\n",
       "    <tr style=\"text-align: right;\">\n",
       "      <th></th>\n",
       "      <th>Crime Count</th>\n",
       "    </tr>\n",
       "    <tr>\n",
       "      <th>category</th>\n",
       "      <th></th>\n",
       "    </tr>\n",
       "  </thead>\n",
       "  <tbody>\n",
       "    <tr>\n",
       "      <th>anti-social-behaviour</th>\n",
       "      <td>158</td>\n",
       "    </tr>\n",
       "    <tr>\n",
       "      <th>bicycle-theft</th>\n",
       "      <td>1</td>\n",
       "    </tr>\n",
       "    <tr>\n",
       "      <th>burglary</th>\n",
       "      <td>24</td>\n",
       "    </tr>\n",
       "    <tr>\n",
       "      <th>criminal-damage-arson</th>\n",
       "      <td>39</td>\n",
       "    </tr>\n",
       "    <tr>\n",
       "      <th>drugs</th>\n",
       "      <td>12</td>\n",
       "    </tr>\n",
       "    <tr>\n",
       "      <th>other-crime</th>\n",
       "      <td>4</td>\n",
       "    </tr>\n",
       "    <tr>\n",
       "      <th>other-theft</th>\n",
       "      <td>31</td>\n",
       "    </tr>\n",
       "    <tr>\n",
       "      <th>possession-of-weapons</th>\n",
       "      <td>1</td>\n",
       "    </tr>\n",
       "    <tr>\n",
       "      <th>public-order</th>\n",
       "      <td>26</td>\n",
       "    </tr>\n",
       "    <tr>\n",
       "      <th>shoplifting</th>\n",
       "      <td>47</td>\n",
       "    </tr>\n",
       "    <tr>\n",
       "      <th>theft-from-the-person</th>\n",
       "      <td>7</td>\n",
       "    </tr>\n",
       "    <tr>\n",
       "      <th>vehicle-crime</th>\n",
       "      <td>26</td>\n",
       "    </tr>\n",
       "    <tr>\n",
       "      <th>violent-crime</th>\n",
       "      <td>174</td>\n",
       "    </tr>\n",
       "  </tbody>\n",
       "</table>\n",
       "</div>"
      ],
      "text/plain": [
       "                       Crime Count\n",
       "category                          \n",
       "anti-social-behaviour          158\n",
       "bicycle-theft                    1\n",
       "burglary                        24\n",
       "criminal-damage-arson           39\n",
       "drugs                           12\n",
       "other-crime                      4\n",
       "other-theft                     31\n",
       "possession-of-weapons            1\n",
       "public-order                    26\n",
       "shoplifting                     47\n",
       "theft-from-the-person            7\n",
       "vehicle-crime                   26\n",
       "violent-crime                  174"
      ]
     },
     "execution_count": 11,
     "metadata": {},
     "output_type": "execute_result"
    }
   ],
   "source": [
    "#check out the data\n",
    "temp = craven.groupby(['category'])['id'].count()\n",
    "temp.to_frame().rename(columns={\"id\": \"Crime Count\"})"
   ]
  },
  {
   "cell_type": "code",
   "execution_count": 12,
   "metadata": {},
   "outputs": [
    {
     "name": "stdout",
     "output_type": "stream",
     "text": [
      "60.36363636363637\n"
     ]
    }
   ],
   "source": [
    "#find out the percentage of crimes that are violent crime and anti social behaviour\n",
    "sum_vio_ant = temp.transpose()['anti-social-behaviour'] + temp.transpose()['violent-crime']\n",
    "sum_all = temp.sum(axis=0)\n",
    "percent = (sum_vio_ant/sum_all)*100\n",
    "print(percent)"
   ]
  },
  {
   "cell_type": "markdown",
   "metadata": {},
   "source": [
    "## Plot data to a map\n",
    "\n",
    "I plotted the crime data to a map, with a slider allowing the different crime types to be displayed and the colour of the dots displaying the month.\n",
    "\n",
    "### Current issues:\n",
    "\n",
    "The labels on the right are ugly\n",
    "The slider bar is ugly\n",
    "The labels seem to show multiple of a single month\n",
    "The slider seems to display multiple types of crime even when set to a single crime\n",
    "The points on the map are difficult to see compared to the back colour\n",
    "\n"
   ]
  },
  {
   "cell_type": "code",
   "execution_count": 13,
   "metadata": {},
   "outputs": [
    {
     "data": {
      "application/vnd.plotly.v1+json": {
       "config": {
        "plotlyServerURL": "https://plot.ly"
       },
       "data": [
        {
         "hoverlabel": {
          "namelength": 0
         },
         "hovertemplate": "month=2019-09<br>category=anti-social-behaviour<br>latitude=%{lat}<br>longitude=%{lon}",
         "lat": [
          53.960261,
          53.95848,
          53.941606,
          53.962165,
          53.959182,
          53.962165,
          53.959792,
          53.955884,
          53.960395,
          53.953043,
          53.95679,
          53.959217,
          53.958454,
          53.960188,
          53.957356,
          53.958318,
          53.959217,
          53.961132,
          53.95679,
          53.961762,
          53.957115,
          53.957878,
          53.962165,
          53.960459
         ],
         "legendgroup": "month=2019-09",
         "lon": [
          -2.009627,
          -2.018983,
          -2.03552,
          -2.015053,
          -2.00321,
          -2.015053,
          -2.016927,
          -2.008696,
          -2.017049,
          -2.013145,
          -2.020644,
          -2.01813,
          -2.001671,
          -2.018207,
          -2.019852,
          -2.016027,
          -2.01813,
          -2.012904,
          -2.020644,
          -2.002235,
          -2.004642,
          -2.016499,
          -2.015053,
          -1.999309
         ],
         "marker": {
          "color": "#636efa"
         },
         "mode": "markers",
         "name": "month=2019-09",
         "showlegend": true,
         "subplot": "mapbox",
         "type": "scattermapbox"
        },
        {
         "hoverlabel": {
          "namelength": 0
         },
         "hovertemplate": "month=2019-08<br>category=anti-social-behaviour<br>latitude=%{lat}<br>longitude=%{lon}",
         "lat": [
          53.960261,
          53.95848,
          53.941606,
          53.962165,
          53.959182,
          53.962165,
          53.959792,
          53.955884,
          53.960395,
          53.953043,
          53.95679,
          53.959217,
          53.958454,
          53.960188,
          53.957356,
          53.958318,
          53.959217,
          53.961132,
          53.95679,
          53.961762,
          53.957115,
          53.957878,
          53.962165,
          53.960459,
          53.956313,
          53.961743,
          53.95644,
          53.960133,
          53.959217,
          53.959765,
          53.960188,
          53.959981,
          53.957241
         ],
         "legendgroup": "month=2019-08",
         "lon": [
          -2.009627,
          -2.018983,
          -2.03552,
          -2.015053,
          -2.00321,
          -2.015053,
          -2.016927,
          -2.008696,
          -2.017049,
          -2.013145,
          -2.020644,
          -2.01813,
          -2.001671,
          -2.018207,
          -2.019852,
          -2.016027,
          -2.01813,
          -2.012904,
          -2.020644,
          -2.002235,
          -2.004642,
          -2.016499,
          -2.015053,
          -1.999309,
          -2.024057,
          -2.015891,
          -2.016925,
          -2.019655,
          -2.01813,
          -2.017369,
          -2.018207,
          -2.019213,
          -2.001945
         ],
         "marker": {
          "color": "#EF553B"
         },
         "mode": "markers",
         "name": "month=2019-08",
         "showlegend": true,
         "subplot": "mapbox",
         "type": "scattermapbox"
        },
        {
         "hoverlabel": {
          "namelength": 0
         },
         "hovertemplate": "month=2019-07<br>category=anti-social-behaviour<br>latitude=%{lat}<br>longitude=%{lon}",
         "lat": [
          53.960261,
          53.95848,
          53.941606,
          53.962165,
          53.959182,
          53.962165,
          53.959792,
          53.955884,
          53.960395,
          53.953043,
          53.95679,
          53.959217,
          53.958454,
          53.960188,
          53.957356,
          53.958318,
          53.959217,
          53.961132,
          53.95679,
          53.961762,
          53.957115,
          53.957878,
          53.962165,
          53.960459,
          53.956313
         ],
         "legendgroup": "month=2019-07",
         "lon": [
          -2.009627,
          -2.018983,
          -2.03552,
          -2.015053,
          -2.00321,
          -2.015053,
          -2.016927,
          -2.008696,
          -2.017049,
          -2.013145,
          -2.020644,
          -2.01813,
          -2.001671,
          -2.018207,
          -2.019852,
          -2.016027,
          -2.01813,
          -2.012904,
          -2.020644,
          -2.002235,
          -2.004642,
          -2.016499,
          -2.015053,
          -1.999309,
          -2.024057
         ],
         "marker": {
          "color": "#00cc96"
         },
         "mode": "markers",
         "name": "month=2019-07",
         "showlegend": true,
         "subplot": "mapbox",
         "type": "scattermapbox"
        },
        {
         "hoverlabel": {
          "namelength": 0
         },
         "hovertemplate": "month=2019-06<br>category=anti-social-behaviour<br>latitude=%{lat}<br>longitude=%{lon}",
         "lat": [
          53.960261,
          53.95848,
          53.941606,
          53.962165,
          53.959182,
          53.962165,
          53.959792,
          53.955884,
          53.960395,
          53.953043,
          53.95679,
          53.959217,
          53.958454,
          53.960188,
          53.957356,
          53.958318,
          53.959217
         ],
         "legendgroup": "month=2019-06",
         "lon": [
          -2.009627,
          -2.018983,
          -2.03552,
          -2.015053,
          -2.00321,
          -2.015053,
          -2.016927,
          -2.008696,
          -2.017049,
          -2.013145,
          -2.020644,
          -2.01813,
          -2.001671,
          -2.018207,
          -2.019852,
          -2.016027,
          -2.01813
         ],
         "marker": {
          "color": "#ab63fa"
         },
         "mode": "markers",
         "name": "month=2019-06",
         "showlegend": true,
         "subplot": "mapbox",
         "type": "scattermapbox"
        },
        {
         "hoverlabel": {
          "namelength": 0
         },
         "hovertemplate": "month=2019-05<br>category=anti-social-behaviour<br>latitude=%{lat}<br>longitude=%{lon}",
         "lat": [
          53.960261,
          53.95848,
          53.941606,
          53.962165,
          53.959182,
          53.962165,
          53.959792,
          53.955884,
          53.960395,
          53.953043,
          53.95679,
          53.959217,
          53.958454,
          53.960188,
          53.957356,
          53.958318,
          53.959217,
          53.961132,
          53.95679,
          53.961762,
          53.957115,
          53.957878
         ],
         "legendgroup": "month=2019-05",
         "lon": [
          -2.009627,
          -2.018983,
          -2.03552,
          -2.015053,
          -2.00321,
          -2.015053,
          -2.016927,
          -2.008696,
          -2.017049,
          -2.013145,
          -2.020644,
          -2.01813,
          -2.001671,
          -2.018207,
          -2.019852,
          -2.016027,
          -2.01813,
          -2.012904,
          -2.020644,
          -2.002235,
          -2.004642,
          -2.016499
         ],
         "marker": {
          "color": "#FFA15A"
         },
         "mode": "markers",
         "name": "month=2019-05",
         "showlegend": true,
         "subplot": "mapbox",
         "type": "scattermapbox"
        },
        {
         "hoverlabel": {
          "namelength": 0
         },
         "hovertemplate": "month=2019-04<br>category=anti-social-behaviour<br>latitude=%{lat}<br>longitude=%{lon}",
         "lat": [
          53.960261,
          53.95848,
          53.941606,
          53.962165,
          53.959182,
          53.962165,
          53.959792,
          53.955884,
          53.960395,
          53.953043,
          53.95679,
          53.959217,
          53.958454,
          53.960188,
          53.957356,
          53.958318,
          53.959217,
          53.961132,
          53.95679,
          53.961762,
          53.957115,
          53.957878,
          53.962165,
          53.960459,
          53.956313,
          53.961743,
          53.95644,
          53.960133,
          53.959217,
          53.959765,
          53.960188,
          53.959981,
          53.957241,
          53.945296,
          53.953043,
          53.960395,
          53.95679
         ],
         "legendgroup": "month=2019-04",
         "lon": [
          -2.009627,
          -2.018983,
          -2.03552,
          -2.015053,
          -2.00321,
          -2.015053,
          -2.016927,
          -2.008696,
          -2.017049,
          -2.013145,
          -2.020644,
          -2.01813,
          -2.001671,
          -2.018207,
          -2.019852,
          -2.016027,
          -2.01813,
          -2.012904,
          -2.020644,
          -2.002235,
          -2.004642,
          -2.016499,
          -2.015053,
          -1.999309,
          -2.024057,
          -2.015891,
          -2.016925,
          -2.019655,
          -2.01813,
          -2.017369,
          -2.018207,
          -2.019213,
          -2.001945,
          -2.013264,
          -2.013145,
          -2.017049,
          -2.020644
         ],
         "marker": {
          "color": "#19d3f3"
         },
         "mode": "markers",
         "name": "month=2019-04",
         "showlegend": true,
         "subplot": "mapbox",
         "type": "scattermapbox"
        }
       ],
       "frames": [
        {
         "data": [
          {
           "hoverlabel": {
            "namelength": 0
           },
           "hovertemplate": "month=2019-09<br>category=anti-social-behaviour<br>latitude=%{lat}<br>longitude=%{lon}",
           "lat": [
            53.960261,
            53.95848,
            53.941606,
            53.962165,
            53.959182,
            53.962165,
            53.959792,
            53.955884,
            53.960395,
            53.953043,
            53.95679,
            53.959217,
            53.958454,
            53.960188,
            53.957356,
            53.958318,
            53.959217,
            53.961132,
            53.95679,
            53.961762,
            53.957115,
            53.957878,
            53.962165,
            53.960459
           ],
           "legendgroup": "month=2019-09",
           "lon": [
            -2.009627,
            -2.018983,
            -2.03552,
            -2.015053,
            -2.00321,
            -2.015053,
            -2.016927,
            -2.008696,
            -2.017049,
            -2.013145,
            -2.020644,
            -2.01813,
            -2.001671,
            -2.018207,
            -2.019852,
            -2.016027,
            -2.01813,
            -2.012904,
            -2.020644,
            -2.002235,
            -2.004642,
            -2.016499,
            -2.015053,
            -1.999309
           ],
           "marker": {
            "color": "#636efa"
           },
           "mode": "markers",
           "name": "month=2019-09",
           "showlegend": true,
           "subplot": "mapbox",
           "type": "scattermapbox"
          },
          {
           "hoverlabel": {
            "namelength": 0
           },
           "hovertemplate": "month=2019-08<br>category=anti-social-behaviour<br>latitude=%{lat}<br>longitude=%{lon}",
           "lat": [
            53.960261,
            53.95848,
            53.941606,
            53.962165,
            53.959182,
            53.962165,
            53.959792,
            53.955884,
            53.960395,
            53.953043,
            53.95679,
            53.959217,
            53.958454,
            53.960188,
            53.957356,
            53.958318,
            53.959217,
            53.961132,
            53.95679,
            53.961762,
            53.957115,
            53.957878,
            53.962165,
            53.960459,
            53.956313,
            53.961743,
            53.95644,
            53.960133,
            53.959217,
            53.959765,
            53.960188,
            53.959981,
            53.957241
           ],
           "legendgroup": "month=2019-08",
           "lon": [
            -2.009627,
            -2.018983,
            -2.03552,
            -2.015053,
            -2.00321,
            -2.015053,
            -2.016927,
            -2.008696,
            -2.017049,
            -2.013145,
            -2.020644,
            -2.01813,
            -2.001671,
            -2.018207,
            -2.019852,
            -2.016027,
            -2.01813,
            -2.012904,
            -2.020644,
            -2.002235,
            -2.004642,
            -2.016499,
            -2.015053,
            -1.999309,
            -2.024057,
            -2.015891,
            -2.016925,
            -2.019655,
            -2.01813,
            -2.017369,
            -2.018207,
            -2.019213,
            -2.001945
           ],
           "marker": {
            "color": "#EF553B"
           },
           "mode": "markers",
           "name": "month=2019-08",
           "showlegend": true,
           "subplot": "mapbox",
           "type": "scattermapbox"
          },
          {
           "hoverlabel": {
            "namelength": 0
           },
           "hovertemplate": "month=2019-07<br>category=anti-social-behaviour<br>latitude=%{lat}<br>longitude=%{lon}",
           "lat": [
            53.960261,
            53.95848,
            53.941606,
            53.962165,
            53.959182,
            53.962165,
            53.959792,
            53.955884,
            53.960395,
            53.953043,
            53.95679,
            53.959217,
            53.958454,
            53.960188,
            53.957356,
            53.958318,
            53.959217,
            53.961132,
            53.95679,
            53.961762,
            53.957115,
            53.957878,
            53.962165,
            53.960459,
            53.956313
           ],
           "legendgroup": "month=2019-07",
           "lon": [
            -2.009627,
            -2.018983,
            -2.03552,
            -2.015053,
            -2.00321,
            -2.015053,
            -2.016927,
            -2.008696,
            -2.017049,
            -2.013145,
            -2.020644,
            -2.01813,
            -2.001671,
            -2.018207,
            -2.019852,
            -2.016027,
            -2.01813,
            -2.012904,
            -2.020644,
            -2.002235,
            -2.004642,
            -2.016499,
            -2.015053,
            -1.999309,
            -2.024057
           ],
           "marker": {
            "color": "#00cc96"
           },
           "mode": "markers",
           "name": "month=2019-07",
           "showlegend": true,
           "subplot": "mapbox",
           "type": "scattermapbox"
          },
          {
           "hoverlabel": {
            "namelength": 0
           },
           "hovertemplate": "month=2019-06<br>category=anti-social-behaviour<br>latitude=%{lat}<br>longitude=%{lon}",
           "lat": [
            53.960261,
            53.95848,
            53.941606,
            53.962165,
            53.959182,
            53.962165,
            53.959792,
            53.955884,
            53.960395,
            53.953043,
            53.95679,
            53.959217,
            53.958454,
            53.960188,
            53.957356,
            53.958318,
            53.959217
           ],
           "legendgroup": "month=2019-06",
           "lon": [
            -2.009627,
            -2.018983,
            -2.03552,
            -2.015053,
            -2.00321,
            -2.015053,
            -2.016927,
            -2.008696,
            -2.017049,
            -2.013145,
            -2.020644,
            -2.01813,
            -2.001671,
            -2.018207,
            -2.019852,
            -2.016027,
            -2.01813
           ],
           "marker": {
            "color": "#ab63fa"
           },
           "mode": "markers",
           "name": "month=2019-06",
           "showlegend": true,
           "subplot": "mapbox",
           "type": "scattermapbox"
          },
          {
           "hoverlabel": {
            "namelength": 0
           },
           "hovertemplate": "month=2019-05<br>category=anti-social-behaviour<br>latitude=%{lat}<br>longitude=%{lon}",
           "lat": [
            53.960261,
            53.95848,
            53.941606,
            53.962165,
            53.959182,
            53.962165,
            53.959792,
            53.955884,
            53.960395,
            53.953043,
            53.95679,
            53.959217,
            53.958454,
            53.960188,
            53.957356,
            53.958318,
            53.959217,
            53.961132,
            53.95679,
            53.961762,
            53.957115,
            53.957878
           ],
           "legendgroup": "month=2019-05",
           "lon": [
            -2.009627,
            -2.018983,
            -2.03552,
            -2.015053,
            -2.00321,
            -2.015053,
            -2.016927,
            -2.008696,
            -2.017049,
            -2.013145,
            -2.020644,
            -2.01813,
            -2.001671,
            -2.018207,
            -2.019852,
            -2.016027,
            -2.01813,
            -2.012904,
            -2.020644,
            -2.002235,
            -2.004642,
            -2.016499
           ],
           "marker": {
            "color": "#FFA15A"
           },
           "mode": "markers",
           "name": "month=2019-05",
           "showlegend": true,
           "subplot": "mapbox",
           "type": "scattermapbox"
          },
          {
           "hoverlabel": {
            "namelength": 0
           },
           "hovertemplate": "month=2019-04<br>category=anti-social-behaviour<br>latitude=%{lat}<br>longitude=%{lon}",
           "lat": [
            53.960261,
            53.95848,
            53.941606,
            53.962165,
            53.959182,
            53.962165,
            53.959792,
            53.955884,
            53.960395,
            53.953043,
            53.95679,
            53.959217,
            53.958454,
            53.960188,
            53.957356,
            53.958318,
            53.959217,
            53.961132,
            53.95679,
            53.961762,
            53.957115,
            53.957878,
            53.962165,
            53.960459,
            53.956313,
            53.961743,
            53.95644,
            53.960133,
            53.959217,
            53.959765,
            53.960188,
            53.959981,
            53.957241,
            53.945296,
            53.953043,
            53.960395,
            53.95679
           ],
           "legendgroup": "month=2019-04",
           "lon": [
            -2.009627,
            -2.018983,
            -2.03552,
            -2.015053,
            -2.00321,
            -2.015053,
            -2.016927,
            -2.008696,
            -2.017049,
            -2.013145,
            -2.020644,
            -2.01813,
            -2.001671,
            -2.018207,
            -2.019852,
            -2.016027,
            -2.01813,
            -2.012904,
            -2.020644,
            -2.002235,
            -2.004642,
            -2.016499,
            -2.015053,
            -1.999309,
            -2.024057,
            -2.015891,
            -2.016925,
            -2.019655,
            -2.01813,
            -2.017369,
            -2.018207,
            -2.019213,
            -2.001945,
            -2.013264,
            -2.013145,
            -2.017049,
            -2.020644
           ],
           "marker": {
            "color": "#19d3f3"
           },
           "mode": "markers",
           "name": "month=2019-04",
           "showlegend": true,
           "subplot": "mapbox",
           "type": "scattermapbox"
          }
         ],
         "name": "anti-social-behaviour"
        },
        {
         "data": [
          {
           "hoverlabel": {
            "namelength": 0
           },
           "hovertemplate": "month=2019-09<br>category=bicycle-theft<br>latitude=%{lat}<br>longitude=%{lon}",
           "lat": [
            53.956313
           ],
           "legendgroup": "month=2019-09",
           "lon": [
            -2.024057
           ],
           "marker": {
            "color": "#636efa"
           },
           "mode": "markers",
           "name": "month=2019-09",
           "showlegend": true,
           "subplot": "mapbox",
           "type": "scattermapbox"
          }
         ],
         "name": "bicycle-theft"
        },
        {
         "data": [
          {
           "hoverlabel": {
            "namelength": 0
           },
           "hovertemplate": "month=2019-09<br>category=burglary<br>latitude=%{lat}<br>longitude=%{lon}",
           "lat": [
            53.961743,
            53.95644
           ],
           "legendgroup": "month=2019-09",
           "lon": [
            -2.015891,
            -2.016925
           ],
           "marker": {
            "color": "#636efa"
           },
           "mode": "markers",
           "name": "month=2019-09",
           "showlegend": true,
           "subplot": "mapbox",
           "type": "scattermapbox"
          },
          {
           "hoverlabel": {
            "namelength": 0
           },
           "hovertemplate": "month=2019-08<br>category=burglary<br>latitude=%{lat}<br>longitude=%{lon}",
           "lat": [
            53.945296,
            53.953043,
            53.960395,
            53.95679,
            53.961042,
            53.961077,
            53.953043
           ],
           "legendgroup": "month=2019-08",
           "lon": [
            -2.013264,
            -2.013145,
            -2.017049,
            -2.020644,
            -2.015144,
            -2.019411,
            -2.013145
           ],
           "marker": {
            "color": "#EF553B"
           },
           "mode": "markers",
           "name": "month=2019-08",
           "showlegend": true,
           "subplot": "mapbox",
           "type": "scattermapbox"
          },
          {
           "hoverlabel": {
            "namelength": 0
           },
           "hovertemplate": "month=2019-07<br>category=burglary<br>latitude=%{lat}<br>longitude=%{lon}",
           "lat": [
            53.961743,
            53.95644,
            53.960133,
            53.959217,
            53.959765,
            53.960188
           ],
           "legendgroup": "month=2019-07",
           "lon": [
            -2.015891,
            -2.016925,
            -2.019655,
            -2.01813,
            -2.017369,
            -2.018207
           ],
           "marker": {
            "color": "#00cc96"
           },
           "mode": "markers",
           "name": "month=2019-07",
           "showlegend": true,
           "subplot": "mapbox",
           "type": "scattermapbox"
          },
          {
           "hoverlabel": {
            "namelength": 0
           },
           "hovertemplate": "month=2019-06<br>category=burglary<br>latitude=%{lat}<br>longitude=%{lon}",
           "lat": [
            53.961132,
            53.95679,
            53.961762
           ],
           "legendgroup": "month=2019-06",
           "lon": [
            -2.012904,
            -2.020644,
            -2.002235
           ],
           "marker": {
            "color": "#ab63fa"
           },
           "mode": "markers",
           "name": "month=2019-06",
           "showlegend": true,
           "subplot": "mapbox",
           "type": "scattermapbox"
          },
          {
           "hoverlabel": {
            "namelength": 0
           },
           "hovertemplate": "month=2019-05<br>category=burglary<br>latitude=%{lat}<br>longitude=%{lon}",
           "lat": [
            53.962165,
            53.960459,
            53.956313,
            53.961743,
            53.95644,
            53.960133
           ],
           "legendgroup": "month=2019-05",
           "lon": [
            -2.015053,
            -1.999309,
            -2.024057,
            -2.015891,
            -2.016925,
            -2.019655
           ],
           "marker": {
            "color": "#FFA15A"
           },
           "mode": "markers",
           "name": "month=2019-05",
           "showlegend": true,
           "subplot": "mapbox",
           "type": "scattermapbox"
          }
         ],
         "name": "burglary"
        },
        {
         "data": [
          {
           "hoverlabel": {
            "namelength": 0
           },
           "hovertemplate": "month=2019-09<br>category=criminal-damage-arson<br>latitude=%{lat}<br>longitude=%{lon}",
           "lat": [
            53.960133,
            53.959217,
            53.959765
           ],
           "legendgroup": "month=2019-09",
           "lon": [
            -2.019655,
            -2.01813,
            -2.017369
           ],
           "marker": {
            "color": "#636efa"
           },
           "mode": "markers",
           "name": "month=2019-09",
           "showlegend": true,
           "subplot": "mapbox",
           "type": "scattermapbox"
          },
          {
           "hoverlabel": {
            "namelength": 0
           },
           "hovertemplate": "month=2019-08<br>category=criminal-damage-arson<br>latitude=%{lat}<br>longitude=%{lon}",
           "lat": [
            53.961743,
            53.959082,
            53.962165,
            53.960395,
            53.961743,
            53.961141,
            53.961743,
            53.959082
           ],
           "legendgroup": "month=2019-08",
           "lon": [
            -2.015891,
            -2.020919,
            -2.015053,
            -2.017049,
            -2.015891,
            -2.01519,
            -2.015891,
            -2.020919
           ],
           "marker": {
            "color": "#EF553B"
           },
           "mode": "markers",
           "name": "month=2019-08",
           "showlegend": true,
           "subplot": "mapbox",
           "type": "scattermapbox"
          },
          {
           "hoverlabel": {
            "namelength": 0
           },
           "hovertemplate": "month=2019-07<br>category=criminal-damage-arson<br>latitude=%{lat}<br>longitude=%{lon}",
           "lat": [
            53.959981,
            53.957241,
            53.945296,
            53.953043,
            53.960395,
            53.95679,
            53.961042,
            53.961077,
            53.953043
           ],
           "legendgroup": "month=2019-07",
           "lon": [
            -2.019213,
            -2.001945,
            -2.013264,
            -2.013145,
            -2.017049,
            -2.020644,
            -2.015144,
            -2.019411,
            -2.013145
           ],
           "marker": {
            "color": "#00cc96"
           },
           "mode": "markers",
           "name": "month=2019-07",
           "showlegend": true,
           "subplot": "mapbox",
           "type": "scattermapbox"
          },
          {
           "hoverlabel": {
            "namelength": 0
           },
           "hovertemplate": "month=2019-06<br>category=criminal-damage-arson<br>latitude=%{lat}<br>longitude=%{lon}",
           "lat": [
            53.957115,
            53.957878,
            53.962165,
            53.960459,
            53.956313
           ],
           "legendgroup": "month=2019-06",
           "lon": [
            -2.004642,
            -2.016499,
            -2.015053,
            -1.999309,
            -2.024057
           ],
           "marker": {
            "color": "#ab63fa"
           },
           "mode": "markers",
           "name": "month=2019-06",
           "showlegend": true,
           "subplot": "mapbox",
           "type": "scattermapbox"
          },
          {
           "hoverlabel": {
            "namelength": 0
           },
           "hovertemplate": "month=2019-05<br>category=criminal-damage-arson<br>latitude=%{lat}<br>longitude=%{lon}",
           "lat": [
            53.959217,
            53.959765,
            53.960188,
            53.959981,
            53.957241,
            53.945296,
            53.953043,
            53.960395,
            53.95679
           ],
           "legendgroup": "month=2019-05",
           "lon": [
            -2.01813,
            -2.017369,
            -2.018207,
            -2.019213,
            -2.001945,
            -2.013264,
            -2.013145,
            -2.017049,
            -2.020644
           ],
           "marker": {
            "color": "#FFA15A"
           },
           "mode": "markers",
           "name": "month=2019-05",
           "showlegend": true,
           "subplot": "mapbox",
           "type": "scattermapbox"
          },
          {
           "hoverlabel": {
            "namelength": 0
           },
           "hovertemplate": "month=2019-04<br>category=criminal-damage-arson<br>latitude=%{lat}<br>longitude=%{lon}",
           "lat": [
            53.961042,
            53.961077,
            53.953043,
            53.961743,
            53.959082
           ],
           "legendgroup": "month=2019-04",
           "lon": [
            -2.015144,
            -2.019411,
            -2.013145,
            -2.015891,
            -2.020919
           ],
           "marker": {
            "color": "#19d3f3"
           },
           "mode": "markers",
           "name": "month=2019-04",
           "showlegend": true,
           "subplot": "mapbox",
           "type": "scattermapbox"
          }
         ],
         "name": "criminal-damage-arson"
        },
        {
         "data": [
          {
           "hoverlabel": {
            "namelength": 0
           },
           "hovertemplate": "month=2019-09<br>category=other-theft<br>latitude=%{lat}<br>longitude=%{lon}",
           "lat": [
            53.960188,
            53.959981,
            53.957241,
            53.945296
           ],
           "legendgroup": "month=2019-09",
           "lon": [
            -2.018207,
            -2.019213,
            -2.001945,
            -2.013264
           ],
           "marker": {
            "color": "#636efa"
           },
           "mode": "markers",
           "name": "month=2019-09",
           "showlegend": true,
           "subplot": "mapbox",
           "type": "scattermapbox"
          },
          {
           "hoverlabel": {
            "namelength": 0
           },
           "hovertemplate": "month=2019-08<br>category=other-theft<br>latitude=%{lat}<br>longitude=%{lon}",
           "lat": [
            53.960395,
            53.956701,
            53.950984,
            53.957132,
            53.957132,
            53.957132
           ],
           "legendgroup": "month=2019-08",
           "lon": [
            -2.017049,
            -2.013725,
            -2.019391,
            -2.018556,
            -2.018556,
            -2.018556
           ],
           "marker": {
            "color": "#EF553B"
           },
           "mode": "markers",
           "name": "month=2019-08",
           "showlegend": true,
           "subplot": "mapbox",
           "type": "scattermapbox"
          },
          {
           "hoverlabel": {
            "namelength": 0
           },
           "hovertemplate": "month=2019-07<br>category=other-theft<br>latitude=%{lat}<br>longitude=%{lon}",
           "lat": [
            53.962165,
            53.960395,
            53.961743,
            53.961141,
            53.961743
           ],
           "legendgroup": "month=2019-07",
           "lon": [
            -2.015053,
            -2.017049,
            -2.015891,
            -2.01519,
            -2.015891
           ],
           "marker": {
            "color": "#00cc96"
           },
           "mode": "markers",
           "name": "month=2019-07",
           "showlegend": true,
           "subplot": "mapbox",
           "type": "scattermapbox"
          },
          {
           "hoverlabel": {
            "namelength": 0
           },
           "hovertemplate": "month=2019-06<br>category=other-theft<br>latitude=%{lat}<br>longitude=%{lon}",
           "lat": [
            53.959765,
            53.960188,
            53.959981,
            53.957241
           ],
           "legendgroup": "month=2019-06",
           "lon": [
            -2.017369,
            -2.018207,
            -2.019213,
            -2.001945
           ],
           "marker": {
            "color": "#ab63fa"
           },
           "mode": "markers",
           "name": "month=2019-06",
           "showlegend": true,
           "subplot": "mapbox",
           "type": "scattermapbox"
          },
          {
           "hoverlabel": {
            "namelength": 0
           },
           "hovertemplate": "month=2019-05<br>category=other-theft<br>latitude=%{lat}<br>longitude=%{lon}",
           "lat": [
            53.961743,
            53.959082,
            53.962165,
            53.960395,
            53.961743,
            53.961141
           ],
           "legendgroup": "month=2019-05",
           "lon": [
            -2.015891,
            -2.020919,
            -2.015053,
            -2.017049,
            -2.015891,
            -2.01519
           ],
           "marker": {
            "color": "#FFA15A"
           },
           "mode": "markers",
           "name": "month=2019-05",
           "showlegend": true,
           "subplot": "mapbox",
           "type": "scattermapbox"
          },
          {
           "hoverlabel": {
            "namelength": 0
           },
           "hovertemplate": "month=2019-04<br>category=other-theft<br>latitude=%{lat}<br>longitude=%{lon}",
           "lat": [
            53.961743,
            53.961141,
            53.961743,
            53.959082,
            53.961159,
            53.960395
           ],
           "legendgroup": "month=2019-04",
           "lon": [
            -2.015891,
            -2.01519,
            -2.015891,
            -2.020919,
            -2.016485,
            -2.017049
           ],
           "marker": {
            "color": "#19d3f3"
           },
           "mode": "markers",
           "name": "month=2019-04",
           "showlegend": true,
           "subplot": "mapbox",
           "type": "scattermapbox"
          }
         ],
         "name": "other-theft"
        },
        {
         "data": [
          {
           "hoverlabel": {
            "namelength": 0
           },
           "hovertemplate": "month=2019-09<br>category=public-order<br>latitude=%{lat}<br>longitude=%{lon}",
           "lat": [
            53.953043,
            53.960395,
            53.95679,
            53.961042,
            53.961077,
            53.953043
           ],
           "legendgroup": "month=2019-09",
           "lon": [
            -2.013145,
            -2.017049,
            -2.020644,
            -2.015144,
            -2.019411,
            -2.013145
           ],
           "marker": {
            "color": "#636efa"
           },
           "mode": "markers",
           "name": "month=2019-09",
           "showlegend": true,
           "subplot": "mapbox",
           "type": "scattermapbox"
          },
          {
           "hoverlabel": {
            "namelength": 0
           },
           "hovertemplate": "month=2019-08<br>category=public-order<br>latitude=%{lat}<br>longitude=%{lon}",
           "lat": [
            53.953043,
            53.960099,
            53.953203,
            53.953203,
            53.961005
           ],
           "legendgroup": "month=2019-08",
           "lon": [
            -2.013145,
            -2.012294,
            -2.022349,
            -2.022349,
            -2.018436
           ],
           "marker": {
            "color": "#EF553B"
           },
           "mode": "markers",
           "name": "month=2019-08",
           "showlegend": true,
           "subplot": "mapbox",
           "type": "scattermapbox"
          },
          {
           "hoverlabel": {
            "namelength": 0
           },
           "hovertemplate": "month=2019-07<br>category=public-order<br>latitude=%{lat}<br>longitude=%{lon}",
           "lat": [
            53.959082,
            53.961159,
            53.960395,
            53.956701,
            53.950984
           ],
           "legendgroup": "month=2019-07",
           "lon": [
            -2.020919,
            -2.016485,
            -2.017049,
            -2.013725,
            -2.019391
           ],
           "marker": {
            "color": "#00cc96"
           },
           "mode": "markers",
           "name": "month=2019-07",
           "showlegend": true,
           "subplot": "mapbox",
           "type": "scattermapbox"
          },
          {
           "hoverlabel": {
            "namelength": 0
           },
           "hovertemplate": "month=2019-06<br>category=public-order<br>latitude=%{lat}<br>longitude=%{lon}",
           "lat": [
            53.945296,
            53.953043
           ],
           "legendgroup": "month=2019-06",
           "lon": [
            -2.013264,
            -2.013145
           ],
           "marker": {
            "color": "#ab63fa"
           },
           "mode": "markers",
           "name": "month=2019-06",
           "showlegend": true,
           "subplot": "mapbox",
           "type": "scattermapbox"
          },
          {
           "hoverlabel": {
            "namelength": 0
           },
           "hovertemplate": "month=2019-05<br>category=public-order<br>latitude=%{lat}<br>longitude=%{lon}",
           "lat": [
            53.959082,
            53.961159
           ],
           "legendgroup": "month=2019-05",
           "lon": [
            -2.020919,
            -2.016485
           ],
           "marker": {
            "color": "#FFA15A"
           },
           "mode": "markers",
           "name": "month=2019-05",
           "showlegend": true,
           "subplot": "mapbox",
           "type": "scattermapbox"
          },
          {
           "hoverlabel": {
            "namelength": 0
           },
           "hovertemplate": "month=2019-04<br>category=public-order<br>latitude=%{lat}<br>longitude=%{lon}",
           "lat": [
            53.956701,
            53.950984,
            53.957132,
            53.957132,
            53.957132,
            53.953043
           ],
           "legendgroup": "month=2019-04",
           "lon": [
            -2.013725,
            -2.019391,
            -2.018556,
            -2.018556,
            -2.018556,
            -2.013145
           ],
           "marker": {
            "color": "#19d3f3"
           },
           "mode": "markers",
           "name": "month=2019-04",
           "showlegend": true,
           "subplot": "mapbox",
           "type": "scattermapbox"
          }
         ],
         "name": "public-order"
        },
        {
         "data": [
          {
           "hoverlabel": {
            "namelength": 0
           },
           "hovertemplate": "month=2019-09<br>category=shoplifting<br>latitude=%{lat}<br>longitude=%{lon}",
           "lat": [
            53.961743,
            53.959082,
            53.962165,
            53.960395,
            53.961743,
            53.961141,
            53.961743,
            53.959082,
            53.961159,
            53.960395
           ],
           "legendgroup": "month=2019-09",
           "lon": [
            -2.015891,
            -2.020919,
            -2.015053,
            -2.017049,
            -2.015891,
            -2.01519,
            -2.015891,
            -2.020919,
            -2.016485,
            -2.017049
           ],
           "marker": {
            "color": "#636efa"
           },
           "mode": "markers",
           "name": "month=2019-09",
           "showlegend": true,
           "subplot": "mapbox",
           "type": "scattermapbox"
          },
          {
           "hoverlabel": {
            "namelength": 0
           },
           "hovertemplate": "month=2019-08<br>category=shoplifting<br>latitude=%{lat}<br>longitude=%{lon}",
           "lat": [
            53.961159,
            53.954733,
            53.951568,
            53.958327,
            53.962372,
            53.959217,
            53.960395,
            53.95848,
            53.960133,
            53.959217,
            53.944208
           ],
           "legendgroup": "month=2019-08",
           "lon": [
            -2.016485,
            -2.010372,
            -2.023171,
            -2.020599,
            -2.017263,
            -2.01813,
            -2.017049,
            -2.018983,
            -2.019655,
            -2.01813,
            -2.012456
           ],
           "marker": {
            "color": "#EF553B"
           },
           "mode": "markers",
           "name": "month=2019-08",
           "showlegend": true,
           "subplot": "mapbox",
           "type": "scattermapbox"
          },
          {
           "hoverlabel": {
            "namelength": 0
           },
           "hovertemplate": "month=2019-07<br>category=shoplifting<br>latitude=%{lat}<br>longitude=%{lon}",
           "lat": [
            53.957132,
            53.957132,
            53.957132,
            53.953043,
            53.960099,
            53.953203,
            53.953203,
            53.961005,
            53.961159
           ],
           "legendgroup": "month=2019-07",
           "lon": [
            -2.018556,
            -2.018556,
            -2.018556,
            -2.013145,
            -2.012294,
            -2.022349,
            -2.022349,
            -2.018436,
            -2.016485
           ],
           "marker": {
            "color": "#00cc96"
           },
           "mode": "markers",
           "name": "month=2019-07",
           "showlegend": true,
           "subplot": "mapbox",
           "type": "scattermapbox"
          },
          {
           "hoverlabel": {
            "namelength": 0
           },
           "hovertemplate": "month=2019-06<br>category=shoplifting<br>latitude=%{lat}<br>longitude=%{lon}",
           "lat": [
            53.960395,
            53.95679,
            53.961042,
            53.961077,
            53.953043
           ],
           "legendgroup": "month=2019-06",
           "lon": [
            -2.017049,
            -2.020644,
            -2.015144,
            -2.019411,
            -2.013145
           ],
           "marker": {
            "color": "#ab63fa"
           },
           "mode": "markers",
           "name": "month=2019-06",
           "showlegend": true,
           "subplot": "mapbox",
           "type": "scattermapbox"
          },
          {
           "hoverlabel": {
            "namelength": 0
           },
           "hovertemplate": "month=2019-05<br>category=shoplifting<br>latitude=%{lat}<br>longitude=%{lon}",
           "lat": [
            53.960395,
            53.956701,
            53.950984,
            53.957132,
            53.957132,
            53.957132
           ],
           "legendgroup": "month=2019-05",
           "lon": [
            -2.017049,
            -2.013725,
            -2.019391,
            -2.018556,
            -2.018556,
            -2.018556
           ],
           "marker": {
            "color": "#FFA15A"
           },
           "mode": "markers",
           "name": "month=2019-05",
           "showlegend": true,
           "subplot": "mapbox",
           "type": "scattermapbox"
          },
          {
           "hoverlabel": {
            "namelength": 0
           },
           "hovertemplate": "month=2019-04<br>category=shoplifting<br>latitude=%{lat}<br>longitude=%{lon}",
           "lat": [
            53.960099,
            53.953203,
            53.953203,
            53.961005,
            53.961159,
            53.954733
           ],
           "legendgroup": "month=2019-04",
           "lon": [
            -2.012294,
            -2.022349,
            -2.022349,
            -2.018436,
            -2.016485,
            -2.010372
           ],
           "marker": {
            "color": "#19d3f3"
           },
           "mode": "markers",
           "name": "month=2019-04",
           "showlegend": true,
           "subplot": "mapbox",
           "type": "scattermapbox"
          }
         ],
         "name": "shoplifting"
        },
        {
         "data": [
          {
           "hoverlabel": {
            "namelength": 0
           },
           "hovertemplate": "month=2019-09<br>category=vehicle-crime<br>latitude=%{lat}<br>longitude=%{lon}",
           "lat": [
            53.956701,
            53.950984
           ],
           "legendgroup": "month=2019-09",
           "lon": [
            -2.013725,
            -2.019391
           ],
           "marker": {
            "color": "#636efa"
           },
           "mode": "markers",
           "name": "month=2019-09",
           "showlegend": true,
           "subplot": "mapbox",
           "type": "scattermapbox"
          },
          {
           "hoverlabel": {
            "namelength": 0
           },
           "hovertemplate": "month=2019-08<br>category=vehicle-crime<br>latitude=%{lat}<br>longitude=%{lon}",
           "lat": [
            53.95848,
            53.957905,
            53.960459
           ],
           "legendgroup": "month=2019-08",
           "lon": [
            -2.018983,
            -2.015051,
            -1.999309
           ],
           "marker": {
            "color": "#EF553B"
           },
           "mode": "markers",
           "name": "month=2019-08",
           "showlegend": true,
           "subplot": "mapbox",
           "type": "scattermapbox"
          },
          {
           "hoverlabel": {
            "namelength": 0
           },
           "hovertemplate": "month=2019-07<br>category=vehicle-crime<br>latitude=%{lat}<br>longitude=%{lon}",
           "lat": [
            53.958327,
            53.962372,
            53.959217,
            53.960395,
            53.95848
           ],
           "legendgroup": "month=2019-07",
           "lon": [
            -2.020599,
            -2.017263,
            -2.01813,
            -2.017049,
            -2.018983
           ],
           "marker": {
            "color": "#00cc96"
           },
           "mode": "markers",
           "name": "month=2019-07",
           "showlegend": true,
           "subplot": "mapbox",
           "type": "scattermapbox"
          },
          {
           "hoverlabel": {
            "namelength": 0
           },
           "hovertemplate": "month=2019-06<br>category=vehicle-crime<br>latitude=%{lat}<br>longitude=%{lon}",
           "lat": [
            53.959082
           ],
           "legendgroup": "month=2019-06",
           "lon": [
            -2.020919
           ],
           "marker": {
            "color": "#ab63fa"
           },
           "mode": "markers",
           "name": "month=2019-06",
           "showlegend": true,
           "subplot": "mapbox",
           "type": "scattermapbox"
          },
          {
           "hoverlabel": {
            "namelength": 0
           },
           "hovertemplate": "month=2019-05<br>category=vehicle-crime<br>latitude=%{lat}<br>longitude=%{lon}",
           "lat": [
            53.961005,
            53.961159,
            53.954733,
            53.951568,
            53.958327,
            53.962372,
            53.959217,
            53.960395,
            53.95848,
            53.960133,
            53.959217
           ],
           "legendgroup": "month=2019-05",
           "lon": [
            -2.018436,
            -2.016485,
            -2.010372,
            -2.023171,
            -2.020599,
            -2.017263,
            -2.01813,
            -2.017049,
            -2.018983,
            -2.019655,
            -2.01813
           ],
           "marker": {
            "color": "#FFA15A"
           },
           "mode": "markers",
           "name": "month=2019-05",
           "showlegend": true,
           "subplot": "mapbox",
           "type": "scattermapbox"
          },
          {
           "hoverlabel": {
            "namelength": 0
           },
           "hovertemplate": "month=2019-04<br>category=vehicle-crime<br>latitude=%{lat}<br>longitude=%{lon}",
           "lat": [
            53.951568,
            53.958327,
            53.962372,
            53.959217
           ],
           "legendgroup": "month=2019-04",
           "lon": [
            -2.023171,
            -2.020599,
            -2.017263,
            -2.01813
           ],
           "marker": {
            "color": "#19d3f3"
           },
           "mode": "markers",
           "name": "month=2019-04",
           "showlegend": true,
           "subplot": "mapbox",
           "type": "scattermapbox"
          }
         ],
         "name": "vehicle-crime"
        },
        {
         "data": [
          {
           "hoverlabel": {
            "namelength": 0
           },
           "hovertemplate": "month=2019-09<br>category=violent-crime<br>latitude=%{lat}<br>longitude=%{lon}",
           "lat": [
            53.957132,
            53.957132,
            53.957132,
            53.953043,
            53.960099,
            53.953203,
            53.953203,
            53.961005,
            53.961159,
            53.954733,
            53.951568,
            53.958327,
            53.962372,
            53.959217,
            53.960395,
            53.95848,
            53.960133,
            53.959217,
            53.944208,
            53.95848,
            53.957905,
            53.960459,
            53.954733,
            53.961654,
            53.960395,
            53.957277,
            53.939454,
            53.939454,
            53.959082,
            53.956332
           ],
           "legendgroup": "month=2019-09",
           "lon": [
            -2.018556,
            -2.018556,
            -2.018556,
            -2.013145,
            -2.012294,
            -2.022349,
            -2.022349,
            -2.018436,
            -2.016485,
            -2.010372,
            -2.023171,
            -2.020599,
            -2.017263,
            -2.01813,
            -2.017049,
            -2.018983,
            -2.019655,
            -2.01813,
            -2.012456,
            -2.018983,
            -2.015051,
            -1.999309,
            -2.010372,
            -2.011105,
            -2.017049,
            -2.003911,
            -2.013658,
            -2.013658,
            -2.020919,
            -2.019912
           ],
           "marker": {
            "color": "#636efa"
           },
           "mode": "markers",
           "name": "month=2019-09",
           "showlegend": true,
           "subplot": "mapbox",
           "type": "scattermapbox"
          },
          {
           "hoverlabel": {
            "namelength": 0
           },
           "hovertemplate": "month=2019-08<br>category=violent-crime<br>latitude=%{lat}<br>longitude=%{lon}",
           "lat": [
            53.954733,
            53.961654,
            53.960395,
            53.957277,
            53.939454,
            53.939454,
            53.959082,
            53.956332,
            53.959217,
            53.953203,
            53.957475,
            53.959792,
            53.951568,
            53.96728,
            53.961159,
            53.951568,
            53.961159,
            53.946812,
            53.960395,
            53.961743,
            53.959892,
            53.959981,
            53.957438,
            53.951325,
            53.953203,
            53.962372
           ],
           "legendgroup": "month=2019-08",
           "lon": [
            -2.010372,
            -2.011105,
            -2.017049,
            -2.003911,
            -2.013658,
            -2.013658,
            -2.020919,
            -2.019912,
            -2.01813,
            -2.022349,
            -2.006486,
            -2.016927,
            -2.023171,
            -2.006793,
            -2.016485,
            -2.023171,
            -2.016485,
            -2.026703,
            -2.017049,
            -2.015891,
            -2.008255,
            -2.019213,
            -2.014091,
            -2.021875,
            -2.022349,
            -2.017263
           ],
           "marker": {
            "color": "#EF553B"
           },
           "mode": "markers",
           "name": "month=2019-08",
           "showlegend": true,
           "subplot": "mapbox",
           "type": "scattermapbox"
          },
          {
           "hoverlabel": {
            "namelength": 0
           },
           "hovertemplate": "month=2019-07<br>category=violent-crime<br>latitude=%{lat}<br>longitude=%{lon}",
           "lat": [
            53.960133,
            53.959217,
            53.944208,
            53.95848,
            53.957905,
            53.960459,
            53.954733,
            53.961654,
            53.960395,
            53.957277,
            53.939454,
            53.939454,
            53.959082,
            53.956332,
            53.959217,
            53.953203,
            53.957475,
            53.959792,
            53.951568,
            53.96728,
            53.961159,
            53.951568,
            53.961159,
            53.946812,
            53.960395,
            53.961743,
            53.959892,
            53.959981,
            53.957438,
            53.951325
           ],
           "legendgroup": "month=2019-07",
           "lon": [
            -2.019655,
            -2.01813,
            -2.012456,
            -2.018983,
            -2.015051,
            -1.999309,
            -2.010372,
            -2.011105,
            -2.017049,
            -2.003911,
            -2.013658,
            -2.013658,
            -2.020919,
            -2.019912,
            -2.01813,
            -2.022349,
            -2.006486,
            -2.016927,
            -2.023171,
            -2.006793,
            -2.016485,
            -2.023171,
            -2.016485,
            -2.026703,
            -2.017049,
            -2.015891,
            -2.008255,
            -2.019213,
            -2.014091,
            -2.021875
           ],
           "marker": {
            "color": "#00cc96"
           },
           "mode": "markers",
           "name": "month=2019-07",
           "showlegend": true,
           "subplot": "mapbox",
           "type": "scattermapbox"
          },
          {
           "hoverlabel": {
            "namelength": 0
           },
           "hovertemplate": "month=2019-06<br>category=violent-crime<br>latitude=%{lat}<br>longitude=%{lon}",
           "lat": [
            53.962165,
            53.960395,
            53.961743,
            53.961141,
            53.961743,
            53.959082,
            53.961159,
            53.960395,
            53.956701,
            53.950984,
            53.957132,
            53.957132,
            53.957132,
            53.953043,
            53.960099,
            53.953203,
            53.953203,
            53.961005,
            53.961159,
            53.954733,
            53.951568,
            53.958327,
            53.962372,
            53.959217,
            53.960395,
            53.95848,
            53.960133,
            53.959217,
            53.944208
           ],
           "legendgroup": "month=2019-06",
           "lon": [
            -2.015053,
            -2.017049,
            -2.015891,
            -2.01519,
            -2.015891,
            -2.020919,
            -2.016485,
            -2.017049,
            -2.013725,
            -2.019391,
            -2.018556,
            -2.018556,
            -2.018556,
            -2.013145,
            -2.012294,
            -2.022349,
            -2.022349,
            -2.018436,
            -2.016485,
            -2.010372,
            -2.023171,
            -2.020599,
            -2.017263,
            -2.01813,
            -2.017049,
            -2.018983,
            -2.019655,
            -2.01813,
            -2.012456
           ],
           "marker": {
            "color": "#ab63fa"
           },
           "mode": "markers",
           "name": "month=2019-06",
           "showlegend": true,
           "subplot": "mapbox",
           "type": "scattermapbox"
          },
          {
           "hoverlabel": {
            "namelength": 0
           },
           "hovertemplate": "month=2019-05<br>category=violent-crime<br>latitude=%{lat}<br>longitude=%{lon}",
           "lat": [
            53.944208,
            53.95848,
            53.957905,
            53.960459,
            53.954733,
            53.961654,
            53.960395,
            53.957277,
            53.939454,
            53.939454,
            53.959082,
            53.956332,
            53.959217,
            53.953203,
            53.957475,
            53.959792,
            53.951568,
            53.96728,
            53.961159,
            53.951568,
            53.961159,
            53.946812,
            53.960395,
            53.961743,
            53.959892,
            53.959981,
            53.957438,
            53.951325,
            53.953203,
            53.962372,
            53.962435,
            53.957132,
            53.960395,
            53.959981,
            53.960395,
            53.959218,
            53.953203
           ],
           "legendgroup": "month=2019-05",
           "lon": [
            -2.012456,
            -2.018983,
            -2.015051,
            -1.999309,
            -2.010372,
            -2.011105,
            -2.017049,
            -2.003911,
            -2.013658,
            -2.013658,
            -2.020919,
            -2.019912,
            -2.01813,
            -2.022349,
            -2.006486,
            -2.016927,
            -2.023171,
            -2.006793,
            -2.016485,
            -2.023171,
            -2.016485,
            -2.026703,
            -2.017049,
            -2.015891,
            -2.008255,
            -2.019213,
            -2.014091,
            -2.021875,
            -2.022349,
            -2.017263,
            -2.013757,
            -2.018556,
            -2.017049,
            -2.019213,
            -2.017049,
            -2.013147,
            -2.022349
           ],
           "marker": {
            "color": "#FFA15A"
           },
           "mode": "markers",
           "name": "month=2019-05",
           "showlegend": true,
           "subplot": "mapbox",
           "type": "scattermapbox"
          },
          {
           "hoverlabel": {
            "namelength": 0
           },
           "hovertemplate": "month=2019-04<br>category=violent-crime<br>latitude=%{lat}<br>longitude=%{lon}",
           "lat": [
            53.960395,
            53.95848,
            53.960133,
            53.959217,
            53.944208,
            53.95848,
            53.957905,
            53.960459,
            53.954733,
            53.961654,
            53.960395,
            53.957277,
            53.939454,
            53.939454,
            53.959082,
            53.956332,
            53.959217,
            53.953203,
            53.957475,
            53.959792,
            53.951568,
            53.96728
           ],
           "legendgroup": "month=2019-04",
           "lon": [
            -2.017049,
            -2.018983,
            -2.019655,
            -2.01813,
            -2.012456,
            -2.018983,
            -2.015051,
            -1.999309,
            -2.010372,
            -2.011105,
            -2.017049,
            -2.003911,
            -2.013658,
            -2.013658,
            -2.020919,
            -2.019912,
            -2.01813,
            -2.022349,
            -2.006486,
            -2.016927,
            -2.023171,
            -2.006793
           ],
           "marker": {
            "color": "#19d3f3"
           },
           "mode": "markers",
           "name": "month=2019-04",
           "showlegend": true,
           "subplot": "mapbox",
           "type": "scattermapbox"
          }
         ],
         "name": "violent-crime"
        },
        {
         "data": [
          {
           "hoverlabel": {
            "namelength": 0
           },
           "hovertemplate": "month=2019-08<br>category=drugs<br>latitude=%{lat}<br>longitude=%{lon}",
           "lat": [
            53.961159
           ],
           "legendgroup": "month=2019-08",
           "lon": [
            -2.016485
           ],
           "marker": {
            "color": "#EF553B"
           },
           "mode": "markers",
           "name": "month=2019-08",
           "showlegend": true,
           "subplot": "mapbox",
           "type": "scattermapbox"
          },
          {
           "hoverlabel": {
            "namelength": 0
           },
           "hovertemplate": "month=2019-07<br>category=drugs<br>latitude=%{lat}<br>longitude=%{lon}",
           "lat": [
            53.961743,
            53.959082
           ],
           "legendgroup": "month=2019-07",
           "lon": [
            -2.015891,
            -2.020919
           ],
           "marker": {
            "color": "#00cc96"
           },
           "mode": "markers",
           "name": "month=2019-07",
           "showlegend": true,
           "subplot": "mapbox",
           "type": "scattermapbox"
          },
          {
           "hoverlabel": {
            "namelength": 0
           },
           "hovertemplate": "month=2019-06<br>category=drugs<br>latitude=%{lat}<br>longitude=%{lon}",
           "lat": [
            53.961743,
            53.95644,
            53.960133,
            53.959217
           ],
           "legendgroup": "month=2019-06",
           "lon": [
            -2.015891,
            -2.016925,
            -2.019655,
            -2.01813
           ],
           "marker": {
            "color": "#ab63fa"
           },
           "mode": "markers",
           "name": "month=2019-06",
           "showlegend": true,
           "subplot": "mapbox",
           "type": "scattermapbox"
          },
          {
           "hoverlabel": {
            "namelength": 0
           },
           "hovertemplate": "month=2019-05<br>category=drugs<br>latitude=%{lat}<br>longitude=%{lon}",
           "lat": [
            53.961042,
            53.961077,
            53.953043
           ],
           "legendgroup": "month=2019-05",
           "lon": [
            -2.015144,
            -2.019411,
            -2.013145
           ],
           "marker": {
            "color": "#FFA15A"
           },
           "mode": "markers",
           "name": "month=2019-05",
           "showlegend": true,
           "subplot": "mapbox",
           "type": "scattermapbox"
          },
          {
           "hoverlabel": {
            "namelength": 0
           },
           "hovertemplate": "month=2019-04<br>category=drugs<br>latitude=%{lat}<br>longitude=%{lon}",
           "lat": [
            53.962165,
            53.960395
           ],
           "legendgroup": "month=2019-04",
           "lon": [
            -2.015053,
            -2.017049
           ],
           "marker": {
            "color": "#19d3f3"
           },
           "mode": "markers",
           "name": "month=2019-04",
           "showlegend": true,
           "subplot": "mapbox",
           "type": "scattermapbox"
          }
         ],
         "name": "drugs"
        },
        {
         "data": [
          {
           "hoverlabel": {
            "namelength": 0
           },
           "hovertemplate": "month=2019-07<br>category=theft-from-the-person<br>latitude=%{lat}<br>longitude=%{lon}",
           "lat": [
            53.954733,
            53.951568
           ],
           "legendgroup": "month=2019-07",
           "lon": [
            -2.010372,
            -2.023171
           ],
           "marker": {
            "color": "#00cc96"
           },
           "mode": "markers",
           "name": "month=2019-07",
           "showlegend": true,
           "subplot": "mapbox",
           "type": "scattermapbox"
          },
          {
           "hoverlabel": {
            "namelength": 0
           },
           "hovertemplate": "month=2019-06<br>category=theft-from-the-person<br>latitude=%{lat}<br>longitude=%{lon}",
           "lat": [
            53.961743
           ],
           "legendgroup": "month=2019-06",
           "lon": [
            -2.015891
           ],
           "marker": {
            "color": "#ab63fa"
           },
           "mode": "markers",
           "name": "month=2019-06",
           "showlegend": true,
           "subplot": "mapbox",
           "type": "scattermapbox"
          },
          {
           "hoverlabel": {
            "namelength": 0
           },
           "hovertemplate": "month=2019-05<br>category=theft-from-the-person<br>latitude=%{lat}<br>longitude=%{lon}",
           "lat": [
            53.953043,
            53.960099,
            53.953203,
            53.953203
           ],
           "legendgroup": "month=2019-05",
           "lon": [
            -2.013145,
            -2.012294,
            -2.022349,
            -2.022349
           ],
           "marker": {
            "color": "#FFA15A"
           },
           "mode": "markers",
           "name": "month=2019-05",
           "showlegend": true,
           "subplot": "mapbox",
           "type": "scattermapbox"
          }
         ],
         "name": "theft-from-the-person"
        },
        {
         "data": [
          {
           "hoverlabel": {
            "namelength": 0
           },
           "hovertemplate": "month=2019-07<br>category=other-crime<br>latitude=%{lat}<br>longitude=%{lon}",
           "lat": [
            53.953203
           ],
           "legendgroup": "month=2019-07",
           "lon": [
            -2.022349
           ],
           "marker": {
            "color": "#00cc96"
           },
           "mode": "markers",
           "name": "month=2019-07",
           "showlegend": true,
           "subplot": "mapbox",
           "type": "scattermapbox"
          },
          {
           "hoverlabel": {
            "namelength": 0
           },
           "hovertemplate": "month=2019-05<br>category=other-crime<br>latitude=%{lat}<br>longitude=%{lon}",
           "lat": [
            53.957132
           ],
           "legendgroup": "month=2019-05",
           "lon": [
            -2.018556
           ],
           "marker": {
            "color": "#FFA15A"
           },
           "mode": "markers",
           "name": "month=2019-05",
           "showlegend": true,
           "subplot": "mapbox",
           "type": "scattermapbox"
          },
          {
           "hoverlabel": {
            "namelength": 0
           },
           "hovertemplate": "month=2019-04<br>category=other-crime<br>latitude=%{lat}<br>longitude=%{lon}",
           "lat": [
            53.961159,
            53.951568
           ],
           "legendgroup": "month=2019-04",
           "lon": [
            -2.016485,
            -2.023171
           ],
           "marker": {
            "color": "#19d3f3"
           },
           "mode": "markers",
           "name": "month=2019-04",
           "showlegend": true,
           "subplot": "mapbox",
           "type": "scattermapbox"
          }
         ],
         "name": "other-crime"
        },
        {
         "data": [
          {
           "hoverlabel": {
            "namelength": 0
           },
           "hovertemplate": "month=2019-05<br>category=possession-of-weapons<br>latitude=%{lat}<br>longitude=%{lon}",
           "lat": [
            53.961743
           ],
           "legendgroup": "month=2019-05",
           "lon": [
            -2.015891
           ],
           "marker": {
            "color": "#FFA15A"
           },
           "mode": "markers",
           "name": "month=2019-05",
           "showlegend": true,
           "subplot": "mapbox",
           "type": "scattermapbox"
          }
         ],
         "name": "possession-of-weapons"
        }
       ],
       "layout": {
        "height": 600,
        "legend": {
         "tracegroupgap": 0
        },
        "mapbox": {
         "center": {
          "lat": 53.95767149818184,
          "lon": -2.0159199345454577
         },
         "domain": {
          "x": [
           0,
           0.98
          ],
          "y": [
           0,
           1
          ]
         },
         "style": "open-street-map",
         "zoom": 14
        },
        "margin": {
         "b": 0,
         "l": 0,
         "r": 0,
         "t": 0
        },
        "sliders": [
         {
          "active": 0,
          "currentvalue": {
           "prefix": "category="
          },
          "len": 0.9,
          "pad": {
           "b": 10,
           "t": 60
          },
          "steps": [
           {
            "args": [
             [
              "anti-social-behaviour"
             ],
             {
              "frame": {
               "duration": 0,
               "redraw": true
              },
              "fromcurrent": true,
              "mode": "immediate",
              "transition": {
               "duration": 0,
               "easing": "linear"
              }
             }
            ],
            "label": "anti-social-behaviour",
            "method": "animate"
           },
           {
            "args": [
             [
              "bicycle-theft"
             ],
             {
              "frame": {
               "duration": 0,
               "redraw": true
              },
              "fromcurrent": true,
              "mode": "immediate",
              "transition": {
               "duration": 0,
               "easing": "linear"
              }
             }
            ],
            "label": "bicycle-theft",
            "method": "animate"
           },
           {
            "args": [
             [
              "burglary"
             ],
             {
              "frame": {
               "duration": 0,
               "redraw": true
              },
              "fromcurrent": true,
              "mode": "immediate",
              "transition": {
               "duration": 0,
               "easing": "linear"
              }
             }
            ],
            "label": "burglary",
            "method": "animate"
           },
           {
            "args": [
             [
              "criminal-damage-arson"
             ],
             {
              "frame": {
               "duration": 0,
               "redraw": true
              },
              "fromcurrent": true,
              "mode": "immediate",
              "transition": {
               "duration": 0,
               "easing": "linear"
              }
             }
            ],
            "label": "criminal-damage-arson",
            "method": "animate"
           },
           {
            "args": [
             [
              "other-theft"
             ],
             {
              "frame": {
               "duration": 0,
               "redraw": true
              },
              "fromcurrent": true,
              "mode": "immediate",
              "transition": {
               "duration": 0,
               "easing": "linear"
              }
             }
            ],
            "label": "other-theft",
            "method": "animate"
           },
           {
            "args": [
             [
              "public-order"
             ],
             {
              "frame": {
               "duration": 0,
               "redraw": true
              },
              "fromcurrent": true,
              "mode": "immediate",
              "transition": {
               "duration": 0,
               "easing": "linear"
              }
             }
            ],
            "label": "public-order",
            "method": "animate"
           },
           {
            "args": [
             [
              "shoplifting"
             ],
             {
              "frame": {
               "duration": 0,
               "redraw": true
              },
              "fromcurrent": true,
              "mode": "immediate",
              "transition": {
               "duration": 0,
               "easing": "linear"
              }
             }
            ],
            "label": "shoplifting",
            "method": "animate"
           },
           {
            "args": [
             [
              "vehicle-crime"
             ],
             {
              "frame": {
               "duration": 0,
               "redraw": true
              },
              "fromcurrent": true,
              "mode": "immediate",
              "transition": {
               "duration": 0,
               "easing": "linear"
              }
             }
            ],
            "label": "vehicle-crime",
            "method": "animate"
           },
           {
            "args": [
             [
              "violent-crime"
             ],
             {
              "frame": {
               "duration": 0,
               "redraw": true
              },
              "fromcurrent": true,
              "mode": "immediate",
              "transition": {
               "duration": 0,
               "easing": "linear"
              }
             }
            ],
            "label": "violent-crime",
            "method": "animate"
           },
           {
            "args": [
             [
              "drugs"
             ],
             {
              "frame": {
               "duration": 0,
               "redraw": true
              },
              "fromcurrent": true,
              "mode": "immediate",
              "transition": {
               "duration": 0,
               "easing": "linear"
              }
             }
            ],
            "label": "drugs",
            "method": "animate"
           },
           {
            "args": [
             [
              "theft-from-the-person"
             ],
             {
              "frame": {
               "duration": 0,
               "redraw": true
              },
              "fromcurrent": true,
              "mode": "immediate",
              "transition": {
               "duration": 0,
               "easing": "linear"
              }
             }
            ],
            "label": "theft-from-the-person",
            "method": "animate"
           },
           {
            "args": [
             [
              "other-crime"
             ],
             {
              "frame": {
               "duration": 0,
               "redraw": true
              },
              "fromcurrent": true,
              "mode": "immediate",
              "transition": {
               "duration": 0,
               "easing": "linear"
              }
             }
            ],
            "label": "other-crime",
            "method": "animate"
           },
           {
            "args": [
             [
              "possession-of-weapons"
             ],
             {
              "frame": {
               "duration": 0,
               "redraw": true
              },
              "fromcurrent": true,
              "mode": "immediate",
              "transition": {
               "duration": 0,
               "easing": "linear"
              }
             }
            ],
            "label": "possession-of-weapons",
            "method": "animate"
           }
          ],
          "x": 0.1,
          "xanchor": "left",
          "y": 0,
          "yanchor": "top"
         }
        ],
        "template": {
         "data": {
          "bar": [
           {
            "error_x": {
             "color": "#2a3f5f"
            },
            "error_y": {
             "color": "#2a3f5f"
            },
            "marker": {
             "line": {
              "color": "#E5ECF6",
              "width": 0.5
             }
            },
            "type": "bar"
           }
          ],
          "barpolar": [
           {
            "marker": {
             "line": {
              "color": "#E5ECF6",
              "width": 0.5
             }
            },
            "type": "barpolar"
           }
          ],
          "carpet": [
           {
            "aaxis": {
             "endlinecolor": "#2a3f5f",
             "gridcolor": "white",
             "linecolor": "white",
             "minorgridcolor": "white",
             "startlinecolor": "#2a3f5f"
            },
            "baxis": {
             "endlinecolor": "#2a3f5f",
             "gridcolor": "white",
             "linecolor": "white",
             "minorgridcolor": "white",
             "startlinecolor": "#2a3f5f"
            },
            "type": "carpet"
           }
          ],
          "choropleth": [
           {
            "colorbar": {
             "outlinewidth": 0,
             "ticks": ""
            },
            "type": "choropleth"
           }
          ],
          "contour": [
           {
            "colorbar": {
             "outlinewidth": 0,
             "ticks": ""
            },
            "colorscale": [
             [
              0,
              "#0d0887"
             ],
             [
              0.1111111111111111,
              "#46039f"
             ],
             [
              0.2222222222222222,
              "#7201a8"
             ],
             [
              0.3333333333333333,
              "#9c179e"
             ],
             [
              0.4444444444444444,
              "#bd3786"
             ],
             [
              0.5555555555555556,
              "#d8576b"
             ],
             [
              0.6666666666666666,
              "#ed7953"
             ],
             [
              0.7777777777777778,
              "#fb9f3a"
             ],
             [
              0.8888888888888888,
              "#fdca26"
             ],
             [
              1,
              "#f0f921"
             ]
            ],
            "type": "contour"
           }
          ],
          "contourcarpet": [
           {
            "colorbar": {
             "outlinewidth": 0,
             "ticks": ""
            },
            "type": "contourcarpet"
           }
          ],
          "heatmap": [
           {
            "colorbar": {
             "outlinewidth": 0,
             "ticks": ""
            },
            "colorscale": [
             [
              0,
              "#0d0887"
             ],
             [
              0.1111111111111111,
              "#46039f"
             ],
             [
              0.2222222222222222,
              "#7201a8"
             ],
             [
              0.3333333333333333,
              "#9c179e"
             ],
             [
              0.4444444444444444,
              "#bd3786"
             ],
             [
              0.5555555555555556,
              "#d8576b"
             ],
             [
              0.6666666666666666,
              "#ed7953"
             ],
             [
              0.7777777777777778,
              "#fb9f3a"
             ],
             [
              0.8888888888888888,
              "#fdca26"
             ],
             [
              1,
              "#f0f921"
             ]
            ],
            "type": "heatmap"
           }
          ],
          "heatmapgl": [
           {
            "colorbar": {
             "outlinewidth": 0,
             "ticks": ""
            },
            "colorscale": [
             [
              0,
              "#0d0887"
             ],
             [
              0.1111111111111111,
              "#46039f"
             ],
             [
              0.2222222222222222,
              "#7201a8"
             ],
             [
              0.3333333333333333,
              "#9c179e"
             ],
             [
              0.4444444444444444,
              "#bd3786"
             ],
             [
              0.5555555555555556,
              "#d8576b"
             ],
             [
              0.6666666666666666,
              "#ed7953"
             ],
             [
              0.7777777777777778,
              "#fb9f3a"
             ],
             [
              0.8888888888888888,
              "#fdca26"
             ],
             [
              1,
              "#f0f921"
             ]
            ],
            "type": "heatmapgl"
           }
          ],
          "histogram": [
           {
            "marker": {
             "colorbar": {
              "outlinewidth": 0,
              "ticks": ""
             }
            },
            "type": "histogram"
           }
          ],
          "histogram2d": [
           {
            "colorbar": {
             "outlinewidth": 0,
             "ticks": ""
            },
            "colorscale": [
             [
              0,
              "#0d0887"
             ],
             [
              0.1111111111111111,
              "#46039f"
             ],
             [
              0.2222222222222222,
              "#7201a8"
             ],
             [
              0.3333333333333333,
              "#9c179e"
             ],
             [
              0.4444444444444444,
              "#bd3786"
             ],
             [
              0.5555555555555556,
              "#d8576b"
             ],
             [
              0.6666666666666666,
              "#ed7953"
             ],
             [
              0.7777777777777778,
              "#fb9f3a"
             ],
             [
              0.8888888888888888,
              "#fdca26"
             ],
             [
              1,
              "#f0f921"
             ]
            ],
            "type": "histogram2d"
           }
          ],
          "histogram2dcontour": [
           {
            "colorbar": {
             "outlinewidth": 0,
             "ticks": ""
            },
            "colorscale": [
             [
              0,
              "#0d0887"
             ],
             [
              0.1111111111111111,
              "#46039f"
             ],
             [
              0.2222222222222222,
              "#7201a8"
             ],
             [
              0.3333333333333333,
              "#9c179e"
             ],
             [
              0.4444444444444444,
              "#bd3786"
             ],
             [
              0.5555555555555556,
              "#d8576b"
             ],
             [
              0.6666666666666666,
              "#ed7953"
             ],
             [
              0.7777777777777778,
              "#fb9f3a"
             ],
             [
              0.8888888888888888,
              "#fdca26"
             ],
             [
              1,
              "#f0f921"
             ]
            ],
            "type": "histogram2dcontour"
           }
          ],
          "mesh3d": [
           {
            "colorbar": {
             "outlinewidth": 0,
             "ticks": ""
            },
            "type": "mesh3d"
           }
          ],
          "parcoords": [
           {
            "line": {
             "colorbar": {
              "outlinewidth": 0,
              "ticks": ""
             }
            },
            "type": "parcoords"
           }
          ],
          "scatter": [
           {
            "marker": {
             "colorbar": {
              "outlinewidth": 0,
              "ticks": ""
             }
            },
            "type": "scatter"
           }
          ],
          "scatter3d": [
           {
            "line": {
             "colorbar": {
              "outlinewidth": 0,
              "ticks": ""
             }
            },
            "marker": {
             "colorbar": {
              "outlinewidth": 0,
              "ticks": ""
             }
            },
            "type": "scatter3d"
           }
          ],
          "scattercarpet": [
           {
            "marker": {
             "colorbar": {
              "outlinewidth": 0,
              "ticks": ""
             }
            },
            "type": "scattercarpet"
           }
          ],
          "scattergeo": [
           {
            "marker": {
             "colorbar": {
              "outlinewidth": 0,
              "ticks": ""
             }
            },
            "type": "scattergeo"
           }
          ],
          "scattergl": [
           {
            "marker": {
             "colorbar": {
              "outlinewidth": 0,
              "ticks": ""
             }
            },
            "type": "scattergl"
           }
          ],
          "scattermapbox": [
           {
            "marker": {
             "colorbar": {
              "outlinewidth": 0,
              "ticks": ""
             }
            },
            "type": "scattermapbox"
           }
          ],
          "scatterpolar": [
           {
            "marker": {
             "colorbar": {
              "outlinewidth": 0,
              "ticks": ""
             }
            },
            "type": "scatterpolar"
           }
          ],
          "scatterpolargl": [
           {
            "marker": {
             "colorbar": {
              "outlinewidth": 0,
              "ticks": ""
             }
            },
            "type": "scatterpolargl"
           }
          ],
          "scatterternary": [
           {
            "marker": {
             "colorbar": {
              "outlinewidth": 0,
              "ticks": ""
             }
            },
            "type": "scatterternary"
           }
          ],
          "surface": [
           {
            "colorbar": {
             "outlinewidth": 0,
             "ticks": ""
            },
            "colorscale": [
             [
              0,
              "#0d0887"
             ],
             [
              0.1111111111111111,
              "#46039f"
             ],
             [
              0.2222222222222222,
              "#7201a8"
             ],
             [
              0.3333333333333333,
              "#9c179e"
             ],
             [
              0.4444444444444444,
              "#bd3786"
             ],
             [
              0.5555555555555556,
              "#d8576b"
             ],
             [
              0.6666666666666666,
              "#ed7953"
             ],
             [
              0.7777777777777778,
              "#fb9f3a"
             ],
             [
              0.8888888888888888,
              "#fdca26"
             ],
             [
              1,
              "#f0f921"
             ]
            ],
            "type": "surface"
           }
          ],
          "table": [
           {
            "cells": {
             "fill": {
              "color": "#EBF0F8"
             },
             "line": {
              "color": "white"
             }
            },
            "header": {
             "fill": {
              "color": "#C8D4E3"
             },
             "line": {
              "color": "white"
             }
            },
            "type": "table"
           }
          ]
         },
         "layout": {
          "annotationdefaults": {
           "arrowcolor": "#2a3f5f",
           "arrowhead": 0,
           "arrowwidth": 1
          },
          "colorscale": {
           "diverging": [
            [
             0,
             "#8e0152"
            ],
            [
             0.1,
             "#c51b7d"
            ],
            [
             0.2,
             "#de77ae"
            ],
            [
             0.3,
             "#f1b6da"
            ],
            [
             0.4,
             "#fde0ef"
            ],
            [
             0.5,
             "#f7f7f7"
            ],
            [
             0.6,
             "#e6f5d0"
            ],
            [
             0.7,
             "#b8e186"
            ],
            [
             0.8,
             "#7fbc41"
            ],
            [
             0.9,
             "#4d9221"
            ],
            [
             1,
             "#276419"
            ]
           ],
           "sequential": [
            [
             0,
             "#0d0887"
            ],
            [
             0.1111111111111111,
             "#46039f"
            ],
            [
             0.2222222222222222,
             "#7201a8"
            ],
            [
             0.3333333333333333,
             "#9c179e"
            ],
            [
             0.4444444444444444,
             "#bd3786"
            ],
            [
             0.5555555555555556,
             "#d8576b"
            ],
            [
             0.6666666666666666,
             "#ed7953"
            ],
            [
             0.7777777777777778,
             "#fb9f3a"
            ],
            [
             0.8888888888888888,
             "#fdca26"
            ],
            [
             1,
             "#f0f921"
            ]
           ],
           "sequentialminus": [
            [
             0,
             "#0d0887"
            ],
            [
             0.1111111111111111,
             "#46039f"
            ],
            [
             0.2222222222222222,
             "#7201a8"
            ],
            [
             0.3333333333333333,
             "#9c179e"
            ],
            [
             0.4444444444444444,
             "#bd3786"
            ],
            [
             0.5555555555555556,
             "#d8576b"
            ],
            [
             0.6666666666666666,
             "#ed7953"
            ],
            [
             0.7777777777777778,
             "#fb9f3a"
            ],
            [
             0.8888888888888888,
             "#fdca26"
            ],
            [
             1,
             "#f0f921"
            ]
           ]
          },
          "colorway": [
           "#636efa",
           "#EF553B",
           "#00cc96",
           "#ab63fa",
           "#FFA15A",
           "#19d3f3",
           "#FF6692",
           "#B6E880",
           "#FF97FF",
           "#FECB52"
          ],
          "font": {
           "color": "#2a3f5f"
          },
          "geo": {
           "bgcolor": "white",
           "lakecolor": "white",
           "landcolor": "#E5ECF6",
           "showlakes": true,
           "showland": true,
           "subunitcolor": "white"
          },
          "hoverlabel": {
           "align": "left"
          },
          "hovermode": "closest",
          "mapbox": {
           "style": "light"
          },
          "paper_bgcolor": "white",
          "plot_bgcolor": "#E5ECF6",
          "polar": {
           "angularaxis": {
            "gridcolor": "white",
            "linecolor": "white",
            "ticks": ""
           },
           "bgcolor": "#E5ECF6",
           "radialaxis": {
            "gridcolor": "white",
            "linecolor": "white",
            "ticks": ""
           }
          },
          "scene": {
           "xaxis": {
            "backgroundcolor": "#E5ECF6",
            "gridcolor": "white",
            "gridwidth": 2,
            "linecolor": "white",
            "showbackground": true,
            "ticks": "",
            "zerolinecolor": "white"
           },
           "yaxis": {
            "backgroundcolor": "#E5ECF6",
            "gridcolor": "white",
            "gridwidth": 2,
            "linecolor": "white",
            "showbackground": true,
            "ticks": "",
            "zerolinecolor": "white"
           },
           "zaxis": {
            "backgroundcolor": "#E5ECF6",
            "gridcolor": "white",
            "gridwidth": 2,
            "linecolor": "white",
            "showbackground": true,
            "ticks": "",
            "zerolinecolor": "white"
           }
          },
          "shapedefaults": {
           "line": {
            "color": "#2a3f5f"
           }
          },
          "ternary": {
           "aaxis": {
            "gridcolor": "white",
            "linecolor": "white",
            "ticks": ""
           },
           "baxis": {
            "gridcolor": "white",
            "linecolor": "white",
            "ticks": ""
           },
           "bgcolor": "#E5ECF6",
           "caxis": {
            "gridcolor": "white",
            "linecolor": "white",
            "ticks": ""
           }
          },
          "title": {
           "x": 0.05
          },
          "xaxis": {
           "automargin": true,
           "gridcolor": "white",
           "linecolor": "white",
           "ticks": "",
           "zerolinecolor": "white",
           "zerolinewidth": 2
          },
          "yaxis": {
           "automargin": true,
           "gridcolor": "white",
           "linecolor": "white",
           "ticks": "",
           "zerolinecolor": "white",
           "zerolinewidth": 2
          }
         }
        },
        "updatemenus": [
         {
          "buttons": [
           {
            "args": [
             null,
             {
              "frame": {
               "duration": 500,
               "redraw": true
              },
              "fromcurrent": true,
              "mode": "immediate",
              "transition": {
               "duration": 500,
               "easing": "linear"
              }
             }
            ],
            "label": "&#9654;",
            "method": "animate"
           },
           {
            "args": [
             [
              null
             ],
             {
              "frame": {
               "duration": 0,
               "redraw": true
              },
              "fromcurrent": true,
              "mode": "immediate",
              "transition": {
               "duration": 0,
               "easing": "linear"
              }
             }
            ],
            "label": "&#9724;",
            "method": "animate"
           }
          ],
          "direction": "left",
          "pad": {
           "r": 10,
           "t": 70
          },
          "showactive": false,
          "type": "buttons",
          "x": 0.1,
          "xanchor": "right",
          "y": 0,
          "yanchor": "top"
         }
        ]
       }
      },
      "text/html": [
       "<div>\n",
       "        \n",
       "        \n",
       "            <div id=\"bbec0a37-3f4c-45c7-8c34-0bd5d67a9c54\" class=\"plotly-graph-div\" style=\"height:600px; width:100%;\"></div>\n",
       "            <script type=\"text/javascript\">\n",
       "                require([\"plotly\"], function(Plotly) {\n",
       "                    window.PLOTLYENV=window.PLOTLYENV || {};\n",
       "                    \n",
       "                if (document.getElementById(\"bbec0a37-3f4c-45c7-8c34-0bd5d67a9c54\")) {\n",
       "                    Plotly.newPlot(\n",
       "                        'bbec0a37-3f4c-45c7-8c34-0bd5d67a9c54',\n",
       "                        [{\"hoverlabel\": {\"namelength\": 0}, \"hovertemplate\": \"month=2019-09<br>category=anti-social-behaviour<br>latitude=%{lat}<br>longitude=%{lon}\", \"lat\": [53.960261, 53.95848, 53.941606, 53.962165, 53.959182, 53.962165, 53.959792, 53.955884, 53.960395, 53.953043, 53.95679, 53.959217, 53.958454, 53.960188, 53.957356, 53.958318, 53.959217, 53.961132, 53.95679, 53.961762, 53.957115, 53.957878, 53.962165, 53.960459], \"legendgroup\": \"month=2019-09\", \"lon\": [-2.009627, -2.018983, -2.03552, -2.015053, -2.00321, -2.015053, -2.016927, -2.008696, -2.017049, -2.013145, -2.020644, -2.01813, -2.001671, -2.018207, -2.019852, -2.016027, -2.01813, -2.012904, -2.020644, -2.002235, -2.004642, -2.016499, -2.015053, -1.999309], \"marker\": {\"color\": \"#636efa\"}, \"mode\": \"markers\", \"name\": \"month=2019-09\", \"showlegend\": true, \"subplot\": \"mapbox\", \"type\": \"scattermapbox\"}, {\"hoverlabel\": {\"namelength\": 0}, \"hovertemplate\": \"month=2019-08<br>category=anti-social-behaviour<br>latitude=%{lat}<br>longitude=%{lon}\", \"lat\": [53.960261, 53.95848, 53.941606, 53.962165, 53.959182, 53.962165, 53.959792, 53.955884, 53.960395, 53.953043, 53.95679, 53.959217, 53.958454, 53.960188, 53.957356, 53.958318, 53.959217, 53.961132, 53.95679, 53.961762, 53.957115, 53.957878, 53.962165, 53.960459, 53.956313, 53.961743, 53.95644, 53.960133, 53.959217, 53.959765, 53.960188, 53.959981, 53.957241], \"legendgroup\": \"month=2019-08\", \"lon\": [-2.009627, -2.018983, -2.03552, -2.015053, -2.00321, -2.015053, -2.016927, -2.008696, -2.017049, -2.013145, -2.020644, -2.01813, -2.001671, -2.018207, -2.019852, -2.016027, -2.01813, -2.012904, -2.020644, -2.002235, -2.004642, -2.016499, -2.015053, -1.999309, -2.024057, -2.015891, -2.016925, -2.019655, -2.01813, -2.017369, -2.018207, -2.019213, -2.001945], \"marker\": {\"color\": \"#EF553B\"}, \"mode\": \"markers\", \"name\": \"month=2019-08\", \"showlegend\": true, \"subplot\": \"mapbox\", \"type\": \"scattermapbox\"}, {\"hoverlabel\": {\"namelength\": 0}, \"hovertemplate\": \"month=2019-07<br>category=anti-social-behaviour<br>latitude=%{lat}<br>longitude=%{lon}\", \"lat\": [53.960261, 53.95848, 53.941606, 53.962165, 53.959182, 53.962165, 53.959792, 53.955884, 53.960395, 53.953043, 53.95679, 53.959217, 53.958454, 53.960188, 53.957356, 53.958318, 53.959217, 53.961132, 53.95679, 53.961762, 53.957115, 53.957878, 53.962165, 53.960459, 53.956313], \"legendgroup\": \"month=2019-07\", \"lon\": [-2.009627, -2.018983, -2.03552, -2.015053, -2.00321, -2.015053, -2.016927, -2.008696, -2.017049, -2.013145, -2.020644, -2.01813, -2.001671, -2.018207, -2.019852, -2.016027, -2.01813, -2.012904, -2.020644, -2.002235, -2.004642, -2.016499, -2.015053, -1.999309, -2.024057], \"marker\": {\"color\": \"#00cc96\"}, \"mode\": \"markers\", \"name\": \"month=2019-07\", \"showlegend\": true, \"subplot\": \"mapbox\", \"type\": \"scattermapbox\"}, {\"hoverlabel\": {\"namelength\": 0}, \"hovertemplate\": \"month=2019-06<br>category=anti-social-behaviour<br>latitude=%{lat}<br>longitude=%{lon}\", \"lat\": [53.960261, 53.95848, 53.941606, 53.962165, 53.959182, 53.962165, 53.959792, 53.955884, 53.960395, 53.953043, 53.95679, 53.959217, 53.958454, 53.960188, 53.957356, 53.958318, 53.959217], \"legendgroup\": \"month=2019-06\", \"lon\": [-2.009627, -2.018983, -2.03552, -2.015053, -2.00321, -2.015053, -2.016927, -2.008696, -2.017049, -2.013145, -2.020644, -2.01813, -2.001671, -2.018207, -2.019852, -2.016027, -2.01813], \"marker\": {\"color\": \"#ab63fa\"}, \"mode\": \"markers\", \"name\": \"month=2019-06\", \"showlegend\": true, \"subplot\": \"mapbox\", \"type\": \"scattermapbox\"}, {\"hoverlabel\": {\"namelength\": 0}, \"hovertemplate\": \"month=2019-05<br>category=anti-social-behaviour<br>latitude=%{lat}<br>longitude=%{lon}\", \"lat\": [53.960261, 53.95848, 53.941606, 53.962165, 53.959182, 53.962165, 53.959792, 53.955884, 53.960395, 53.953043, 53.95679, 53.959217, 53.958454, 53.960188, 53.957356, 53.958318, 53.959217, 53.961132, 53.95679, 53.961762, 53.957115, 53.957878], \"legendgroup\": \"month=2019-05\", \"lon\": [-2.009627, -2.018983, -2.03552, -2.015053, -2.00321, -2.015053, -2.016927, -2.008696, -2.017049, -2.013145, -2.020644, -2.01813, -2.001671, -2.018207, -2.019852, -2.016027, -2.01813, -2.012904, -2.020644, -2.002235, -2.004642, -2.016499], \"marker\": {\"color\": \"#FFA15A\"}, \"mode\": \"markers\", \"name\": \"month=2019-05\", \"showlegend\": true, \"subplot\": \"mapbox\", \"type\": \"scattermapbox\"}, {\"hoverlabel\": {\"namelength\": 0}, \"hovertemplate\": \"month=2019-04<br>category=anti-social-behaviour<br>latitude=%{lat}<br>longitude=%{lon}\", \"lat\": [53.960261, 53.95848, 53.941606, 53.962165, 53.959182, 53.962165, 53.959792, 53.955884, 53.960395, 53.953043, 53.95679, 53.959217, 53.958454, 53.960188, 53.957356, 53.958318, 53.959217, 53.961132, 53.95679, 53.961762, 53.957115, 53.957878, 53.962165, 53.960459, 53.956313, 53.961743, 53.95644, 53.960133, 53.959217, 53.959765, 53.960188, 53.959981, 53.957241, 53.945296, 53.953043, 53.960395, 53.95679], \"legendgroup\": \"month=2019-04\", \"lon\": [-2.009627, -2.018983, -2.03552, -2.015053, -2.00321, -2.015053, -2.016927, -2.008696, -2.017049, -2.013145, -2.020644, -2.01813, -2.001671, -2.018207, -2.019852, -2.016027, -2.01813, -2.012904, -2.020644, -2.002235, -2.004642, -2.016499, -2.015053, -1.999309, -2.024057, -2.015891, -2.016925, -2.019655, -2.01813, -2.017369, -2.018207, -2.019213, -2.001945, -2.013264, -2.013145, -2.017049, -2.020644], \"marker\": {\"color\": \"#19d3f3\"}, \"mode\": \"markers\", \"name\": \"month=2019-04\", \"showlegend\": true, \"subplot\": \"mapbox\", \"type\": \"scattermapbox\"}],\n",
       "                        {\"height\": 600, \"legend\": {\"tracegroupgap\": 0}, \"mapbox\": {\"center\": {\"lat\": 53.95767149818184, \"lon\": -2.0159199345454577}, \"domain\": {\"x\": [0.0, 0.98], \"y\": [0.0, 1.0]}, \"style\": \"open-street-map\", \"zoom\": 14}, \"margin\": {\"b\": 0, \"l\": 0, \"r\": 0, \"t\": 0}, \"sliders\": [{\"active\": 0, \"currentvalue\": {\"prefix\": \"category=\"}, \"len\": 0.9, \"pad\": {\"b\": 10, \"t\": 60}, \"steps\": [{\"args\": [[\"anti-social-behaviour\"], {\"frame\": {\"duration\": 0, \"redraw\": true}, \"fromcurrent\": true, \"mode\": \"immediate\", \"transition\": {\"duration\": 0, \"easing\": \"linear\"}}], \"label\": \"anti-social-behaviour\", \"method\": \"animate\"}, {\"args\": [[\"bicycle-theft\"], {\"frame\": {\"duration\": 0, \"redraw\": true}, \"fromcurrent\": true, \"mode\": \"immediate\", \"transition\": {\"duration\": 0, \"easing\": \"linear\"}}], \"label\": \"bicycle-theft\", \"method\": \"animate\"}, {\"args\": [[\"burglary\"], {\"frame\": {\"duration\": 0, \"redraw\": true}, \"fromcurrent\": true, \"mode\": \"immediate\", \"transition\": {\"duration\": 0, \"easing\": \"linear\"}}], \"label\": \"burglary\", \"method\": \"animate\"}, {\"args\": [[\"criminal-damage-arson\"], {\"frame\": {\"duration\": 0, \"redraw\": true}, \"fromcurrent\": true, \"mode\": \"immediate\", \"transition\": {\"duration\": 0, \"easing\": \"linear\"}}], \"label\": \"criminal-damage-arson\", \"method\": \"animate\"}, {\"args\": [[\"other-theft\"], {\"frame\": {\"duration\": 0, \"redraw\": true}, \"fromcurrent\": true, \"mode\": \"immediate\", \"transition\": {\"duration\": 0, \"easing\": \"linear\"}}], \"label\": \"other-theft\", \"method\": \"animate\"}, {\"args\": [[\"public-order\"], {\"frame\": {\"duration\": 0, \"redraw\": true}, \"fromcurrent\": true, \"mode\": \"immediate\", \"transition\": {\"duration\": 0, \"easing\": \"linear\"}}], \"label\": \"public-order\", \"method\": \"animate\"}, {\"args\": [[\"shoplifting\"], {\"frame\": {\"duration\": 0, \"redraw\": true}, \"fromcurrent\": true, \"mode\": \"immediate\", \"transition\": {\"duration\": 0, \"easing\": \"linear\"}}], \"label\": \"shoplifting\", \"method\": \"animate\"}, {\"args\": [[\"vehicle-crime\"], {\"frame\": {\"duration\": 0, \"redraw\": true}, \"fromcurrent\": true, \"mode\": \"immediate\", \"transition\": {\"duration\": 0, \"easing\": \"linear\"}}], \"label\": \"vehicle-crime\", \"method\": \"animate\"}, {\"args\": [[\"violent-crime\"], {\"frame\": {\"duration\": 0, \"redraw\": true}, \"fromcurrent\": true, \"mode\": \"immediate\", \"transition\": {\"duration\": 0, \"easing\": \"linear\"}}], \"label\": \"violent-crime\", \"method\": \"animate\"}, {\"args\": [[\"drugs\"], {\"frame\": {\"duration\": 0, \"redraw\": true}, \"fromcurrent\": true, \"mode\": \"immediate\", \"transition\": {\"duration\": 0, \"easing\": \"linear\"}}], \"label\": \"drugs\", \"method\": \"animate\"}, {\"args\": [[\"theft-from-the-person\"], {\"frame\": {\"duration\": 0, \"redraw\": true}, \"fromcurrent\": true, \"mode\": \"immediate\", \"transition\": {\"duration\": 0, \"easing\": \"linear\"}}], \"label\": \"theft-from-the-person\", \"method\": \"animate\"}, {\"args\": [[\"other-crime\"], {\"frame\": {\"duration\": 0, \"redraw\": true}, \"fromcurrent\": true, \"mode\": \"immediate\", \"transition\": {\"duration\": 0, \"easing\": \"linear\"}}], \"label\": \"other-crime\", \"method\": \"animate\"}, {\"args\": [[\"possession-of-weapons\"], {\"frame\": {\"duration\": 0, \"redraw\": true}, \"fromcurrent\": true, \"mode\": \"immediate\", \"transition\": {\"duration\": 0, \"easing\": \"linear\"}}], \"label\": \"possession-of-weapons\", \"method\": \"animate\"}], \"x\": 0.1, \"xanchor\": \"left\", \"y\": 0, \"yanchor\": \"top\"}], \"template\": {\"data\": {\"bar\": [{\"error_x\": {\"color\": \"#2a3f5f\"}, \"error_y\": {\"color\": \"#2a3f5f\"}, \"marker\": {\"line\": {\"color\": \"#E5ECF6\", \"width\": 0.5}}, \"type\": \"bar\"}], \"barpolar\": [{\"marker\": {\"line\": {\"color\": \"#E5ECF6\", \"width\": 0.5}}, \"type\": \"barpolar\"}], \"carpet\": [{\"aaxis\": {\"endlinecolor\": \"#2a3f5f\", \"gridcolor\": \"white\", \"linecolor\": \"white\", \"minorgridcolor\": \"white\", \"startlinecolor\": \"#2a3f5f\"}, \"baxis\": {\"endlinecolor\": \"#2a3f5f\", \"gridcolor\": \"white\", \"linecolor\": \"white\", \"minorgridcolor\": \"white\", \"startlinecolor\": \"#2a3f5f\"}, \"type\": \"carpet\"}], \"choropleth\": [{\"colorbar\": {\"outlinewidth\": 0, \"ticks\": \"\"}, \"type\": \"choropleth\"}], \"contour\": [{\"colorbar\": {\"outlinewidth\": 0, \"ticks\": \"\"}, \"colorscale\": [[0.0, \"#0d0887\"], [0.1111111111111111, \"#46039f\"], [0.2222222222222222, \"#7201a8\"], [0.3333333333333333, \"#9c179e\"], [0.4444444444444444, \"#bd3786\"], [0.5555555555555556, \"#d8576b\"], [0.6666666666666666, \"#ed7953\"], [0.7777777777777778, \"#fb9f3a\"], [0.8888888888888888, \"#fdca26\"], [1.0, \"#f0f921\"]], \"type\": \"contour\"}], \"contourcarpet\": [{\"colorbar\": {\"outlinewidth\": 0, \"ticks\": \"\"}, \"type\": \"contourcarpet\"}], \"heatmap\": [{\"colorbar\": {\"outlinewidth\": 0, \"ticks\": \"\"}, \"colorscale\": [[0.0, \"#0d0887\"], [0.1111111111111111, \"#46039f\"], [0.2222222222222222, \"#7201a8\"], [0.3333333333333333, \"#9c179e\"], [0.4444444444444444, \"#bd3786\"], [0.5555555555555556, \"#d8576b\"], [0.6666666666666666, \"#ed7953\"], [0.7777777777777778, \"#fb9f3a\"], [0.8888888888888888, \"#fdca26\"], [1.0, \"#f0f921\"]], \"type\": \"heatmap\"}], \"heatmapgl\": [{\"colorbar\": {\"outlinewidth\": 0, \"ticks\": \"\"}, \"colorscale\": [[0.0, \"#0d0887\"], [0.1111111111111111, \"#46039f\"], [0.2222222222222222, \"#7201a8\"], [0.3333333333333333, \"#9c179e\"], [0.4444444444444444, \"#bd3786\"], [0.5555555555555556, \"#d8576b\"], [0.6666666666666666, \"#ed7953\"], [0.7777777777777778, \"#fb9f3a\"], [0.8888888888888888, \"#fdca26\"], [1.0, \"#f0f921\"]], \"type\": \"heatmapgl\"}], \"histogram\": [{\"marker\": {\"colorbar\": {\"outlinewidth\": 0, \"ticks\": \"\"}}, \"type\": \"histogram\"}], \"histogram2d\": [{\"colorbar\": {\"outlinewidth\": 0, \"ticks\": \"\"}, \"colorscale\": [[0.0, \"#0d0887\"], [0.1111111111111111, \"#46039f\"], [0.2222222222222222, \"#7201a8\"], [0.3333333333333333, \"#9c179e\"], [0.4444444444444444, \"#bd3786\"], [0.5555555555555556, \"#d8576b\"], [0.6666666666666666, \"#ed7953\"], [0.7777777777777778, \"#fb9f3a\"], [0.8888888888888888, \"#fdca26\"], [1.0, \"#f0f921\"]], \"type\": \"histogram2d\"}], \"histogram2dcontour\": [{\"colorbar\": {\"outlinewidth\": 0, \"ticks\": \"\"}, \"colorscale\": [[0.0, \"#0d0887\"], [0.1111111111111111, \"#46039f\"], [0.2222222222222222, \"#7201a8\"], [0.3333333333333333, \"#9c179e\"], [0.4444444444444444, \"#bd3786\"], [0.5555555555555556, \"#d8576b\"], [0.6666666666666666, \"#ed7953\"], [0.7777777777777778, \"#fb9f3a\"], [0.8888888888888888, \"#fdca26\"], [1.0, \"#f0f921\"]], \"type\": \"histogram2dcontour\"}], \"mesh3d\": [{\"colorbar\": {\"outlinewidth\": 0, \"ticks\": \"\"}, \"type\": \"mesh3d\"}], \"parcoords\": [{\"line\": {\"colorbar\": {\"outlinewidth\": 0, \"ticks\": \"\"}}, \"type\": \"parcoords\"}], \"scatter\": [{\"marker\": {\"colorbar\": {\"outlinewidth\": 0, \"ticks\": \"\"}}, \"type\": \"scatter\"}], \"scatter3d\": [{\"line\": {\"colorbar\": {\"outlinewidth\": 0, \"ticks\": \"\"}}, \"marker\": {\"colorbar\": {\"outlinewidth\": 0, \"ticks\": \"\"}}, \"type\": \"scatter3d\"}], \"scattercarpet\": [{\"marker\": {\"colorbar\": {\"outlinewidth\": 0, \"ticks\": \"\"}}, \"type\": \"scattercarpet\"}], \"scattergeo\": [{\"marker\": {\"colorbar\": {\"outlinewidth\": 0, \"ticks\": \"\"}}, \"type\": \"scattergeo\"}], \"scattergl\": [{\"marker\": {\"colorbar\": {\"outlinewidth\": 0, \"ticks\": \"\"}}, \"type\": \"scattergl\"}], \"scattermapbox\": [{\"marker\": {\"colorbar\": {\"outlinewidth\": 0, \"ticks\": \"\"}}, \"type\": \"scattermapbox\"}], \"scatterpolar\": [{\"marker\": {\"colorbar\": {\"outlinewidth\": 0, \"ticks\": \"\"}}, \"type\": \"scatterpolar\"}], \"scatterpolargl\": [{\"marker\": {\"colorbar\": {\"outlinewidth\": 0, \"ticks\": \"\"}}, \"type\": \"scatterpolargl\"}], \"scatterternary\": [{\"marker\": {\"colorbar\": {\"outlinewidth\": 0, \"ticks\": \"\"}}, \"type\": \"scatterternary\"}], \"surface\": [{\"colorbar\": {\"outlinewidth\": 0, \"ticks\": \"\"}, \"colorscale\": [[0.0, \"#0d0887\"], [0.1111111111111111, \"#46039f\"], [0.2222222222222222, \"#7201a8\"], [0.3333333333333333, \"#9c179e\"], [0.4444444444444444, \"#bd3786\"], [0.5555555555555556, \"#d8576b\"], [0.6666666666666666, \"#ed7953\"], [0.7777777777777778, \"#fb9f3a\"], [0.8888888888888888, \"#fdca26\"], [1.0, \"#f0f921\"]], \"type\": \"surface\"}], \"table\": [{\"cells\": {\"fill\": {\"color\": \"#EBF0F8\"}, \"line\": {\"color\": \"white\"}}, \"header\": {\"fill\": {\"color\": \"#C8D4E3\"}, \"line\": {\"color\": \"white\"}}, \"type\": \"table\"}]}, \"layout\": {\"annotationdefaults\": {\"arrowcolor\": \"#2a3f5f\", \"arrowhead\": 0, \"arrowwidth\": 1}, \"colorscale\": {\"diverging\": [[0, \"#8e0152\"], [0.1, \"#c51b7d\"], [0.2, \"#de77ae\"], [0.3, \"#f1b6da\"], [0.4, \"#fde0ef\"], [0.5, \"#f7f7f7\"], [0.6, \"#e6f5d0\"], [0.7, \"#b8e186\"], [0.8, \"#7fbc41\"], [0.9, \"#4d9221\"], [1, \"#276419\"]], \"sequential\": [[0.0, \"#0d0887\"], [0.1111111111111111, \"#46039f\"], [0.2222222222222222, \"#7201a8\"], [0.3333333333333333, \"#9c179e\"], [0.4444444444444444, \"#bd3786\"], [0.5555555555555556, \"#d8576b\"], [0.6666666666666666, \"#ed7953\"], [0.7777777777777778, \"#fb9f3a\"], [0.8888888888888888, \"#fdca26\"], [1.0, \"#f0f921\"]], \"sequentialminus\": [[0.0, \"#0d0887\"], [0.1111111111111111, \"#46039f\"], [0.2222222222222222, \"#7201a8\"], [0.3333333333333333, \"#9c179e\"], [0.4444444444444444, \"#bd3786\"], [0.5555555555555556, \"#d8576b\"], [0.6666666666666666, \"#ed7953\"], [0.7777777777777778, \"#fb9f3a\"], [0.8888888888888888, \"#fdca26\"], [1.0, \"#f0f921\"]]}, \"colorway\": [\"#636efa\", \"#EF553B\", \"#00cc96\", \"#ab63fa\", \"#FFA15A\", \"#19d3f3\", \"#FF6692\", \"#B6E880\", \"#FF97FF\", \"#FECB52\"], \"font\": {\"color\": \"#2a3f5f\"}, \"geo\": {\"bgcolor\": \"white\", \"lakecolor\": \"white\", \"landcolor\": \"#E5ECF6\", \"showlakes\": true, \"showland\": true, \"subunitcolor\": \"white\"}, \"hoverlabel\": {\"align\": \"left\"}, \"hovermode\": \"closest\", \"mapbox\": {\"style\": \"light\"}, \"paper_bgcolor\": \"white\", \"plot_bgcolor\": \"#E5ECF6\", \"polar\": {\"angularaxis\": {\"gridcolor\": \"white\", \"linecolor\": \"white\", \"ticks\": \"\"}, \"bgcolor\": \"#E5ECF6\", \"radialaxis\": {\"gridcolor\": \"white\", \"linecolor\": \"white\", \"ticks\": \"\"}}, \"scene\": {\"xaxis\": {\"backgroundcolor\": \"#E5ECF6\", \"gridcolor\": \"white\", \"gridwidth\": 2, \"linecolor\": \"white\", \"showbackground\": true, \"ticks\": \"\", \"zerolinecolor\": \"white\"}, \"yaxis\": {\"backgroundcolor\": \"#E5ECF6\", \"gridcolor\": \"white\", \"gridwidth\": 2, \"linecolor\": \"white\", \"showbackground\": true, \"ticks\": \"\", \"zerolinecolor\": \"white\"}, \"zaxis\": {\"backgroundcolor\": \"#E5ECF6\", \"gridcolor\": \"white\", \"gridwidth\": 2, \"linecolor\": \"white\", \"showbackground\": true, \"ticks\": \"\", \"zerolinecolor\": \"white\"}}, \"shapedefaults\": {\"line\": {\"color\": \"#2a3f5f\"}}, \"ternary\": {\"aaxis\": {\"gridcolor\": \"white\", \"linecolor\": \"white\", \"ticks\": \"\"}, \"baxis\": {\"gridcolor\": \"white\", \"linecolor\": \"white\", \"ticks\": \"\"}, \"bgcolor\": \"#E5ECF6\", \"caxis\": {\"gridcolor\": \"white\", \"linecolor\": \"white\", \"ticks\": \"\"}}, \"title\": {\"x\": 0.05}, \"xaxis\": {\"automargin\": true, \"gridcolor\": \"white\", \"linecolor\": \"white\", \"ticks\": \"\", \"zerolinecolor\": \"white\", \"zerolinewidth\": 2}, \"yaxis\": {\"automargin\": true, \"gridcolor\": \"white\", \"linecolor\": \"white\", \"ticks\": \"\", \"zerolinecolor\": \"white\", \"zerolinewidth\": 2}}}, \"updatemenus\": [{\"buttons\": [{\"args\": [null, {\"frame\": {\"duration\": 500, \"redraw\": true}, \"fromcurrent\": true, \"mode\": \"immediate\", \"transition\": {\"duration\": 500, \"easing\": \"linear\"}}], \"label\": \"&#9654;\", \"method\": \"animate\"}, {\"args\": [[null], {\"frame\": {\"duration\": 0, \"redraw\": true}, \"fromcurrent\": true, \"mode\": \"immediate\", \"transition\": {\"duration\": 0, \"easing\": \"linear\"}}], \"label\": \"&#9724;\", \"method\": \"animate\"}], \"direction\": \"left\", \"pad\": {\"r\": 10, \"t\": 70}, \"showactive\": false, \"type\": \"buttons\", \"x\": 0.1, \"xanchor\": \"right\", \"y\": 0, \"yanchor\": \"top\"}]},\n",
       "                        {\"responsive\": true}\n",
       "                    ).then(function(){\n",
       "                            Plotly.addFrames('bbec0a37-3f4c-45c7-8c34-0bd5d67a9c54', [{\"data\": [{\"hoverlabel\": {\"namelength\": 0}, \"hovertemplate\": \"month=2019-09<br>category=anti-social-behaviour<br>latitude=%{lat}<br>longitude=%{lon}\", \"lat\": [53.960261, 53.95848, 53.941606, 53.962165, 53.959182, 53.962165, 53.959792, 53.955884, 53.960395, 53.953043, 53.95679, 53.959217, 53.958454, 53.960188, 53.957356, 53.958318, 53.959217, 53.961132, 53.95679, 53.961762, 53.957115, 53.957878, 53.962165, 53.960459], \"legendgroup\": \"month=2019-09\", \"lon\": [-2.009627, -2.018983, -2.03552, -2.015053, -2.00321, -2.015053, -2.016927, -2.008696, -2.017049, -2.013145, -2.020644, -2.01813, -2.001671, -2.018207, -2.019852, -2.016027, -2.01813, -2.012904, -2.020644, -2.002235, -2.004642, -2.016499, -2.015053, -1.999309], \"marker\": {\"color\": \"#636efa\"}, \"mode\": \"markers\", \"name\": \"month=2019-09\", \"showlegend\": true, \"subplot\": \"mapbox\", \"type\": \"scattermapbox\"}, {\"hoverlabel\": {\"namelength\": 0}, \"hovertemplate\": \"month=2019-08<br>category=anti-social-behaviour<br>latitude=%{lat}<br>longitude=%{lon}\", \"lat\": [53.960261, 53.95848, 53.941606, 53.962165, 53.959182, 53.962165, 53.959792, 53.955884, 53.960395, 53.953043, 53.95679, 53.959217, 53.958454, 53.960188, 53.957356, 53.958318, 53.959217, 53.961132, 53.95679, 53.961762, 53.957115, 53.957878, 53.962165, 53.960459, 53.956313, 53.961743, 53.95644, 53.960133, 53.959217, 53.959765, 53.960188, 53.959981, 53.957241], \"legendgroup\": \"month=2019-08\", \"lon\": [-2.009627, -2.018983, -2.03552, -2.015053, -2.00321, -2.015053, -2.016927, -2.008696, -2.017049, -2.013145, -2.020644, -2.01813, -2.001671, -2.018207, -2.019852, -2.016027, -2.01813, -2.012904, -2.020644, -2.002235, -2.004642, -2.016499, -2.015053, -1.999309, -2.024057, -2.015891, -2.016925, -2.019655, -2.01813, -2.017369, -2.018207, -2.019213, -2.001945], \"marker\": {\"color\": \"#EF553B\"}, \"mode\": \"markers\", \"name\": \"month=2019-08\", \"showlegend\": true, \"subplot\": \"mapbox\", \"type\": \"scattermapbox\"}, {\"hoverlabel\": {\"namelength\": 0}, \"hovertemplate\": \"month=2019-07<br>category=anti-social-behaviour<br>latitude=%{lat}<br>longitude=%{lon}\", \"lat\": [53.960261, 53.95848, 53.941606, 53.962165, 53.959182, 53.962165, 53.959792, 53.955884, 53.960395, 53.953043, 53.95679, 53.959217, 53.958454, 53.960188, 53.957356, 53.958318, 53.959217, 53.961132, 53.95679, 53.961762, 53.957115, 53.957878, 53.962165, 53.960459, 53.956313], \"legendgroup\": \"month=2019-07\", \"lon\": [-2.009627, -2.018983, -2.03552, -2.015053, -2.00321, -2.015053, -2.016927, -2.008696, -2.017049, -2.013145, -2.020644, -2.01813, -2.001671, -2.018207, -2.019852, -2.016027, -2.01813, -2.012904, -2.020644, -2.002235, -2.004642, -2.016499, -2.015053, -1.999309, -2.024057], \"marker\": {\"color\": \"#00cc96\"}, \"mode\": \"markers\", \"name\": \"month=2019-07\", \"showlegend\": true, \"subplot\": \"mapbox\", \"type\": \"scattermapbox\"}, {\"hoverlabel\": {\"namelength\": 0}, \"hovertemplate\": \"month=2019-06<br>category=anti-social-behaviour<br>latitude=%{lat}<br>longitude=%{lon}\", \"lat\": [53.960261, 53.95848, 53.941606, 53.962165, 53.959182, 53.962165, 53.959792, 53.955884, 53.960395, 53.953043, 53.95679, 53.959217, 53.958454, 53.960188, 53.957356, 53.958318, 53.959217], \"legendgroup\": \"month=2019-06\", \"lon\": [-2.009627, -2.018983, -2.03552, -2.015053, -2.00321, -2.015053, -2.016927, -2.008696, -2.017049, -2.013145, -2.020644, -2.01813, -2.001671, -2.018207, -2.019852, -2.016027, -2.01813], \"marker\": {\"color\": \"#ab63fa\"}, \"mode\": \"markers\", \"name\": \"month=2019-06\", \"showlegend\": true, \"subplot\": \"mapbox\", \"type\": \"scattermapbox\"}, {\"hoverlabel\": {\"namelength\": 0}, \"hovertemplate\": \"month=2019-05<br>category=anti-social-behaviour<br>latitude=%{lat}<br>longitude=%{lon}\", \"lat\": [53.960261, 53.95848, 53.941606, 53.962165, 53.959182, 53.962165, 53.959792, 53.955884, 53.960395, 53.953043, 53.95679, 53.959217, 53.958454, 53.960188, 53.957356, 53.958318, 53.959217, 53.961132, 53.95679, 53.961762, 53.957115, 53.957878], \"legendgroup\": \"month=2019-05\", \"lon\": [-2.009627, -2.018983, -2.03552, -2.015053, -2.00321, -2.015053, -2.016927, -2.008696, -2.017049, -2.013145, -2.020644, -2.01813, -2.001671, -2.018207, -2.019852, -2.016027, -2.01813, -2.012904, -2.020644, -2.002235, -2.004642, -2.016499], \"marker\": {\"color\": \"#FFA15A\"}, \"mode\": \"markers\", \"name\": \"month=2019-05\", \"showlegend\": true, \"subplot\": \"mapbox\", \"type\": \"scattermapbox\"}, {\"hoverlabel\": {\"namelength\": 0}, \"hovertemplate\": \"month=2019-04<br>category=anti-social-behaviour<br>latitude=%{lat}<br>longitude=%{lon}\", \"lat\": [53.960261, 53.95848, 53.941606, 53.962165, 53.959182, 53.962165, 53.959792, 53.955884, 53.960395, 53.953043, 53.95679, 53.959217, 53.958454, 53.960188, 53.957356, 53.958318, 53.959217, 53.961132, 53.95679, 53.961762, 53.957115, 53.957878, 53.962165, 53.960459, 53.956313, 53.961743, 53.95644, 53.960133, 53.959217, 53.959765, 53.960188, 53.959981, 53.957241, 53.945296, 53.953043, 53.960395, 53.95679], \"legendgroup\": \"month=2019-04\", \"lon\": [-2.009627, -2.018983, -2.03552, -2.015053, -2.00321, -2.015053, -2.016927, -2.008696, -2.017049, -2.013145, -2.020644, -2.01813, -2.001671, -2.018207, -2.019852, -2.016027, -2.01813, -2.012904, -2.020644, -2.002235, -2.004642, -2.016499, -2.015053, -1.999309, -2.024057, -2.015891, -2.016925, -2.019655, -2.01813, -2.017369, -2.018207, -2.019213, -2.001945, -2.013264, -2.013145, -2.017049, -2.020644], \"marker\": {\"color\": \"#19d3f3\"}, \"mode\": \"markers\", \"name\": \"month=2019-04\", \"showlegend\": true, \"subplot\": \"mapbox\", \"type\": \"scattermapbox\"}], \"name\": \"anti-social-behaviour\"}, {\"data\": [{\"hoverlabel\": {\"namelength\": 0}, \"hovertemplate\": \"month=2019-09<br>category=bicycle-theft<br>latitude=%{lat}<br>longitude=%{lon}\", \"lat\": [53.956313], \"legendgroup\": \"month=2019-09\", \"lon\": [-2.024057], \"marker\": {\"color\": \"#636efa\"}, \"mode\": \"markers\", \"name\": \"month=2019-09\", \"showlegend\": true, \"subplot\": \"mapbox\", \"type\": \"scattermapbox\"}], \"name\": \"bicycle-theft\"}, {\"data\": [{\"hoverlabel\": {\"namelength\": 0}, \"hovertemplate\": \"month=2019-09<br>category=burglary<br>latitude=%{lat}<br>longitude=%{lon}\", \"lat\": [53.961743, 53.95644], \"legendgroup\": \"month=2019-09\", \"lon\": [-2.015891, -2.016925], \"marker\": {\"color\": \"#636efa\"}, \"mode\": \"markers\", \"name\": \"month=2019-09\", \"showlegend\": true, \"subplot\": \"mapbox\", \"type\": \"scattermapbox\"}, {\"hoverlabel\": {\"namelength\": 0}, \"hovertemplate\": \"month=2019-08<br>category=burglary<br>latitude=%{lat}<br>longitude=%{lon}\", \"lat\": [53.945296, 53.953043, 53.960395, 53.95679, 53.961042, 53.961077, 53.953043], \"legendgroup\": \"month=2019-08\", \"lon\": [-2.013264, -2.013145, -2.017049, -2.020644, -2.015144, -2.019411, -2.013145], \"marker\": {\"color\": \"#EF553B\"}, \"mode\": \"markers\", \"name\": \"month=2019-08\", \"showlegend\": true, \"subplot\": \"mapbox\", \"type\": \"scattermapbox\"}, {\"hoverlabel\": {\"namelength\": 0}, \"hovertemplate\": \"month=2019-07<br>category=burglary<br>latitude=%{lat}<br>longitude=%{lon}\", \"lat\": [53.961743, 53.95644, 53.960133, 53.959217, 53.959765, 53.960188], \"legendgroup\": \"month=2019-07\", \"lon\": [-2.015891, -2.016925, -2.019655, -2.01813, -2.017369, -2.018207], \"marker\": {\"color\": \"#00cc96\"}, \"mode\": \"markers\", \"name\": \"month=2019-07\", \"showlegend\": true, \"subplot\": \"mapbox\", \"type\": \"scattermapbox\"}, {\"hoverlabel\": {\"namelength\": 0}, \"hovertemplate\": \"month=2019-06<br>category=burglary<br>latitude=%{lat}<br>longitude=%{lon}\", \"lat\": [53.961132, 53.95679, 53.961762], \"legendgroup\": \"month=2019-06\", \"lon\": [-2.012904, -2.020644, -2.002235], \"marker\": {\"color\": \"#ab63fa\"}, \"mode\": \"markers\", \"name\": \"month=2019-06\", \"showlegend\": true, \"subplot\": \"mapbox\", \"type\": \"scattermapbox\"}, {\"hoverlabel\": {\"namelength\": 0}, \"hovertemplate\": \"month=2019-05<br>category=burglary<br>latitude=%{lat}<br>longitude=%{lon}\", \"lat\": [53.962165, 53.960459, 53.956313, 53.961743, 53.95644, 53.960133], \"legendgroup\": \"month=2019-05\", \"lon\": [-2.015053, -1.999309, -2.024057, -2.015891, -2.016925, -2.019655], \"marker\": {\"color\": \"#FFA15A\"}, \"mode\": \"markers\", \"name\": \"month=2019-05\", \"showlegend\": true, \"subplot\": \"mapbox\", \"type\": \"scattermapbox\"}], \"name\": \"burglary\"}, {\"data\": [{\"hoverlabel\": {\"namelength\": 0}, \"hovertemplate\": \"month=2019-09<br>category=criminal-damage-arson<br>latitude=%{lat}<br>longitude=%{lon}\", \"lat\": [53.960133, 53.959217, 53.959765], \"legendgroup\": \"month=2019-09\", \"lon\": [-2.019655, -2.01813, -2.017369], \"marker\": {\"color\": \"#636efa\"}, \"mode\": \"markers\", \"name\": \"month=2019-09\", \"showlegend\": true, \"subplot\": \"mapbox\", \"type\": \"scattermapbox\"}, {\"hoverlabel\": {\"namelength\": 0}, \"hovertemplate\": \"month=2019-08<br>category=criminal-damage-arson<br>latitude=%{lat}<br>longitude=%{lon}\", \"lat\": [53.961743, 53.959082, 53.962165, 53.960395, 53.961743, 53.961141, 53.961743, 53.959082], \"legendgroup\": \"month=2019-08\", \"lon\": [-2.015891, -2.020919, -2.015053, -2.017049, -2.015891, -2.01519, -2.015891, -2.020919], \"marker\": {\"color\": \"#EF553B\"}, \"mode\": \"markers\", \"name\": \"month=2019-08\", \"showlegend\": true, \"subplot\": \"mapbox\", \"type\": \"scattermapbox\"}, {\"hoverlabel\": {\"namelength\": 0}, \"hovertemplate\": \"month=2019-07<br>category=criminal-damage-arson<br>latitude=%{lat}<br>longitude=%{lon}\", \"lat\": [53.959981, 53.957241, 53.945296, 53.953043, 53.960395, 53.95679, 53.961042, 53.961077, 53.953043], \"legendgroup\": \"month=2019-07\", \"lon\": [-2.019213, -2.001945, -2.013264, -2.013145, -2.017049, -2.020644, -2.015144, -2.019411, -2.013145], \"marker\": {\"color\": \"#00cc96\"}, \"mode\": \"markers\", \"name\": \"month=2019-07\", \"showlegend\": true, \"subplot\": \"mapbox\", \"type\": \"scattermapbox\"}, {\"hoverlabel\": {\"namelength\": 0}, \"hovertemplate\": \"month=2019-06<br>category=criminal-damage-arson<br>latitude=%{lat}<br>longitude=%{lon}\", \"lat\": [53.957115, 53.957878, 53.962165, 53.960459, 53.956313], \"legendgroup\": \"month=2019-06\", \"lon\": [-2.004642, -2.016499, -2.015053, -1.999309, -2.024057], \"marker\": {\"color\": \"#ab63fa\"}, \"mode\": \"markers\", \"name\": \"month=2019-06\", \"showlegend\": true, \"subplot\": \"mapbox\", \"type\": \"scattermapbox\"}, {\"hoverlabel\": {\"namelength\": 0}, \"hovertemplate\": \"month=2019-05<br>category=criminal-damage-arson<br>latitude=%{lat}<br>longitude=%{lon}\", \"lat\": [53.959217, 53.959765, 53.960188, 53.959981, 53.957241, 53.945296, 53.953043, 53.960395, 53.95679], \"legendgroup\": \"month=2019-05\", \"lon\": [-2.01813, -2.017369, -2.018207, -2.019213, -2.001945, -2.013264, -2.013145, -2.017049, -2.020644], \"marker\": {\"color\": \"#FFA15A\"}, \"mode\": \"markers\", \"name\": \"month=2019-05\", \"showlegend\": true, \"subplot\": \"mapbox\", \"type\": \"scattermapbox\"}, {\"hoverlabel\": {\"namelength\": 0}, \"hovertemplate\": \"month=2019-04<br>category=criminal-damage-arson<br>latitude=%{lat}<br>longitude=%{lon}\", \"lat\": [53.961042, 53.961077, 53.953043, 53.961743, 53.959082], \"legendgroup\": \"month=2019-04\", \"lon\": [-2.015144, -2.019411, -2.013145, -2.015891, -2.020919], \"marker\": {\"color\": \"#19d3f3\"}, \"mode\": \"markers\", \"name\": \"month=2019-04\", \"showlegend\": true, \"subplot\": \"mapbox\", \"type\": \"scattermapbox\"}], \"name\": \"criminal-damage-arson\"}, {\"data\": [{\"hoverlabel\": {\"namelength\": 0}, \"hovertemplate\": \"month=2019-09<br>category=other-theft<br>latitude=%{lat}<br>longitude=%{lon}\", \"lat\": [53.960188, 53.959981, 53.957241, 53.945296], \"legendgroup\": \"month=2019-09\", \"lon\": [-2.018207, -2.019213, -2.001945, -2.013264], \"marker\": {\"color\": \"#636efa\"}, \"mode\": \"markers\", \"name\": \"month=2019-09\", \"showlegend\": true, \"subplot\": \"mapbox\", \"type\": \"scattermapbox\"}, {\"hoverlabel\": {\"namelength\": 0}, \"hovertemplate\": \"month=2019-08<br>category=other-theft<br>latitude=%{lat}<br>longitude=%{lon}\", \"lat\": [53.960395, 53.956701, 53.950984, 53.957132, 53.957132, 53.957132], \"legendgroup\": \"month=2019-08\", \"lon\": [-2.017049, -2.013725, -2.019391, -2.018556, -2.018556, -2.018556], \"marker\": {\"color\": \"#EF553B\"}, \"mode\": \"markers\", \"name\": \"month=2019-08\", \"showlegend\": true, \"subplot\": \"mapbox\", \"type\": \"scattermapbox\"}, {\"hoverlabel\": {\"namelength\": 0}, \"hovertemplate\": \"month=2019-07<br>category=other-theft<br>latitude=%{lat}<br>longitude=%{lon}\", \"lat\": [53.962165, 53.960395, 53.961743, 53.961141, 53.961743], \"legendgroup\": \"month=2019-07\", \"lon\": [-2.015053, -2.017049, -2.015891, -2.01519, -2.015891], \"marker\": {\"color\": \"#00cc96\"}, \"mode\": \"markers\", \"name\": \"month=2019-07\", \"showlegend\": true, \"subplot\": \"mapbox\", \"type\": \"scattermapbox\"}, {\"hoverlabel\": {\"namelength\": 0}, \"hovertemplate\": \"month=2019-06<br>category=other-theft<br>latitude=%{lat}<br>longitude=%{lon}\", \"lat\": [53.959765, 53.960188, 53.959981, 53.957241], \"legendgroup\": \"month=2019-06\", \"lon\": [-2.017369, -2.018207, -2.019213, -2.001945], \"marker\": {\"color\": \"#ab63fa\"}, \"mode\": \"markers\", \"name\": \"month=2019-06\", \"showlegend\": true, \"subplot\": \"mapbox\", \"type\": \"scattermapbox\"}, {\"hoverlabel\": {\"namelength\": 0}, \"hovertemplate\": \"month=2019-05<br>category=other-theft<br>latitude=%{lat}<br>longitude=%{lon}\", \"lat\": [53.961743, 53.959082, 53.962165, 53.960395, 53.961743, 53.961141], \"legendgroup\": \"month=2019-05\", \"lon\": [-2.015891, -2.020919, -2.015053, -2.017049, -2.015891, -2.01519], \"marker\": {\"color\": \"#FFA15A\"}, \"mode\": \"markers\", \"name\": \"month=2019-05\", \"showlegend\": true, \"subplot\": \"mapbox\", \"type\": \"scattermapbox\"}, {\"hoverlabel\": {\"namelength\": 0}, \"hovertemplate\": \"month=2019-04<br>category=other-theft<br>latitude=%{lat}<br>longitude=%{lon}\", \"lat\": [53.961743, 53.961141, 53.961743, 53.959082, 53.961159, 53.960395], \"legendgroup\": \"month=2019-04\", \"lon\": [-2.015891, -2.01519, -2.015891, -2.020919, -2.016485, -2.017049], \"marker\": {\"color\": \"#19d3f3\"}, \"mode\": \"markers\", \"name\": \"month=2019-04\", \"showlegend\": true, \"subplot\": \"mapbox\", \"type\": \"scattermapbox\"}], \"name\": \"other-theft\"}, {\"data\": [{\"hoverlabel\": {\"namelength\": 0}, \"hovertemplate\": \"month=2019-09<br>category=public-order<br>latitude=%{lat}<br>longitude=%{lon}\", \"lat\": [53.953043, 53.960395, 53.95679, 53.961042, 53.961077, 53.953043], \"legendgroup\": \"month=2019-09\", \"lon\": [-2.013145, -2.017049, -2.020644, -2.015144, -2.019411, -2.013145], \"marker\": {\"color\": \"#636efa\"}, \"mode\": \"markers\", \"name\": \"month=2019-09\", \"showlegend\": true, \"subplot\": \"mapbox\", \"type\": \"scattermapbox\"}, {\"hoverlabel\": {\"namelength\": 0}, \"hovertemplate\": \"month=2019-08<br>category=public-order<br>latitude=%{lat}<br>longitude=%{lon}\", \"lat\": [53.953043, 53.960099, 53.953203, 53.953203, 53.961005], \"legendgroup\": \"month=2019-08\", \"lon\": [-2.013145, -2.012294, -2.022349, -2.022349, -2.018436], \"marker\": {\"color\": \"#EF553B\"}, \"mode\": \"markers\", \"name\": \"month=2019-08\", \"showlegend\": true, \"subplot\": \"mapbox\", \"type\": \"scattermapbox\"}, {\"hoverlabel\": {\"namelength\": 0}, \"hovertemplate\": \"month=2019-07<br>category=public-order<br>latitude=%{lat}<br>longitude=%{lon}\", \"lat\": [53.959082, 53.961159, 53.960395, 53.956701, 53.950984], \"legendgroup\": \"month=2019-07\", \"lon\": [-2.020919, -2.016485, -2.017049, -2.013725, -2.019391], \"marker\": {\"color\": \"#00cc96\"}, \"mode\": \"markers\", \"name\": \"month=2019-07\", \"showlegend\": true, \"subplot\": \"mapbox\", \"type\": \"scattermapbox\"}, {\"hoverlabel\": {\"namelength\": 0}, \"hovertemplate\": \"month=2019-06<br>category=public-order<br>latitude=%{lat}<br>longitude=%{lon}\", \"lat\": [53.945296, 53.953043], \"legendgroup\": \"month=2019-06\", \"lon\": [-2.013264, -2.013145], \"marker\": {\"color\": \"#ab63fa\"}, \"mode\": \"markers\", \"name\": \"month=2019-06\", \"showlegend\": true, \"subplot\": \"mapbox\", \"type\": \"scattermapbox\"}, {\"hoverlabel\": {\"namelength\": 0}, \"hovertemplate\": \"month=2019-05<br>category=public-order<br>latitude=%{lat}<br>longitude=%{lon}\", \"lat\": [53.959082, 53.961159], \"legendgroup\": \"month=2019-05\", \"lon\": [-2.020919, -2.016485], \"marker\": {\"color\": \"#FFA15A\"}, \"mode\": \"markers\", \"name\": \"month=2019-05\", \"showlegend\": true, \"subplot\": \"mapbox\", \"type\": \"scattermapbox\"}, {\"hoverlabel\": {\"namelength\": 0}, \"hovertemplate\": \"month=2019-04<br>category=public-order<br>latitude=%{lat}<br>longitude=%{lon}\", \"lat\": [53.956701, 53.950984, 53.957132, 53.957132, 53.957132, 53.953043], \"legendgroup\": \"month=2019-04\", \"lon\": [-2.013725, -2.019391, -2.018556, -2.018556, -2.018556, -2.013145], \"marker\": {\"color\": \"#19d3f3\"}, \"mode\": \"markers\", \"name\": \"month=2019-04\", \"showlegend\": true, \"subplot\": \"mapbox\", \"type\": \"scattermapbox\"}], \"name\": \"public-order\"}, {\"data\": [{\"hoverlabel\": {\"namelength\": 0}, \"hovertemplate\": \"month=2019-09<br>category=shoplifting<br>latitude=%{lat}<br>longitude=%{lon}\", \"lat\": [53.961743, 53.959082, 53.962165, 53.960395, 53.961743, 53.961141, 53.961743, 53.959082, 53.961159, 53.960395], \"legendgroup\": \"month=2019-09\", \"lon\": [-2.015891, -2.020919, -2.015053, -2.017049, -2.015891, -2.01519, -2.015891, -2.020919, -2.016485, -2.017049], \"marker\": {\"color\": \"#636efa\"}, \"mode\": \"markers\", \"name\": \"month=2019-09\", \"showlegend\": true, \"subplot\": \"mapbox\", \"type\": \"scattermapbox\"}, {\"hoverlabel\": {\"namelength\": 0}, \"hovertemplate\": \"month=2019-08<br>category=shoplifting<br>latitude=%{lat}<br>longitude=%{lon}\", \"lat\": [53.961159, 53.954733, 53.951568, 53.958327, 53.962372, 53.959217, 53.960395, 53.95848, 53.960133, 53.959217, 53.944208], \"legendgroup\": \"month=2019-08\", \"lon\": [-2.016485, -2.010372, -2.023171, -2.020599, -2.017263, -2.01813, -2.017049, -2.018983, -2.019655, -2.01813, -2.012456], \"marker\": {\"color\": \"#EF553B\"}, \"mode\": \"markers\", \"name\": \"month=2019-08\", \"showlegend\": true, \"subplot\": \"mapbox\", \"type\": \"scattermapbox\"}, {\"hoverlabel\": {\"namelength\": 0}, \"hovertemplate\": \"month=2019-07<br>category=shoplifting<br>latitude=%{lat}<br>longitude=%{lon}\", \"lat\": [53.957132, 53.957132, 53.957132, 53.953043, 53.960099, 53.953203, 53.953203, 53.961005, 53.961159], \"legendgroup\": \"month=2019-07\", \"lon\": [-2.018556, -2.018556, -2.018556, -2.013145, -2.012294, -2.022349, -2.022349, -2.018436, -2.016485], \"marker\": {\"color\": \"#00cc96\"}, \"mode\": \"markers\", \"name\": \"month=2019-07\", \"showlegend\": true, \"subplot\": \"mapbox\", \"type\": \"scattermapbox\"}, {\"hoverlabel\": {\"namelength\": 0}, \"hovertemplate\": \"month=2019-06<br>category=shoplifting<br>latitude=%{lat}<br>longitude=%{lon}\", \"lat\": [53.960395, 53.95679, 53.961042, 53.961077, 53.953043], \"legendgroup\": \"month=2019-06\", \"lon\": [-2.017049, -2.020644, -2.015144, -2.019411, -2.013145], \"marker\": {\"color\": \"#ab63fa\"}, \"mode\": \"markers\", \"name\": \"month=2019-06\", \"showlegend\": true, \"subplot\": \"mapbox\", \"type\": \"scattermapbox\"}, {\"hoverlabel\": {\"namelength\": 0}, \"hovertemplate\": \"month=2019-05<br>category=shoplifting<br>latitude=%{lat}<br>longitude=%{lon}\", \"lat\": [53.960395, 53.956701, 53.950984, 53.957132, 53.957132, 53.957132], \"legendgroup\": \"month=2019-05\", \"lon\": [-2.017049, -2.013725, -2.019391, -2.018556, -2.018556, -2.018556], \"marker\": {\"color\": \"#FFA15A\"}, \"mode\": \"markers\", \"name\": \"month=2019-05\", \"showlegend\": true, \"subplot\": \"mapbox\", \"type\": \"scattermapbox\"}, {\"hoverlabel\": {\"namelength\": 0}, \"hovertemplate\": \"month=2019-04<br>category=shoplifting<br>latitude=%{lat}<br>longitude=%{lon}\", \"lat\": [53.960099, 53.953203, 53.953203, 53.961005, 53.961159, 53.954733], \"legendgroup\": \"month=2019-04\", \"lon\": [-2.012294, -2.022349, -2.022349, -2.018436, -2.016485, -2.010372], \"marker\": {\"color\": \"#19d3f3\"}, \"mode\": \"markers\", \"name\": \"month=2019-04\", \"showlegend\": true, \"subplot\": \"mapbox\", \"type\": \"scattermapbox\"}], \"name\": \"shoplifting\"}, {\"data\": [{\"hoverlabel\": {\"namelength\": 0}, \"hovertemplate\": \"month=2019-09<br>category=vehicle-crime<br>latitude=%{lat}<br>longitude=%{lon}\", \"lat\": [53.956701, 53.950984], \"legendgroup\": \"month=2019-09\", \"lon\": [-2.013725, -2.019391], \"marker\": {\"color\": \"#636efa\"}, \"mode\": \"markers\", \"name\": \"month=2019-09\", \"showlegend\": true, \"subplot\": \"mapbox\", \"type\": \"scattermapbox\"}, {\"hoverlabel\": {\"namelength\": 0}, \"hovertemplate\": \"month=2019-08<br>category=vehicle-crime<br>latitude=%{lat}<br>longitude=%{lon}\", \"lat\": [53.95848, 53.957905, 53.960459], \"legendgroup\": \"month=2019-08\", \"lon\": [-2.018983, -2.015051, -1.999309], \"marker\": {\"color\": \"#EF553B\"}, \"mode\": \"markers\", \"name\": \"month=2019-08\", \"showlegend\": true, \"subplot\": \"mapbox\", \"type\": \"scattermapbox\"}, {\"hoverlabel\": {\"namelength\": 0}, \"hovertemplate\": \"month=2019-07<br>category=vehicle-crime<br>latitude=%{lat}<br>longitude=%{lon}\", \"lat\": [53.958327, 53.962372, 53.959217, 53.960395, 53.95848], \"legendgroup\": \"month=2019-07\", \"lon\": [-2.020599, -2.017263, -2.01813, -2.017049, -2.018983], \"marker\": {\"color\": \"#00cc96\"}, \"mode\": \"markers\", \"name\": \"month=2019-07\", \"showlegend\": true, \"subplot\": \"mapbox\", \"type\": \"scattermapbox\"}, {\"hoverlabel\": {\"namelength\": 0}, \"hovertemplate\": \"month=2019-06<br>category=vehicle-crime<br>latitude=%{lat}<br>longitude=%{lon}\", \"lat\": [53.959082], \"legendgroup\": \"month=2019-06\", \"lon\": [-2.020919], \"marker\": {\"color\": \"#ab63fa\"}, \"mode\": \"markers\", \"name\": \"month=2019-06\", \"showlegend\": true, \"subplot\": \"mapbox\", \"type\": \"scattermapbox\"}, {\"hoverlabel\": {\"namelength\": 0}, \"hovertemplate\": \"month=2019-05<br>category=vehicle-crime<br>latitude=%{lat}<br>longitude=%{lon}\", \"lat\": [53.961005, 53.961159, 53.954733, 53.951568, 53.958327, 53.962372, 53.959217, 53.960395, 53.95848, 53.960133, 53.959217], \"legendgroup\": \"month=2019-05\", \"lon\": [-2.018436, -2.016485, -2.010372, -2.023171, -2.020599, -2.017263, -2.01813, -2.017049, -2.018983, -2.019655, -2.01813], \"marker\": {\"color\": \"#FFA15A\"}, \"mode\": \"markers\", \"name\": \"month=2019-05\", \"showlegend\": true, \"subplot\": \"mapbox\", \"type\": \"scattermapbox\"}, {\"hoverlabel\": {\"namelength\": 0}, \"hovertemplate\": \"month=2019-04<br>category=vehicle-crime<br>latitude=%{lat}<br>longitude=%{lon}\", \"lat\": [53.951568, 53.958327, 53.962372, 53.959217], \"legendgroup\": \"month=2019-04\", \"lon\": [-2.023171, -2.020599, -2.017263, -2.01813], \"marker\": {\"color\": \"#19d3f3\"}, \"mode\": \"markers\", \"name\": \"month=2019-04\", \"showlegend\": true, \"subplot\": \"mapbox\", \"type\": \"scattermapbox\"}], \"name\": \"vehicle-crime\"}, {\"data\": [{\"hoverlabel\": {\"namelength\": 0}, \"hovertemplate\": \"month=2019-09<br>category=violent-crime<br>latitude=%{lat}<br>longitude=%{lon}\", \"lat\": [53.957132, 53.957132, 53.957132, 53.953043, 53.960099, 53.953203, 53.953203, 53.961005, 53.961159, 53.954733, 53.951568, 53.958327, 53.962372, 53.959217, 53.960395, 53.95848, 53.960133, 53.959217, 53.944208, 53.95848, 53.957905, 53.960459, 53.954733, 53.961654, 53.960395, 53.957277, 53.939454, 53.939454, 53.959082, 53.956332], \"legendgroup\": \"month=2019-09\", \"lon\": [-2.018556, -2.018556, -2.018556, -2.013145, -2.012294, -2.022349, -2.022349, -2.018436, -2.016485, -2.010372, -2.023171, -2.020599, -2.017263, -2.01813, -2.017049, -2.018983, -2.019655, -2.01813, -2.012456, -2.018983, -2.015051, -1.999309, -2.010372, -2.011105, -2.017049, -2.003911, -2.013658, -2.013658, -2.020919, -2.019912], \"marker\": {\"color\": \"#636efa\"}, \"mode\": \"markers\", \"name\": \"month=2019-09\", \"showlegend\": true, \"subplot\": \"mapbox\", \"type\": \"scattermapbox\"}, {\"hoverlabel\": {\"namelength\": 0}, \"hovertemplate\": \"month=2019-08<br>category=violent-crime<br>latitude=%{lat}<br>longitude=%{lon}\", \"lat\": [53.954733, 53.961654, 53.960395, 53.957277, 53.939454, 53.939454, 53.959082, 53.956332, 53.959217, 53.953203, 53.957475, 53.959792, 53.951568, 53.96728, 53.961159, 53.951568, 53.961159, 53.946812, 53.960395, 53.961743, 53.959892, 53.959981, 53.957438, 53.951325, 53.953203, 53.962372], \"legendgroup\": \"month=2019-08\", \"lon\": [-2.010372, -2.011105, -2.017049, -2.003911, -2.013658, -2.013658, -2.020919, -2.019912, -2.01813, -2.022349, -2.006486, -2.016927, -2.023171, -2.006793, -2.016485, -2.023171, -2.016485, -2.026703, -2.017049, -2.015891, -2.008255, -2.019213, -2.014091, -2.021875, -2.022349, -2.017263], \"marker\": {\"color\": \"#EF553B\"}, \"mode\": \"markers\", \"name\": \"month=2019-08\", \"showlegend\": true, \"subplot\": \"mapbox\", \"type\": \"scattermapbox\"}, {\"hoverlabel\": {\"namelength\": 0}, \"hovertemplate\": \"month=2019-07<br>category=violent-crime<br>latitude=%{lat}<br>longitude=%{lon}\", \"lat\": [53.960133, 53.959217, 53.944208, 53.95848, 53.957905, 53.960459, 53.954733, 53.961654, 53.960395, 53.957277, 53.939454, 53.939454, 53.959082, 53.956332, 53.959217, 53.953203, 53.957475, 53.959792, 53.951568, 53.96728, 53.961159, 53.951568, 53.961159, 53.946812, 53.960395, 53.961743, 53.959892, 53.959981, 53.957438, 53.951325], \"legendgroup\": \"month=2019-07\", \"lon\": [-2.019655, -2.01813, -2.012456, -2.018983, -2.015051, -1.999309, -2.010372, -2.011105, -2.017049, -2.003911, -2.013658, -2.013658, -2.020919, -2.019912, -2.01813, -2.022349, -2.006486, -2.016927, -2.023171, -2.006793, -2.016485, -2.023171, -2.016485, -2.026703, -2.017049, -2.015891, -2.008255, -2.019213, -2.014091, -2.021875], \"marker\": {\"color\": \"#00cc96\"}, \"mode\": \"markers\", \"name\": \"month=2019-07\", \"showlegend\": true, \"subplot\": \"mapbox\", \"type\": \"scattermapbox\"}, {\"hoverlabel\": {\"namelength\": 0}, \"hovertemplate\": \"month=2019-06<br>category=violent-crime<br>latitude=%{lat}<br>longitude=%{lon}\", \"lat\": [53.962165, 53.960395, 53.961743, 53.961141, 53.961743, 53.959082, 53.961159, 53.960395, 53.956701, 53.950984, 53.957132, 53.957132, 53.957132, 53.953043, 53.960099, 53.953203, 53.953203, 53.961005, 53.961159, 53.954733, 53.951568, 53.958327, 53.962372, 53.959217, 53.960395, 53.95848, 53.960133, 53.959217, 53.944208], \"legendgroup\": \"month=2019-06\", \"lon\": [-2.015053, -2.017049, -2.015891, -2.01519, -2.015891, -2.020919, -2.016485, -2.017049, -2.013725, -2.019391, -2.018556, -2.018556, -2.018556, -2.013145, -2.012294, -2.022349, -2.022349, -2.018436, -2.016485, -2.010372, -2.023171, -2.020599, -2.017263, -2.01813, -2.017049, -2.018983, -2.019655, -2.01813, -2.012456], \"marker\": {\"color\": \"#ab63fa\"}, \"mode\": \"markers\", \"name\": \"month=2019-06\", \"showlegend\": true, \"subplot\": \"mapbox\", \"type\": \"scattermapbox\"}, {\"hoverlabel\": {\"namelength\": 0}, \"hovertemplate\": \"month=2019-05<br>category=violent-crime<br>latitude=%{lat}<br>longitude=%{lon}\", \"lat\": [53.944208, 53.95848, 53.957905, 53.960459, 53.954733, 53.961654, 53.960395, 53.957277, 53.939454, 53.939454, 53.959082, 53.956332, 53.959217, 53.953203, 53.957475, 53.959792, 53.951568, 53.96728, 53.961159, 53.951568, 53.961159, 53.946812, 53.960395, 53.961743, 53.959892, 53.959981, 53.957438, 53.951325, 53.953203, 53.962372, 53.962435, 53.957132, 53.960395, 53.959981, 53.960395, 53.959218, 53.953203], \"legendgroup\": \"month=2019-05\", \"lon\": [-2.012456, -2.018983, -2.015051, -1.999309, -2.010372, -2.011105, -2.017049, -2.003911, -2.013658, -2.013658, -2.020919, -2.019912, -2.01813, -2.022349, -2.006486, -2.016927, -2.023171, -2.006793, -2.016485, -2.023171, -2.016485, -2.026703, -2.017049, -2.015891, -2.008255, -2.019213, -2.014091, -2.021875, -2.022349, -2.017263, -2.013757, -2.018556, -2.017049, -2.019213, -2.017049, -2.013147, -2.022349], \"marker\": {\"color\": \"#FFA15A\"}, \"mode\": \"markers\", \"name\": \"month=2019-05\", \"showlegend\": true, \"subplot\": \"mapbox\", \"type\": \"scattermapbox\"}, {\"hoverlabel\": {\"namelength\": 0}, \"hovertemplate\": \"month=2019-04<br>category=violent-crime<br>latitude=%{lat}<br>longitude=%{lon}\", \"lat\": [53.960395, 53.95848, 53.960133, 53.959217, 53.944208, 53.95848, 53.957905, 53.960459, 53.954733, 53.961654, 53.960395, 53.957277, 53.939454, 53.939454, 53.959082, 53.956332, 53.959217, 53.953203, 53.957475, 53.959792, 53.951568, 53.96728], \"legendgroup\": \"month=2019-04\", \"lon\": [-2.017049, -2.018983, -2.019655, -2.01813, -2.012456, -2.018983, -2.015051, -1.999309, -2.010372, -2.011105, -2.017049, -2.003911, -2.013658, -2.013658, -2.020919, -2.019912, -2.01813, -2.022349, -2.006486, -2.016927, -2.023171, -2.006793], \"marker\": {\"color\": \"#19d3f3\"}, \"mode\": \"markers\", \"name\": \"month=2019-04\", \"showlegend\": true, \"subplot\": \"mapbox\", \"type\": \"scattermapbox\"}], \"name\": \"violent-crime\"}, {\"data\": [{\"hoverlabel\": {\"namelength\": 0}, \"hovertemplate\": \"month=2019-08<br>category=drugs<br>latitude=%{lat}<br>longitude=%{lon}\", \"lat\": [53.961159], \"legendgroup\": \"month=2019-08\", \"lon\": [-2.016485], \"marker\": {\"color\": \"#EF553B\"}, \"mode\": \"markers\", \"name\": \"month=2019-08\", \"showlegend\": true, \"subplot\": \"mapbox\", \"type\": \"scattermapbox\"}, {\"hoverlabel\": {\"namelength\": 0}, \"hovertemplate\": \"month=2019-07<br>category=drugs<br>latitude=%{lat}<br>longitude=%{lon}\", \"lat\": [53.961743, 53.959082], \"legendgroup\": \"month=2019-07\", \"lon\": [-2.015891, -2.020919], \"marker\": {\"color\": \"#00cc96\"}, \"mode\": \"markers\", \"name\": \"month=2019-07\", \"showlegend\": true, \"subplot\": \"mapbox\", \"type\": \"scattermapbox\"}, {\"hoverlabel\": {\"namelength\": 0}, \"hovertemplate\": \"month=2019-06<br>category=drugs<br>latitude=%{lat}<br>longitude=%{lon}\", \"lat\": [53.961743, 53.95644, 53.960133, 53.959217], \"legendgroup\": \"month=2019-06\", \"lon\": [-2.015891, -2.016925, -2.019655, -2.01813], \"marker\": {\"color\": \"#ab63fa\"}, \"mode\": \"markers\", \"name\": \"month=2019-06\", \"showlegend\": true, \"subplot\": \"mapbox\", \"type\": \"scattermapbox\"}, {\"hoverlabel\": {\"namelength\": 0}, \"hovertemplate\": \"month=2019-05<br>category=drugs<br>latitude=%{lat}<br>longitude=%{lon}\", \"lat\": [53.961042, 53.961077, 53.953043], \"legendgroup\": \"month=2019-05\", \"lon\": [-2.015144, -2.019411, -2.013145], \"marker\": {\"color\": \"#FFA15A\"}, \"mode\": \"markers\", \"name\": \"month=2019-05\", \"showlegend\": true, \"subplot\": \"mapbox\", \"type\": \"scattermapbox\"}, {\"hoverlabel\": {\"namelength\": 0}, \"hovertemplate\": \"month=2019-04<br>category=drugs<br>latitude=%{lat}<br>longitude=%{lon}\", \"lat\": [53.962165, 53.960395], \"legendgroup\": \"month=2019-04\", \"lon\": [-2.015053, -2.017049], \"marker\": {\"color\": \"#19d3f3\"}, \"mode\": \"markers\", \"name\": \"month=2019-04\", \"showlegend\": true, \"subplot\": \"mapbox\", \"type\": \"scattermapbox\"}], \"name\": \"drugs\"}, {\"data\": [{\"hoverlabel\": {\"namelength\": 0}, \"hovertemplate\": \"month=2019-07<br>category=theft-from-the-person<br>latitude=%{lat}<br>longitude=%{lon}\", \"lat\": [53.954733, 53.951568], \"legendgroup\": \"month=2019-07\", \"lon\": [-2.010372, -2.023171], \"marker\": {\"color\": \"#00cc96\"}, \"mode\": \"markers\", \"name\": \"month=2019-07\", \"showlegend\": true, \"subplot\": \"mapbox\", \"type\": \"scattermapbox\"}, {\"hoverlabel\": {\"namelength\": 0}, \"hovertemplate\": \"month=2019-06<br>category=theft-from-the-person<br>latitude=%{lat}<br>longitude=%{lon}\", \"lat\": [53.961743], \"legendgroup\": \"month=2019-06\", \"lon\": [-2.015891], \"marker\": {\"color\": \"#ab63fa\"}, \"mode\": \"markers\", \"name\": \"month=2019-06\", \"showlegend\": true, \"subplot\": \"mapbox\", \"type\": \"scattermapbox\"}, {\"hoverlabel\": {\"namelength\": 0}, \"hovertemplate\": \"month=2019-05<br>category=theft-from-the-person<br>latitude=%{lat}<br>longitude=%{lon}\", \"lat\": [53.953043, 53.960099, 53.953203, 53.953203], \"legendgroup\": \"month=2019-05\", \"lon\": [-2.013145, -2.012294, -2.022349, -2.022349], \"marker\": {\"color\": \"#FFA15A\"}, \"mode\": \"markers\", \"name\": \"month=2019-05\", \"showlegend\": true, \"subplot\": \"mapbox\", \"type\": \"scattermapbox\"}], \"name\": \"theft-from-the-person\"}, {\"data\": [{\"hoverlabel\": {\"namelength\": 0}, \"hovertemplate\": \"month=2019-07<br>category=other-crime<br>latitude=%{lat}<br>longitude=%{lon}\", \"lat\": [53.953203], \"legendgroup\": \"month=2019-07\", \"lon\": [-2.022349], \"marker\": {\"color\": \"#00cc96\"}, \"mode\": \"markers\", \"name\": \"month=2019-07\", \"showlegend\": true, \"subplot\": \"mapbox\", \"type\": \"scattermapbox\"}, {\"hoverlabel\": {\"namelength\": 0}, \"hovertemplate\": \"month=2019-05<br>category=other-crime<br>latitude=%{lat}<br>longitude=%{lon}\", \"lat\": [53.957132], \"legendgroup\": \"month=2019-05\", \"lon\": [-2.018556], \"marker\": {\"color\": \"#FFA15A\"}, \"mode\": \"markers\", \"name\": \"month=2019-05\", \"showlegend\": true, \"subplot\": \"mapbox\", \"type\": \"scattermapbox\"}, {\"hoverlabel\": {\"namelength\": 0}, \"hovertemplate\": \"month=2019-04<br>category=other-crime<br>latitude=%{lat}<br>longitude=%{lon}\", \"lat\": [53.961159, 53.951568], \"legendgroup\": \"month=2019-04\", \"lon\": [-2.016485, -2.023171], \"marker\": {\"color\": \"#19d3f3\"}, \"mode\": \"markers\", \"name\": \"month=2019-04\", \"showlegend\": true, \"subplot\": \"mapbox\", \"type\": \"scattermapbox\"}], \"name\": \"other-crime\"}, {\"data\": [{\"hoverlabel\": {\"namelength\": 0}, \"hovertemplate\": \"month=2019-05<br>category=possession-of-weapons<br>latitude=%{lat}<br>longitude=%{lon}\", \"lat\": [53.961743], \"legendgroup\": \"month=2019-05\", \"lon\": [-2.015891], \"marker\": {\"color\": \"#FFA15A\"}, \"mode\": \"markers\", \"name\": \"month=2019-05\", \"showlegend\": true, \"subplot\": \"mapbox\", \"type\": \"scattermapbox\"}], \"name\": \"possession-of-weapons\"}]);\n",
       "                        }).then(function(){\n",
       "                            \n",
       "var gd = document.getElementById('bbec0a37-3f4c-45c7-8c34-0bd5d67a9c54');\n",
       "var x = new MutationObserver(function (mutations, observer) {{\n",
       "        var display = window.getComputedStyle(gd).display;\n",
       "        if (!display || display === 'none') {{\n",
       "            console.log([gd, 'removed!']);\n",
       "            Plotly.purge(gd);\n",
       "            observer.disconnect();\n",
       "        }}\n",
       "}});\n",
       "\n",
       "// Listen for the removal of the full notebook cells\n",
       "var notebookContainer = gd.closest('#notebook-container');\n",
       "if (notebookContainer) {{\n",
       "    x.observe(notebookContainer, {childList: true});\n",
       "}}\n",
       "\n",
       "// Listen for the clearing of the current output cell\n",
       "var outputEl = gd.closest('.output');\n",
       "if (outputEl) {{\n",
       "    x.observe(outputEl, {childList: true});\n",
       "}}\n",
       "\n",
       "                        })\n",
       "                };\n",
       "                });\n",
       "            </script>\n",
       "        </div>"
      ]
     },
     "metadata": {},
     "output_type": "display_data"
    }
   ],
   "source": [
    "import plotly.express as px\n",
    "fig = px.scatter_mapbox(craven, lon=\"longitude\", lat=\"latitude\", color=\"month\", zoom=14, animation_frame=\"category\")\n",
    "fig.update_layout(mapbox_style=\"open-street-map\")\n",
    "fig.update_layout(margin={\"r\":0,\"t\":0,\"l\":0,\"b\":0})\n",
    "fig.show()"
   ]
  },
  {
   "cell_type": "code",
   "execution_count": 17,
   "metadata": {},
   "outputs": [],
   "source": [
    "import numpy as np\n",
    "\n",
    "violent = craven.loc[craven['category']==\"violent-crime\"]\n",
    "#need to figure out how to aggregate the group crime types and count whats in each then add it to the dataframe\n",
    "#reset index is there in order to get the name for the count column\n",
    "#longitutde and latitude need to be inside the square brackets or it messes up.\n",
    "grouped = violent.groupby(['longitude','latitude','month']).size().reset_index(name='count')\n",
    "#grouped['freq'] = violent.groupby('longitude')['latitude'].value_counts().transform('freq')"
   ]
  },
  {
   "cell_type": "markdown",
   "metadata": {},
   "source": [
    "# Violent Crimes in Skipton by month\n",
    "\n",
    "I created a different figure, this time with the size of the point showing the count of the crime and the colour showing the month comitted. This is only for violent crimes, but it gives a clear picture of the locations. Still has some of the flaws of the above figure.\n"
   ]
  },
  {
   "cell_type": "code",
   "execution_count": 15,
   "metadata": {
    "scrolled": true
   },
   "outputs": [
    {
     "data": {
      "application/vnd.plotly.v1+json": {
       "config": {
        "plotlyServerURL": "https://plot.ly"
       },
       "data": [
        {
         "hoverlabel": {
          "namelength": 0
         },
         "hovertemplate": "month=2019-05<br>count=%{marker.size}<br>latitude=%{lat}<br>longitude=%{lon}",
         "lat": [
          53.946812,
          53.951568,
          53.953203,
          53.951325,
          53.959082,
          53.956332,
          53.959981,
          53.95848,
          53.957132,
          53.959217,
          53.962372,
          53.960395,
          53.959792,
          53.961159,
          53.961743,
          53.957905,
          53.957438,
          53.962435,
          53.939454,
          53.959218,
          53.944208,
          53.961654,
          53.954733,
          53.959892,
          53.96728,
          53.957475,
          53.957277,
          53.960459
         ],
         "legendgroup": "month=2019-05",
         "lon": [
          -2.026703,
          -2.023171,
          -2.022349,
          -2.021875,
          -2.020919,
          -2.019912,
          -2.019213,
          -2.018983,
          -2.018556,
          -2.01813,
          -2.017263,
          -2.017049,
          -2.016927,
          -2.016485,
          -2.015891,
          -2.015051,
          -2.014091,
          -2.013757,
          -2.013658,
          -2.013147,
          -2.012456,
          -2.011105,
          -2.010372,
          -2.008255,
          -2.006793,
          -2.006486,
          -2.003911,
          -1.999309
         ],
         "marker": {
          "color": "#636efa",
          "size": [
           1,
           2,
           3,
           1,
           1,
           1,
           2,
           1,
           1,
           1,
           1,
           4,
           1,
           2,
           1,
           1,
           1,
           1,
           2,
           1,
           1,
           1,
           1,
           1,
           1,
           1,
           1,
           1
          ],
          "sizemode": "area",
          "sizeref": 0.01
         },
         "mode": "markers",
         "name": "month=2019-05",
         "showlegend": true,
         "subplot": "mapbox",
         "type": "scattermapbox"
        },
        {
         "hoverlabel": {
          "namelength": 0
         },
         "hovertemplate": "month=2019-07<br>count=%{marker.size}<br>latitude=%{lat}<br>longitude=%{lon}",
         "lat": [
          53.946812,
          53.951568,
          53.953203,
          53.951325,
          53.959082,
          53.956332,
          53.960133,
          53.959981,
          53.95848,
          53.959217,
          53.960395,
          53.959792,
          53.961159,
          53.961743,
          53.957905,
          53.957438,
          53.939454,
          53.944208,
          53.961654,
          53.954733,
          53.959892,
          53.96728,
          53.957475,
          53.957277,
          53.960459
         ],
         "legendgroup": "month=2019-07",
         "lon": [
          -2.026703,
          -2.023171,
          -2.022349,
          -2.021875,
          -2.020919,
          -2.019912,
          -2.019655,
          -2.019213,
          -2.018983,
          -2.01813,
          -2.017049,
          -2.016927,
          -2.016485,
          -2.015891,
          -2.015051,
          -2.014091,
          -2.013658,
          -2.012456,
          -2.011105,
          -2.010372,
          -2.008255,
          -2.006793,
          -2.006486,
          -2.003911,
          -1.999309
         ],
         "marker": {
          "color": "#EF553B",
          "size": [
           1,
           2,
           1,
           1,
           1,
           1,
           1,
           1,
           1,
           2,
           2,
           1,
           2,
           1,
           1,
           1,
           2,
           1,
           1,
           1,
           1,
           1,
           1,
           1,
           1
          ],
          "sizemode": "area",
          "sizeref": 0.01
         },
         "mode": "markers",
         "name": "month=2019-07",
         "showlegend": true,
         "subplot": "mapbox",
         "type": "scattermapbox"
        },
        {
         "hoverlabel": {
          "namelength": 0
         },
         "hovertemplate": "month=2019-08<br>count=%{marker.size}<br>latitude=%{lat}<br>longitude=%{lon}",
         "lat": [
          53.946812,
          53.951568,
          53.953203,
          53.951325,
          53.959082,
          53.956332,
          53.959981,
          53.959217,
          53.962372,
          53.960395,
          53.959792,
          53.961159,
          53.961743,
          53.957438,
          53.939454,
          53.961654,
          53.954733,
          53.959892,
          53.96728,
          53.957475,
          53.957277
         ],
         "legendgroup": "month=2019-08",
         "lon": [
          -2.026703,
          -2.023171,
          -2.022349,
          -2.021875,
          -2.020919,
          -2.019912,
          -2.019213,
          -2.01813,
          -2.017263,
          -2.017049,
          -2.016927,
          -2.016485,
          -2.015891,
          -2.014091,
          -2.013658,
          -2.011105,
          -2.010372,
          -2.008255,
          -2.006793,
          -2.006486,
          -2.003911
         ],
         "marker": {
          "color": "#00cc96",
          "size": [
           1,
           2,
           2,
           1,
           1,
           1,
           1,
           1,
           1,
           2,
           1,
           2,
           1,
           1,
           2,
           1,
           1,
           1,
           1,
           1,
           1
          ],
          "sizemode": "area",
          "sizeref": 0.01
         },
         "mode": "markers",
         "name": "month=2019-08",
         "showlegend": true,
         "subplot": "mapbox",
         "type": "scattermapbox"
        },
        {
         "hoverlabel": {
          "namelength": 0
         },
         "hovertemplate": "month=2019-04<br>count=%{marker.size}<br>latitude=%{lat}<br>longitude=%{lon}",
         "lat": [
          53.951568,
          53.953203,
          53.959082,
          53.956332,
          53.960133,
          53.95848,
          53.959217,
          53.960395,
          53.959792,
          53.957905,
          53.939454,
          53.944208,
          53.961654,
          53.954733,
          53.96728,
          53.957475,
          53.957277,
          53.960459
         ],
         "legendgroup": "month=2019-04",
         "lon": [
          -2.023171,
          -2.022349,
          -2.020919,
          -2.019912,
          -2.019655,
          -2.018983,
          -2.01813,
          -2.017049,
          -2.016927,
          -2.015051,
          -2.013658,
          -2.012456,
          -2.011105,
          -2.010372,
          -2.006793,
          -2.006486,
          -2.003911,
          -1.999309
         ],
         "marker": {
          "color": "#ab63fa",
          "size": [
           1,
           1,
           1,
           1,
           1,
           2,
           2,
           2,
           1,
           1,
           2,
           1,
           1,
           1,
           1,
           1,
           1,
           1
          ],
          "sizemode": "area",
          "sizeref": 0.01
         },
         "mode": "markers",
         "name": "month=2019-04",
         "showlegend": true,
         "subplot": "mapbox",
         "type": "scattermapbox"
        },
        {
         "hoverlabel": {
          "namelength": 0
         },
         "hovertemplate": "month=2019-06<br>count=%{marker.size}<br>latitude=%{lat}<br>longitude=%{lon}",
         "lat": [
          53.951568,
          53.953203,
          53.959082,
          53.958327,
          53.960133,
          53.950984,
          53.95848,
          53.957132,
          53.961005,
          53.959217,
          53.962372,
          53.960395,
          53.961159,
          53.961743,
          53.961141,
          53.962165,
          53.956701,
          53.953043,
          53.944208,
          53.960099,
          53.954733
         ],
         "legendgroup": "month=2019-06",
         "lon": [
          -2.023171,
          -2.022349,
          -2.020919,
          -2.020599,
          -2.019655,
          -2.019391,
          -2.018983,
          -2.018556,
          -2.018436,
          -2.01813,
          -2.017263,
          -2.017049,
          -2.016485,
          -2.015891,
          -2.01519,
          -2.015053,
          -2.013725,
          -2.013145,
          -2.012456,
          -2.012294,
          -2.010372
         ],
         "marker": {
          "color": "#FFA15A",
          "size": [
           1,
           2,
           1,
           1,
           1,
           1,
           1,
           3,
           1,
           2,
           1,
           3,
           2,
           2,
           1,
           1,
           1,
           1,
           1,
           1,
           1
          ],
          "sizemode": "area",
          "sizeref": 0.01
         },
         "mode": "markers",
         "name": "month=2019-06",
         "showlegend": true,
         "subplot": "mapbox",
         "type": "scattermapbox"
        },
        {
         "hoverlabel": {
          "namelength": 0
         },
         "hovertemplate": "month=2019-09<br>count=%{marker.size}<br>latitude=%{lat}<br>longitude=%{lon}",
         "lat": [
          53.951568,
          53.953203,
          53.959082,
          53.958327,
          53.956332,
          53.960133,
          53.95848,
          53.957132,
          53.961005,
          53.959217,
          53.962372,
          53.960395,
          53.961159,
          53.957905,
          53.939454,
          53.953043,
          53.944208,
          53.960099,
          53.961654,
          53.954733,
          53.957277,
          53.960459
         ],
         "legendgroup": "month=2019-09",
         "lon": [
          -2.023171,
          -2.022349,
          -2.020919,
          -2.020599,
          -2.019912,
          -2.019655,
          -2.018983,
          -2.018556,
          -2.018436,
          -2.01813,
          -2.017263,
          -2.017049,
          -2.016485,
          -2.015051,
          -2.013658,
          -2.013145,
          -2.012456,
          -2.012294,
          -2.011105,
          -2.010372,
          -2.003911,
          -1.999309
         ],
         "marker": {
          "color": "#19d3f3",
          "size": [
           1,
           2,
           1,
           1,
           1,
           1,
           2,
           3,
           1,
           2,
           1,
           2,
           1,
           1,
           2,
           1,
           1,
           1,
           1,
           2,
           1,
           1
          ],
          "sizemode": "area",
          "sizeref": 0.01
         },
         "mode": "markers",
         "name": "month=2019-09",
         "showlegend": true,
         "subplot": "mapbox",
         "type": "scattermapbox"
        }
       ],
       "layout": {
        "font": {
         "color": "#7f7f7f",
         "family": "Courier New, monospace",
         "size": 18
        },
        "height": 600,
        "legend": {
         "itemsizing": "constant",
         "tracegroupgap": 0
        },
        "mapbox": {
         "center": {
          "lat": 53.95693315555557,
          "lon": -2.0154761481481454
         },
         "domain": {
          "x": [
           0,
           0.98
          ],
          "y": [
           0,
           1
          ]
         },
         "style": "open-street-map",
         "zoom": 14
        },
        "margin": {
         "b": 0,
         "l": 0,
         "r": 0,
         "t": 0
        },
        "template": {
         "data": {
          "bar": [
           {
            "error_x": {
             "color": "#2a3f5f"
            },
            "error_y": {
             "color": "#2a3f5f"
            },
            "marker": {
             "line": {
              "color": "#E5ECF6",
              "width": 0.5
             }
            },
            "type": "bar"
           }
          ],
          "barpolar": [
           {
            "marker": {
             "line": {
              "color": "#E5ECF6",
              "width": 0.5
             }
            },
            "type": "barpolar"
           }
          ],
          "carpet": [
           {
            "aaxis": {
             "endlinecolor": "#2a3f5f",
             "gridcolor": "white",
             "linecolor": "white",
             "minorgridcolor": "white",
             "startlinecolor": "#2a3f5f"
            },
            "baxis": {
             "endlinecolor": "#2a3f5f",
             "gridcolor": "white",
             "linecolor": "white",
             "minorgridcolor": "white",
             "startlinecolor": "#2a3f5f"
            },
            "type": "carpet"
           }
          ],
          "choropleth": [
           {
            "colorbar": {
             "outlinewidth": 0,
             "ticks": ""
            },
            "type": "choropleth"
           }
          ],
          "contour": [
           {
            "colorbar": {
             "outlinewidth": 0,
             "ticks": ""
            },
            "colorscale": [
             [
              0,
              "#0d0887"
             ],
             [
              0.1111111111111111,
              "#46039f"
             ],
             [
              0.2222222222222222,
              "#7201a8"
             ],
             [
              0.3333333333333333,
              "#9c179e"
             ],
             [
              0.4444444444444444,
              "#bd3786"
             ],
             [
              0.5555555555555556,
              "#d8576b"
             ],
             [
              0.6666666666666666,
              "#ed7953"
             ],
             [
              0.7777777777777778,
              "#fb9f3a"
             ],
             [
              0.8888888888888888,
              "#fdca26"
             ],
             [
              1,
              "#f0f921"
             ]
            ],
            "type": "contour"
           }
          ],
          "contourcarpet": [
           {
            "colorbar": {
             "outlinewidth": 0,
             "ticks": ""
            },
            "type": "contourcarpet"
           }
          ],
          "heatmap": [
           {
            "colorbar": {
             "outlinewidth": 0,
             "ticks": ""
            },
            "colorscale": [
             [
              0,
              "#0d0887"
             ],
             [
              0.1111111111111111,
              "#46039f"
             ],
             [
              0.2222222222222222,
              "#7201a8"
             ],
             [
              0.3333333333333333,
              "#9c179e"
             ],
             [
              0.4444444444444444,
              "#bd3786"
             ],
             [
              0.5555555555555556,
              "#d8576b"
             ],
             [
              0.6666666666666666,
              "#ed7953"
             ],
             [
              0.7777777777777778,
              "#fb9f3a"
             ],
             [
              0.8888888888888888,
              "#fdca26"
             ],
             [
              1,
              "#f0f921"
             ]
            ],
            "type": "heatmap"
           }
          ],
          "heatmapgl": [
           {
            "colorbar": {
             "outlinewidth": 0,
             "ticks": ""
            },
            "colorscale": [
             [
              0,
              "#0d0887"
             ],
             [
              0.1111111111111111,
              "#46039f"
             ],
             [
              0.2222222222222222,
              "#7201a8"
             ],
             [
              0.3333333333333333,
              "#9c179e"
             ],
             [
              0.4444444444444444,
              "#bd3786"
             ],
             [
              0.5555555555555556,
              "#d8576b"
             ],
             [
              0.6666666666666666,
              "#ed7953"
             ],
             [
              0.7777777777777778,
              "#fb9f3a"
             ],
             [
              0.8888888888888888,
              "#fdca26"
             ],
             [
              1,
              "#f0f921"
             ]
            ],
            "type": "heatmapgl"
           }
          ],
          "histogram": [
           {
            "marker": {
             "colorbar": {
              "outlinewidth": 0,
              "ticks": ""
             }
            },
            "type": "histogram"
           }
          ],
          "histogram2d": [
           {
            "colorbar": {
             "outlinewidth": 0,
             "ticks": ""
            },
            "colorscale": [
             [
              0,
              "#0d0887"
             ],
             [
              0.1111111111111111,
              "#46039f"
             ],
             [
              0.2222222222222222,
              "#7201a8"
             ],
             [
              0.3333333333333333,
              "#9c179e"
             ],
             [
              0.4444444444444444,
              "#bd3786"
             ],
             [
              0.5555555555555556,
              "#d8576b"
             ],
             [
              0.6666666666666666,
              "#ed7953"
             ],
             [
              0.7777777777777778,
              "#fb9f3a"
             ],
             [
              0.8888888888888888,
              "#fdca26"
             ],
             [
              1,
              "#f0f921"
             ]
            ],
            "type": "histogram2d"
           }
          ],
          "histogram2dcontour": [
           {
            "colorbar": {
             "outlinewidth": 0,
             "ticks": ""
            },
            "colorscale": [
             [
              0,
              "#0d0887"
             ],
             [
              0.1111111111111111,
              "#46039f"
             ],
             [
              0.2222222222222222,
              "#7201a8"
             ],
             [
              0.3333333333333333,
              "#9c179e"
             ],
             [
              0.4444444444444444,
              "#bd3786"
             ],
             [
              0.5555555555555556,
              "#d8576b"
             ],
             [
              0.6666666666666666,
              "#ed7953"
             ],
             [
              0.7777777777777778,
              "#fb9f3a"
             ],
             [
              0.8888888888888888,
              "#fdca26"
             ],
             [
              1,
              "#f0f921"
             ]
            ],
            "type": "histogram2dcontour"
           }
          ],
          "mesh3d": [
           {
            "colorbar": {
             "outlinewidth": 0,
             "ticks": ""
            },
            "type": "mesh3d"
           }
          ],
          "parcoords": [
           {
            "line": {
             "colorbar": {
              "outlinewidth": 0,
              "ticks": ""
             }
            },
            "type": "parcoords"
           }
          ],
          "scatter": [
           {
            "marker": {
             "colorbar": {
              "outlinewidth": 0,
              "ticks": ""
             }
            },
            "type": "scatter"
           }
          ],
          "scatter3d": [
           {
            "line": {
             "colorbar": {
              "outlinewidth": 0,
              "ticks": ""
             }
            },
            "marker": {
             "colorbar": {
              "outlinewidth": 0,
              "ticks": ""
             }
            },
            "type": "scatter3d"
           }
          ],
          "scattercarpet": [
           {
            "marker": {
             "colorbar": {
              "outlinewidth": 0,
              "ticks": ""
             }
            },
            "type": "scattercarpet"
           }
          ],
          "scattergeo": [
           {
            "marker": {
             "colorbar": {
              "outlinewidth": 0,
              "ticks": ""
             }
            },
            "type": "scattergeo"
           }
          ],
          "scattergl": [
           {
            "marker": {
             "colorbar": {
              "outlinewidth": 0,
              "ticks": ""
             }
            },
            "type": "scattergl"
           }
          ],
          "scattermapbox": [
           {
            "marker": {
             "colorbar": {
              "outlinewidth": 0,
              "ticks": ""
             }
            },
            "type": "scattermapbox"
           }
          ],
          "scatterpolar": [
           {
            "marker": {
             "colorbar": {
              "outlinewidth": 0,
              "ticks": ""
             }
            },
            "type": "scatterpolar"
           }
          ],
          "scatterpolargl": [
           {
            "marker": {
             "colorbar": {
              "outlinewidth": 0,
              "ticks": ""
             }
            },
            "type": "scatterpolargl"
           }
          ],
          "scatterternary": [
           {
            "marker": {
             "colorbar": {
              "outlinewidth": 0,
              "ticks": ""
             }
            },
            "type": "scatterternary"
           }
          ],
          "surface": [
           {
            "colorbar": {
             "outlinewidth": 0,
             "ticks": ""
            },
            "colorscale": [
             [
              0,
              "#0d0887"
             ],
             [
              0.1111111111111111,
              "#46039f"
             ],
             [
              0.2222222222222222,
              "#7201a8"
             ],
             [
              0.3333333333333333,
              "#9c179e"
             ],
             [
              0.4444444444444444,
              "#bd3786"
             ],
             [
              0.5555555555555556,
              "#d8576b"
             ],
             [
              0.6666666666666666,
              "#ed7953"
             ],
             [
              0.7777777777777778,
              "#fb9f3a"
             ],
             [
              0.8888888888888888,
              "#fdca26"
             ],
             [
              1,
              "#f0f921"
             ]
            ],
            "type": "surface"
           }
          ],
          "table": [
           {
            "cells": {
             "fill": {
              "color": "#EBF0F8"
             },
             "line": {
              "color": "white"
             }
            },
            "header": {
             "fill": {
              "color": "#C8D4E3"
             },
             "line": {
              "color": "white"
             }
            },
            "type": "table"
           }
          ]
         },
         "layout": {
          "annotationdefaults": {
           "arrowcolor": "#2a3f5f",
           "arrowhead": 0,
           "arrowwidth": 1
          },
          "colorscale": {
           "diverging": [
            [
             0,
             "#8e0152"
            ],
            [
             0.1,
             "#c51b7d"
            ],
            [
             0.2,
             "#de77ae"
            ],
            [
             0.3,
             "#f1b6da"
            ],
            [
             0.4,
             "#fde0ef"
            ],
            [
             0.5,
             "#f7f7f7"
            ],
            [
             0.6,
             "#e6f5d0"
            ],
            [
             0.7,
             "#b8e186"
            ],
            [
             0.8,
             "#7fbc41"
            ],
            [
             0.9,
             "#4d9221"
            ],
            [
             1,
             "#276419"
            ]
           ],
           "sequential": [
            [
             0,
             "#0d0887"
            ],
            [
             0.1111111111111111,
             "#46039f"
            ],
            [
             0.2222222222222222,
             "#7201a8"
            ],
            [
             0.3333333333333333,
             "#9c179e"
            ],
            [
             0.4444444444444444,
             "#bd3786"
            ],
            [
             0.5555555555555556,
             "#d8576b"
            ],
            [
             0.6666666666666666,
             "#ed7953"
            ],
            [
             0.7777777777777778,
             "#fb9f3a"
            ],
            [
             0.8888888888888888,
             "#fdca26"
            ],
            [
             1,
             "#f0f921"
            ]
           ],
           "sequentialminus": [
            [
             0,
             "#0d0887"
            ],
            [
             0.1111111111111111,
             "#46039f"
            ],
            [
             0.2222222222222222,
             "#7201a8"
            ],
            [
             0.3333333333333333,
             "#9c179e"
            ],
            [
             0.4444444444444444,
             "#bd3786"
            ],
            [
             0.5555555555555556,
             "#d8576b"
            ],
            [
             0.6666666666666666,
             "#ed7953"
            ],
            [
             0.7777777777777778,
             "#fb9f3a"
            ],
            [
             0.8888888888888888,
             "#fdca26"
            ],
            [
             1,
             "#f0f921"
            ]
           ]
          },
          "colorway": [
           "#636efa",
           "#EF553B",
           "#00cc96",
           "#ab63fa",
           "#FFA15A",
           "#19d3f3",
           "#FF6692",
           "#B6E880",
           "#FF97FF",
           "#FECB52"
          ],
          "font": {
           "color": "#2a3f5f"
          },
          "geo": {
           "bgcolor": "white",
           "lakecolor": "white",
           "landcolor": "#E5ECF6",
           "showlakes": true,
           "showland": true,
           "subunitcolor": "white"
          },
          "hoverlabel": {
           "align": "left"
          },
          "hovermode": "closest",
          "mapbox": {
           "style": "light"
          },
          "paper_bgcolor": "white",
          "plot_bgcolor": "#E5ECF6",
          "polar": {
           "angularaxis": {
            "gridcolor": "white",
            "linecolor": "white",
            "ticks": ""
           },
           "bgcolor": "#E5ECF6",
           "radialaxis": {
            "gridcolor": "white",
            "linecolor": "white",
            "ticks": ""
           }
          },
          "scene": {
           "xaxis": {
            "backgroundcolor": "#E5ECF6",
            "gridcolor": "white",
            "gridwidth": 2,
            "linecolor": "white",
            "showbackground": true,
            "ticks": "",
            "zerolinecolor": "white"
           },
           "yaxis": {
            "backgroundcolor": "#E5ECF6",
            "gridcolor": "white",
            "gridwidth": 2,
            "linecolor": "white",
            "showbackground": true,
            "ticks": "",
            "zerolinecolor": "white"
           },
           "zaxis": {
            "backgroundcolor": "#E5ECF6",
            "gridcolor": "white",
            "gridwidth": 2,
            "linecolor": "white",
            "showbackground": true,
            "ticks": "",
            "zerolinecolor": "white"
           }
          },
          "shapedefaults": {
           "line": {
            "color": "#2a3f5f"
           }
          },
          "ternary": {
           "aaxis": {
            "gridcolor": "white",
            "linecolor": "white",
            "ticks": ""
           },
           "baxis": {
            "gridcolor": "white",
            "linecolor": "white",
            "ticks": ""
           },
           "bgcolor": "#E5ECF6",
           "caxis": {
            "gridcolor": "white",
            "linecolor": "white",
            "ticks": ""
           }
          },
          "title": {
           "x": 0.05
          },
          "xaxis": {
           "automargin": true,
           "gridcolor": "white",
           "linecolor": "white",
           "ticks": "",
           "zerolinecolor": "white",
           "zerolinewidth": 2
          },
          "yaxis": {
           "automargin": true,
           "gridcolor": "white",
           "linecolor": "white",
           "ticks": "",
           "zerolinecolor": "white",
           "zerolinewidth": 2
          }
         }
        },
        "title": {
         "text": "Violent Crimes in Skipton by month"
        }
       }
      },
      "text/html": [
       "<div>\n",
       "        \n",
       "        \n",
       "            <div id=\"fa32743b-fcfe-41eb-a1d5-69a14461013f\" class=\"plotly-graph-div\" style=\"height:600px; width:100%;\"></div>\n",
       "            <script type=\"text/javascript\">\n",
       "                require([\"plotly\"], function(Plotly) {\n",
       "                    window.PLOTLYENV=window.PLOTLYENV || {};\n",
       "                    \n",
       "                if (document.getElementById(\"fa32743b-fcfe-41eb-a1d5-69a14461013f\")) {\n",
       "                    Plotly.newPlot(\n",
       "                        'fa32743b-fcfe-41eb-a1d5-69a14461013f',\n",
       "                        [{\"hoverlabel\": {\"namelength\": 0}, \"hovertemplate\": \"month=2019-05<br>count=%{marker.size}<br>latitude=%{lat}<br>longitude=%{lon}\", \"lat\": [53.946812, 53.951568, 53.953203, 53.951325, 53.959082, 53.956332, 53.959981, 53.95848, 53.957132, 53.959217, 53.962372, 53.960395, 53.959792, 53.961159, 53.961743, 53.957905, 53.957438, 53.962435, 53.939454, 53.959218, 53.944208, 53.961654, 53.954733, 53.959892, 53.96728, 53.957475, 53.957277, 53.960459], \"legendgroup\": \"month=2019-05\", \"lon\": [-2.026703, -2.023171, -2.022349, -2.021875, -2.020919, -2.019912, -2.019213, -2.018983, -2.018556, -2.01813, -2.017263, -2.017049, -2.016927, -2.016485, -2.015891, -2.015051, -2.014091, -2.013757, -2.013658, -2.013147, -2.012456, -2.011105, -2.010372, -2.008255, -2.006793, -2.006486, -2.003911, -1.999309], \"marker\": {\"color\": \"#636efa\", \"size\": [1, 2, 3, 1, 1, 1, 2, 1, 1, 1, 1, 4, 1, 2, 1, 1, 1, 1, 2, 1, 1, 1, 1, 1, 1, 1, 1, 1], \"sizemode\": \"area\", \"sizeref\": 0.01}, \"mode\": \"markers\", \"name\": \"month=2019-05\", \"showlegend\": true, \"subplot\": \"mapbox\", \"type\": \"scattermapbox\"}, {\"hoverlabel\": {\"namelength\": 0}, \"hovertemplate\": \"month=2019-07<br>count=%{marker.size}<br>latitude=%{lat}<br>longitude=%{lon}\", \"lat\": [53.946812, 53.951568, 53.953203, 53.951325, 53.959082, 53.956332, 53.960133, 53.959981, 53.95848, 53.959217, 53.960395, 53.959792, 53.961159, 53.961743, 53.957905, 53.957438, 53.939454, 53.944208, 53.961654, 53.954733, 53.959892, 53.96728, 53.957475, 53.957277, 53.960459], \"legendgroup\": \"month=2019-07\", \"lon\": [-2.026703, -2.023171, -2.022349, -2.021875, -2.020919, -2.019912, -2.019655, -2.019213, -2.018983, -2.01813, -2.017049, -2.016927, -2.016485, -2.015891, -2.015051, -2.014091, -2.013658, -2.012456, -2.011105, -2.010372, -2.008255, -2.006793, -2.006486, -2.003911, -1.999309], \"marker\": {\"color\": \"#EF553B\", \"size\": [1, 2, 1, 1, 1, 1, 1, 1, 1, 2, 2, 1, 2, 1, 1, 1, 2, 1, 1, 1, 1, 1, 1, 1, 1], \"sizemode\": \"area\", \"sizeref\": 0.01}, \"mode\": \"markers\", \"name\": \"month=2019-07\", \"showlegend\": true, \"subplot\": \"mapbox\", \"type\": \"scattermapbox\"}, {\"hoverlabel\": {\"namelength\": 0}, \"hovertemplate\": \"month=2019-08<br>count=%{marker.size}<br>latitude=%{lat}<br>longitude=%{lon}\", \"lat\": [53.946812, 53.951568, 53.953203, 53.951325, 53.959082, 53.956332, 53.959981, 53.959217, 53.962372, 53.960395, 53.959792, 53.961159, 53.961743, 53.957438, 53.939454, 53.961654, 53.954733, 53.959892, 53.96728, 53.957475, 53.957277], \"legendgroup\": \"month=2019-08\", \"lon\": [-2.026703, -2.023171, -2.022349, -2.021875, -2.020919, -2.019912, -2.019213, -2.01813, -2.017263, -2.017049, -2.016927, -2.016485, -2.015891, -2.014091, -2.013658, -2.011105, -2.010372, -2.008255, -2.006793, -2.006486, -2.003911], \"marker\": {\"color\": \"#00cc96\", \"size\": [1, 2, 2, 1, 1, 1, 1, 1, 1, 2, 1, 2, 1, 1, 2, 1, 1, 1, 1, 1, 1], \"sizemode\": \"area\", \"sizeref\": 0.01}, \"mode\": \"markers\", \"name\": \"month=2019-08\", \"showlegend\": true, \"subplot\": \"mapbox\", \"type\": \"scattermapbox\"}, {\"hoverlabel\": {\"namelength\": 0}, \"hovertemplate\": \"month=2019-04<br>count=%{marker.size}<br>latitude=%{lat}<br>longitude=%{lon}\", \"lat\": [53.951568, 53.953203, 53.959082, 53.956332, 53.960133, 53.95848, 53.959217, 53.960395, 53.959792, 53.957905, 53.939454, 53.944208, 53.961654, 53.954733, 53.96728, 53.957475, 53.957277, 53.960459], \"legendgroup\": \"month=2019-04\", \"lon\": [-2.023171, -2.022349, -2.020919, -2.019912, -2.019655, -2.018983, -2.01813, -2.017049, -2.016927, -2.015051, -2.013658, -2.012456, -2.011105, -2.010372, -2.006793, -2.006486, -2.003911, -1.999309], \"marker\": {\"color\": \"#ab63fa\", \"size\": [1, 1, 1, 1, 1, 2, 2, 2, 1, 1, 2, 1, 1, 1, 1, 1, 1, 1], \"sizemode\": \"area\", \"sizeref\": 0.01}, \"mode\": \"markers\", \"name\": \"month=2019-04\", \"showlegend\": true, \"subplot\": \"mapbox\", \"type\": \"scattermapbox\"}, {\"hoverlabel\": {\"namelength\": 0}, \"hovertemplate\": \"month=2019-06<br>count=%{marker.size}<br>latitude=%{lat}<br>longitude=%{lon}\", \"lat\": [53.951568, 53.953203, 53.959082, 53.958327, 53.960133, 53.950984, 53.95848, 53.957132, 53.961005, 53.959217, 53.962372, 53.960395, 53.961159, 53.961743, 53.961141, 53.962165, 53.956701, 53.953043, 53.944208, 53.960099, 53.954733], \"legendgroup\": \"month=2019-06\", \"lon\": [-2.023171, -2.022349, -2.020919, -2.020599, -2.019655, -2.019391, -2.018983, -2.018556, -2.018436, -2.01813, -2.017263, -2.017049, -2.016485, -2.015891, -2.01519, -2.015053, -2.013725, -2.013145, -2.012456, -2.012294, -2.010372], \"marker\": {\"color\": \"#FFA15A\", \"size\": [1, 2, 1, 1, 1, 1, 1, 3, 1, 2, 1, 3, 2, 2, 1, 1, 1, 1, 1, 1, 1], \"sizemode\": \"area\", \"sizeref\": 0.01}, \"mode\": \"markers\", \"name\": \"month=2019-06\", \"showlegend\": true, \"subplot\": \"mapbox\", \"type\": \"scattermapbox\"}, {\"hoverlabel\": {\"namelength\": 0}, \"hovertemplate\": \"month=2019-09<br>count=%{marker.size}<br>latitude=%{lat}<br>longitude=%{lon}\", \"lat\": [53.951568, 53.953203, 53.959082, 53.958327, 53.956332, 53.960133, 53.95848, 53.957132, 53.961005, 53.959217, 53.962372, 53.960395, 53.961159, 53.957905, 53.939454, 53.953043, 53.944208, 53.960099, 53.961654, 53.954733, 53.957277, 53.960459], \"legendgroup\": \"month=2019-09\", \"lon\": [-2.023171, -2.022349, -2.020919, -2.020599, -2.019912, -2.019655, -2.018983, -2.018556, -2.018436, -2.01813, -2.017263, -2.017049, -2.016485, -2.015051, -2.013658, -2.013145, -2.012456, -2.012294, -2.011105, -2.010372, -2.003911, -1.999309], \"marker\": {\"color\": \"#19d3f3\", \"size\": [1, 2, 1, 1, 1, 1, 2, 3, 1, 2, 1, 2, 1, 1, 2, 1, 1, 1, 1, 2, 1, 1], \"sizemode\": \"area\", \"sizeref\": 0.01}, \"mode\": \"markers\", \"name\": \"month=2019-09\", \"showlegend\": true, \"subplot\": \"mapbox\", \"type\": \"scattermapbox\"}],\n",
       "                        {\"font\": {\"color\": \"#7f7f7f\", \"family\": \"Courier New, monospace\", \"size\": 18}, \"height\": 600, \"legend\": {\"itemsizing\": \"constant\", \"tracegroupgap\": 0}, \"mapbox\": {\"center\": {\"lat\": 53.95693315555557, \"lon\": -2.0154761481481454}, \"domain\": {\"x\": [0.0, 0.98], \"y\": [0.0, 1.0]}, \"style\": \"open-street-map\", \"zoom\": 14}, \"margin\": {\"b\": 0, \"l\": 0, \"r\": 0, \"t\": 0}, \"template\": {\"data\": {\"bar\": [{\"error_x\": {\"color\": \"#2a3f5f\"}, \"error_y\": {\"color\": \"#2a3f5f\"}, \"marker\": {\"line\": {\"color\": \"#E5ECF6\", \"width\": 0.5}}, \"type\": \"bar\"}], \"barpolar\": [{\"marker\": {\"line\": {\"color\": \"#E5ECF6\", \"width\": 0.5}}, \"type\": \"barpolar\"}], \"carpet\": [{\"aaxis\": {\"endlinecolor\": \"#2a3f5f\", \"gridcolor\": \"white\", \"linecolor\": \"white\", \"minorgridcolor\": \"white\", \"startlinecolor\": \"#2a3f5f\"}, \"baxis\": {\"endlinecolor\": \"#2a3f5f\", \"gridcolor\": \"white\", \"linecolor\": \"white\", \"minorgridcolor\": \"white\", \"startlinecolor\": \"#2a3f5f\"}, \"type\": \"carpet\"}], \"choropleth\": [{\"colorbar\": {\"outlinewidth\": 0, \"ticks\": \"\"}, \"type\": \"choropleth\"}], \"contour\": [{\"colorbar\": {\"outlinewidth\": 0, \"ticks\": \"\"}, \"colorscale\": [[0.0, \"#0d0887\"], [0.1111111111111111, \"#46039f\"], [0.2222222222222222, \"#7201a8\"], [0.3333333333333333, \"#9c179e\"], [0.4444444444444444, \"#bd3786\"], [0.5555555555555556, \"#d8576b\"], [0.6666666666666666, \"#ed7953\"], [0.7777777777777778, \"#fb9f3a\"], [0.8888888888888888, \"#fdca26\"], [1.0, \"#f0f921\"]], \"type\": \"contour\"}], \"contourcarpet\": [{\"colorbar\": {\"outlinewidth\": 0, \"ticks\": \"\"}, \"type\": \"contourcarpet\"}], \"heatmap\": [{\"colorbar\": {\"outlinewidth\": 0, \"ticks\": \"\"}, \"colorscale\": [[0.0, \"#0d0887\"], [0.1111111111111111, \"#46039f\"], [0.2222222222222222, \"#7201a8\"], [0.3333333333333333, \"#9c179e\"], [0.4444444444444444, \"#bd3786\"], [0.5555555555555556, \"#d8576b\"], [0.6666666666666666, \"#ed7953\"], [0.7777777777777778, \"#fb9f3a\"], [0.8888888888888888, \"#fdca26\"], [1.0, \"#f0f921\"]], \"type\": \"heatmap\"}], \"heatmapgl\": [{\"colorbar\": {\"outlinewidth\": 0, \"ticks\": \"\"}, \"colorscale\": [[0.0, \"#0d0887\"], [0.1111111111111111, \"#46039f\"], [0.2222222222222222, \"#7201a8\"], [0.3333333333333333, \"#9c179e\"], [0.4444444444444444, \"#bd3786\"], [0.5555555555555556, \"#d8576b\"], [0.6666666666666666, \"#ed7953\"], [0.7777777777777778, \"#fb9f3a\"], [0.8888888888888888, \"#fdca26\"], [1.0, \"#f0f921\"]], \"type\": \"heatmapgl\"}], \"histogram\": [{\"marker\": {\"colorbar\": {\"outlinewidth\": 0, \"ticks\": \"\"}}, \"type\": \"histogram\"}], \"histogram2d\": [{\"colorbar\": {\"outlinewidth\": 0, \"ticks\": \"\"}, \"colorscale\": [[0.0, \"#0d0887\"], [0.1111111111111111, \"#46039f\"], [0.2222222222222222, \"#7201a8\"], [0.3333333333333333, \"#9c179e\"], [0.4444444444444444, \"#bd3786\"], [0.5555555555555556, \"#d8576b\"], [0.6666666666666666, \"#ed7953\"], [0.7777777777777778, \"#fb9f3a\"], [0.8888888888888888, \"#fdca26\"], [1.0, \"#f0f921\"]], \"type\": \"histogram2d\"}], \"histogram2dcontour\": [{\"colorbar\": {\"outlinewidth\": 0, \"ticks\": \"\"}, \"colorscale\": [[0.0, \"#0d0887\"], [0.1111111111111111, \"#46039f\"], [0.2222222222222222, \"#7201a8\"], [0.3333333333333333, \"#9c179e\"], [0.4444444444444444, \"#bd3786\"], [0.5555555555555556, \"#d8576b\"], [0.6666666666666666, \"#ed7953\"], [0.7777777777777778, \"#fb9f3a\"], [0.8888888888888888, \"#fdca26\"], [1.0, \"#f0f921\"]], \"type\": \"histogram2dcontour\"}], \"mesh3d\": [{\"colorbar\": {\"outlinewidth\": 0, \"ticks\": \"\"}, \"type\": \"mesh3d\"}], \"parcoords\": [{\"line\": {\"colorbar\": {\"outlinewidth\": 0, \"ticks\": \"\"}}, \"type\": \"parcoords\"}], \"scatter\": [{\"marker\": {\"colorbar\": {\"outlinewidth\": 0, \"ticks\": \"\"}}, \"type\": \"scatter\"}], \"scatter3d\": [{\"line\": {\"colorbar\": {\"outlinewidth\": 0, \"ticks\": \"\"}}, \"marker\": {\"colorbar\": {\"outlinewidth\": 0, \"ticks\": \"\"}}, \"type\": \"scatter3d\"}], \"scattercarpet\": [{\"marker\": {\"colorbar\": {\"outlinewidth\": 0, \"ticks\": \"\"}}, \"type\": \"scattercarpet\"}], \"scattergeo\": [{\"marker\": {\"colorbar\": {\"outlinewidth\": 0, \"ticks\": \"\"}}, \"type\": \"scattergeo\"}], \"scattergl\": [{\"marker\": {\"colorbar\": {\"outlinewidth\": 0, \"ticks\": \"\"}}, \"type\": \"scattergl\"}], \"scattermapbox\": [{\"marker\": {\"colorbar\": {\"outlinewidth\": 0, \"ticks\": \"\"}}, \"type\": \"scattermapbox\"}], \"scatterpolar\": [{\"marker\": {\"colorbar\": {\"outlinewidth\": 0, \"ticks\": \"\"}}, \"type\": \"scatterpolar\"}], \"scatterpolargl\": [{\"marker\": {\"colorbar\": {\"outlinewidth\": 0, \"ticks\": \"\"}}, \"type\": \"scatterpolargl\"}], \"scatterternary\": [{\"marker\": {\"colorbar\": {\"outlinewidth\": 0, \"ticks\": \"\"}}, \"type\": \"scatterternary\"}], \"surface\": [{\"colorbar\": {\"outlinewidth\": 0, \"ticks\": \"\"}, \"colorscale\": [[0.0, \"#0d0887\"], [0.1111111111111111, \"#46039f\"], [0.2222222222222222, \"#7201a8\"], [0.3333333333333333, \"#9c179e\"], [0.4444444444444444, \"#bd3786\"], [0.5555555555555556, \"#d8576b\"], [0.6666666666666666, \"#ed7953\"], [0.7777777777777778, \"#fb9f3a\"], [0.8888888888888888, \"#fdca26\"], [1.0, \"#f0f921\"]], \"type\": \"surface\"}], \"table\": [{\"cells\": {\"fill\": {\"color\": \"#EBF0F8\"}, \"line\": {\"color\": \"white\"}}, \"header\": {\"fill\": {\"color\": \"#C8D4E3\"}, \"line\": {\"color\": \"white\"}}, \"type\": \"table\"}]}, \"layout\": {\"annotationdefaults\": {\"arrowcolor\": \"#2a3f5f\", \"arrowhead\": 0, \"arrowwidth\": 1}, \"colorscale\": {\"diverging\": [[0, \"#8e0152\"], [0.1, \"#c51b7d\"], [0.2, \"#de77ae\"], [0.3, \"#f1b6da\"], [0.4, \"#fde0ef\"], [0.5, \"#f7f7f7\"], [0.6, \"#e6f5d0\"], [0.7, \"#b8e186\"], [0.8, \"#7fbc41\"], [0.9, \"#4d9221\"], [1, \"#276419\"]], \"sequential\": [[0.0, \"#0d0887\"], [0.1111111111111111, \"#46039f\"], [0.2222222222222222, \"#7201a8\"], [0.3333333333333333, \"#9c179e\"], [0.4444444444444444, \"#bd3786\"], [0.5555555555555556, \"#d8576b\"], [0.6666666666666666, \"#ed7953\"], [0.7777777777777778, \"#fb9f3a\"], [0.8888888888888888, \"#fdca26\"], [1.0, \"#f0f921\"]], \"sequentialminus\": [[0.0, \"#0d0887\"], [0.1111111111111111, \"#46039f\"], [0.2222222222222222, \"#7201a8\"], [0.3333333333333333, \"#9c179e\"], [0.4444444444444444, \"#bd3786\"], [0.5555555555555556, \"#d8576b\"], [0.6666666666666666, \"#ed7953\"], [0.7777777777777778, \"#fb9f3a\"], [0.8888888888888888, \"#fdca26\"], [1.0, \"#f0f921\"]]}, \"colorway\": [\"#636efa\", \"#EF553B\", \"#00cc96\", \"#ab63fa\", \"#FFA15A\", \"#19d3f3\", \"#FF6692\", \"#B6E880\", \"#FF97FF\", \"#FECB52\"], \"font\": {\"color\": \"#2a3f5f\"}, \"geo\": {\"bgcolor\": \"white\", \"lakecolor\": \"white\", \"landcolor\": \"#E5ECF6\", \"showlakes\": true, \"showland\": true, \"subunitcolor\": \"white\"}, \"hoverlabel\": {\"align\": \"left\"}, \"hovermode\": \"closest\", \"mapbox\": {\"style\": \"light\"}, \"paper_bgcolor\": \"white\", \"plot_bgcolor\": \"#E5ECF6\", \"polar\": {\"angularaxis\": {\"gridcolor\": \"white\", \"linecolor\": \"white\", \"ticks\": \"\"}, \"bgcolor\": \"#E5ECF6\", \"radialaxis\": {\"gridcolor\": \"white\", \"linecolor\": \"white\", \"ticks\": \"\"}}, \"scene\": {\"xaxis\": {\"backgroundcolor\": \"#E5ECF6\", \"gridcolor\": \"white\", \"gridwidth\": 2, \"linecolor\": \"white\", \"showbackground\": true, \"ticks\": \"\", \"zerolinecolor\": \"white\"}, \"yaxis\": {\"backgroundcolor\": \"#E5ECF6\", \"gridcolor\": \"white\", \"gridwidth\": 2, \"linecolor\": \"white\", \"showbackground\": true, \"ticks\": \"\", \"zerolinecolor\": \"white\"}, \"zaxis\": {\"backgroundcolor\": \"#E5ECF6\", \"gridcolor\": \"white\", \"gridwidth\": 2, \"linecolor\": \"white\", \"showbackground\": true, \"ticks\": \"\", \"zerolinecolor\": \"white\"}}, \"shapedefaults\": {\"line\": {\"color\": \"#2a3f5f\"}}, \"ternary\": {\"aaxis\": {\"gridcolor\": \"white\", \"linecolor\": \"white\", \"ticks\": \"\"}, \"baxis\": {\"gridcolor\": \"white\", \"linecolor\": \"white\", \"ticks\": \"\"}, \"bgcolor\": \"#E5ECF6\", \"caxis\": {\"gridcolor\": \"white\", \"linecolor\": \"white\", \"ticks\": \"\"}}, \"title\": {\"x\": 0.05}, \"xaxis\": {\"automargin\": true, \"gridcolor\": \"white\", \"linecolor\": \"white\", \"ticks\": \"\", \"zerolinecolor\": \"white\", \"zerolinewidth\": 2}, \"yaxis\": {\"automargin\": true, \"gridcolor\": \"white\", \"linecolor\": \"white\", \"ticks\": \"\", \"zerolinecolor\": \"white\", \"zerolinewidth\": 2}}}, \"title\": {\"text\": \"Violent Crimes in Skipton by month\"}},\n",
       "                        {\"responsive\": true}\n",
       "                    ).then(function(){\n",
       "                            \n",
       "var gd = document.getElementById('fa32743b-fcfe-41eb-a1d5-69a14461013f');\n",
       "var x = new MutationObserver(function (mutations, observer) {{\n",
       "        var display = window.getComputedStyle(gd).display;\n",
       "        if (!display || display === 'none') {{\n",
       "            console.log([gd, 'removed!']);\n",
       "            Plotly.purge(gd);\n",
       "            observer.disconnect();\n",
       "        }}\n",
       "}});\n",
       "\n",
       "// Listen for the removal of the full notebook cells\n",
       "var notebookContainer = gd.closest('#notebook-container');\n",
       "if (notebookContainer) {{\n",
       "    x.observe(notebookContainer, {childList: true});\n",
       "}}\n",
       "\n",
       "// Listen for the clearing of the current output cell\n",
       "var outputEl = gd.closest('.output');\n",
       "if (outputEl) {{\n",
       "    x.observe(outputEl, {childList: true});\n",
       "}}\n",
       "\n",
       "                        })\n",
       "                };\n",
       "                });\n",
       "            </script>\n",
       "        </div>"
      ]
     },
     "metadata": {},
     "output_type": "display_data"
    }
   ],
   "source": [
    "#Created a different figure, this time with the size of the point showing the count of the crime and the colour showing the month comitted\n",
    "fig2 = px.scatter_mapbox(grouped, lon=\"longitude\", lat=\"latitude\", color=\"month\", \n",
    "                         size=\"count\", zoom=14)\n",
    "fig2.update_layout(mapbox_style=\"open-street-map\")\n",
    "fig2.update_layout(margin={\"r\":0,\"t\":0,\"l\":0,\"b\":0})\n",
    "fig2.update_layout(\n",
    "    title=\"Violent Crimes in Skipton by month\",\n",
    "    font=dict(\n",
    "        family=\"Courier New, monospace\",\n",
    "        size=18,\n",
    "        color=\"#7f7f7f\"\n",
    "    )\n",
    ")\n",
    "\n",
    "fig2.show()"
   ]
  },
  {
   "cell_type": "markdown",
   "metadata": {},
   "source": [
    "To do list:\n",
    "\n",
    "1) Put the data into github and read the CSV from there so that sam can access it\n",
    "2) make sure the data is fully readable, removing the spaces commas in the thousands. The thousand commas can be removed during the read CSV and the spaces can be removed with a replace function.\n",
    "3) use plotly to make the map\n",
    "\n",
    "call the data from an API\n",
    "Probably can call the location id's from an api as well"
   ]
  },
  {
   "cell_type": "code",
   "execution_count": 16,
   "metadata": {},
   "outputs": [
    {
     "data": {
      "application/vnd.plotly.v1+json": {
       "config": {
        "plotlyServerURL": "https://plot.ly"
       },
       "data": [
        {
         "hoverlabel": {
          "namelength": 0
         },
         "hovertemplate": "month=2019-05<br>count=%{marker.size}<br>latitude=%{lat}<br>longitude=%{lon}",
         "lat": [
          53.946812,
          53.951568,
          53.953203,
          53.951325,
          53.959082,
          53.956332,
          53.959981,
          53.95848,
          53.957132,
          53.959217,
          53.962372,
          53.960395,
          53.959792,
          53.961159,
          53.961743,
          53.957905,
          53.957438,
          53.962435,
          53.939454,
          53.959218,
          53.944208,
          53.961654,
          53.954733,
          53.959892,
          53.96728,
          53.957475,
          53.957277,
          53.960459
         ],
         "legendgroup": "",
         "lon": [
          -2.026703,
          -2.023171,
          -2.022349,
          -2.021875,
          -2.020919,
          -2.019912,
          -2.019213,
          -2.018983,
          -2.018556,
          -2.01813,
          -2.017263,
          -2.017049,
          -2.016927,
          -2.016485,
          -2.015891,
          -2.015051,
          -2.014091,
          -2.013757,
          -2.013658,
          -2.013147,
          -2.012456,
          -2.011105,
          -2.010372,
          -2.008255,
          -2.006793,
          -2.006486,
          -2.003911,
          -1.999309
         ],
         "marker": {
          "color": "#636efa",
          "size": [
           1,
           2,
           3,
           1,
           1,
           1,
           2,
           1,
           1,
           1,
           1,
           4,
           1,
           2,
           1,
           1,
           1,
           1,
           2,
           1,
           1,
           1,
           1,
           1,
           1,
           1,
           1,
           1
          ],
          "sizemode": "area",
          "sizeref": 0.01
         },
         "mode": "markers",
         "name": "",
         "showlegend": false,
         "subplot": "mapbox",
         "type": "scattermapbox"
        }
       ],
       "frames": [
        {
         "data": [
          {
           "hoverlabel": {
            "namelength": 0
           },
           "hovertemplate": "month=2019-05<br>count=%{marker.size}<br>latitude=%{lat}<br>longitude=%{lon}",
           "lat": [
            53.946812,
            53.951568,
            53.953203,
            53.951325,
            53.959082,
            53.956332,
            53.959981,
            53.95848,
            53.957132,
            53.959217,
            53.962372,
            53.960395,
            53.959792,
            53.961159,
            53.961743,
            53.957905,
            53.957438,
            53.962435,
            53.939454,
            53.959218,
            53.944208,
            53.961654,
            53.954733,
            53.959892,
            53.96728,
            53.957475,
            53.957277,
            53.960459
           ],
           "legendgroup": "",
           "lon": [
            -2.026703,
            -2.023171,
            -2.022349,
            -2.021875,
            -2.020919,
            -2.019912,
            -2.019213,
            -2.018983,
            -2.018556,
            -2.01813,
            -2.017263,
            -2.017049,
            -2.016927,
            -2.016485,
            -2.015891,
            -2.015051,
            -2.014091,
            -2.013757,
            -2.013658,
            -2.013147,
            -2.012456,
            -2.011105,
            -2.010372,
            -2.008255,
            -2.006793,
            -2.006486,
            -2.003911,
            -1.999309
           ],
           "marker": {
            "color": "#636efa",
            "size": [
             1,
             2,
             3,
             1,
             1,
             1,
             2,
             1,
             1,
             1,
             1,
             4,
             1,
             2,
             1,
             1,
             1,
             1,
             2,
             1,
             1,
             1,
             1,
             1,
             1,
             1,
             1,
             1
            ],
            "sizemode": "area",
            "sizeref": 0.01
           },
           "mode": "markers",
           "name": "",
           "showlegend": false,
           "subplot": "mapbox",
           "type": "scattermapbox"
          }
         ],
         "name": "2019-05"
        },
        {
         "data": [
          {
           "hoverlabel": {
            "namelength": 0
           },
           "hovertemplate": "month=2019-07<br>count=%{marker.size}<br>latitude=%{lat}<br>longitude=%{lon}",
           "lat": [
            53.946812,
            53.951568,
            53.953203,
            53.951325,
            53.959082,
            53.956332,
            53.960133,
            53.959981,
            53.95848,
            53.959217,
            53.960395,
            53.959792,
            53.961159,
            53.961743,
            53.957905,
            53.957438,
            53.939454,
            53.944208,
            53.961654,
            53.954733,
            53.959892,
            53.96728,
            53.957475,
            53.957277,
            53.960459
           ],
           "legendgroup": "",
           "lon": [
            -2.026703,
            -2.023171,
            -2.022349,
            -2.021875,
            -2.020919,
            -2.019912,
            -2.019655,
            -2.019213,
            -2.018983,
            -2.01813,
            -2.017049,
            -2.016927,
            -2.016485,
            -2.015891,
            -2.015051,
            -2.014091,
            -2.013658,
            -2.012456,
            -2.011105,
            -2.010372,
            -2.008255,
            -2.006793,
            -2.006486,
            -2.003911,
            -1.999309
           ],
           "marker": {
            "color": "#636efa",
            "size": [
             1,
             2,
             1,
             1,
             1,
             1,
             1,
             1,
             1,
             2,
             2,
             1,
             2,
             1,
             1,
             1,
             2,
             1,
             1,
             1,
             1,
             1,
             1,
             1,
             1
            ],
            "sizemode": "area",
            "sizeref": 0.01
           },
           "mode": "markers",
           "name": "",
           "showlegend": false,
           "subplot": "mapbox",
           "type": "scattermapbox"
          }
         ],
         "name": "2019-07"
        },
        {
         "data": [
          {
           "hoverlabel": {
            "namelength": 0
           },
           "hovertemplate": "month=2019-08<br>count=%{marker.size}<br>latitude=%{lat}<br>longitude=%{lon}",
           "lat": [
            53.946812,
            53.951568,
            53.953203,
            53.951325,
            53.959082,
            53.956332,
            53.959981,
            53.959217,
            53.962372,
            53.960395,
            53.959792,
            53.961159,
            53.961743,
            53.957438,
            53.939454,
            53.961654,
            53.954733,
            53.959892,
            53.96728,
            53.957475,
            53.957277
           ],
           "legendgroup": "",
           "lon": [
            -2.026703,
            -2.023171,
            -2.022349,
            -2.021875,
            -2.020919,
            -2.019912,
            -2.019213,
            -2.01813,
            -2.017263,
            -2.017049,
            -2.016927,
            -2.016485,
            -2.015891,
            -2.014091,
            -2.013658,
            -2.011105,
            -2.010372,
            -2.008255,
            -2.006793,
            -2.006486,
            -2.003911
           ],
           "marker": {
            "color": "#636efa",
            "size": [
             1,
             2,
             2,
             1,
             1,
             1,
             1,
             1,
             1,
             2,
             1,
             2,
             1,
             1,
             2,
             1,
             1,
             1,
             1,
             1,
             1
            ],
            "sizemode": "area",
            "sizeref": 0.01
           },
           "mode": "markers",
           "name": "",
           "showlegend": false,
           "subplot": "mapbox",
           "type": "scattermapbox"
          }
         ],
         "name": "2019-08"
        },
        {
         "data": [
          {
           "hoverlabel": {
            "namelength": 0
           },
           "hovertemplate": "month=2019-04<br>count=%{marker.size}<br>latitude=%{lat}<br>longitude=%{lon}",
           "lat": [
            53.951568,
            53.953203,
            53.959082,
            53.956332,
            53.960133,
            53.95848,
            53.959217,
            53.960395,
            53.959792,
            53.957905,
            53.939454,
            53.944208,
            53.961654,
            53.954733,
            53.96728,
            53.957475,
            53.957277,
            53.960459
           ],
           "legendgroup": "",
           "lon": [
            -2.023171,
            -2.022349,
            -2.020919,
            -2.019912,
            -2.019655,
            -2.018983,
            -2.01813,
            -2.017049,
            -2.016927,
            -2.015051,
            -2.013658,
            -2.012456,
            -2.011105,
            -2.010372,
            -2.006793,
            -2.006486,
            -2.003911,
            -1.999309
           ],
           "marker": {
            "color": "#636efa",
            "size": [
             1,
             1,
             1,
             1,
             1,
             2,
             2,
             2,
             1,
             1,
             2,
             1,
             1,
             1,
             1,
             1,
             1,
             1
            ],
            "sizemode": "area",
            "sizeref": 0.01
           },
           "mode": "markers",
           "name": "",
           "showlegend": false,
           "subplot": "mapbox",
           "type": "scattermapbox"
          }
         ],
         "name": "2019-04"
        },
        {
         "data": [
          {
           "hoverlabel": {
            "namelength": 0
           },
           "hovertemplate": "month=2019-06<br>count=%{marker.size}<br>latitude=%{lat}<br>longitude=%{lon}",
           "lat": [
            53.951568,
            53.953203,
            53.959082,
            53.958327,
            53.960133,
            53.950984,
            53.95848,
            53.957132,
            53.961005,
            53.959217,
            53.962372,
            53.960395,
            53.961159,
            53.961743,
            53.961141,
            53.962165,
            53.956701,
            53.953043,
            53.944208,
            53.960099,
            53.954733
           ],
           "legendgroup": "",
           "lon": [
            -2.023171,
            -2.022349,
            -2.020919,
            -2.020599,
            -2.019655,
            -2.019391,
            -2.018983,
            -2.018556,
            -2.018436,
            -2.01813,
            -2.017263,
            -2.017049,
            -2.016485,
            -2.015891,
            -2.01519,
            -2.015053,
            -2.013725,
            -2.013145,
            -2.012456,
            -2.012294,
            -2.010372
           ],
           "marker": {
            "color": "#636efa",
            "size": [
             1,
             2,
             1,
             1,
             1,
             1,
             1,
             3,
             1,
             2,
             1,
             3,
             2,
             2,
             1,
             1,
             1,
             1,
             1,
             1,
             1
            ],
            "sizemode": "area",
            "sizeref": 0.01
           },
           "mode": "markers",
           "name": "",
           "showlegend": false,
           "subplot": "mapbox",
           "type": "scattermapbox"
          }
         ],
         "name": "2019-06"
        },
        {
         "data": [
          {
           "hoverlabel": {
            "namelength": 0
           },
           "hovertemplate": "month=2019-09<br>count=%{marker.size}<br>latitude=%{lat}<br>longitude=%{lon}",
           "lat": [
            53.951568,
            53.953203,
            53.959082,
            53.958327,
            53.956332,
            53.960133,
            53.95848,
            53.957132,
            53.961005,
            53.959217,
            53.962372,
            53.960395,
            53.961159,
            53.957905,
            53.939454,
            53.953043,
            53.944208,
            53.960099,
            53.961654,
            53.954733,
            53.957277,
            53.960459
           ],
           "legendgroup": "",
           "lon": [
            -2.023171,
            -2.022349,
            -2.020919,
            -2.020599,
            -2.019912,
            -2.019655,
            -2.018983,
            -2.018556,
            -2.018436,
            -2.01813,
            -2.017263,
            -2.017049,
            -2.016485,
            -2.015051,
            -2.013658,
            -2.013145,
            -2.012456,
            -2.012294,
            -2.011105,
            -2.010372,
            -2.003911,
            -1.999309
           ],
           "marker": {
            "color": "#636efa",
            "size": [
             1,
             2,
             1,
             1,
             1,
             1,
             2,
             3,
             1,
             2,
             1,
             2,
             1,
             1,
             2,
             1,
             1,
             1,
             1,
             2,
             1,
             1
            ],
            "sizemode": "area",
            "sizeref": 0.01
           },
           "mode": "markers",
           "name": "",
           "showlegend": false,
           "subplot": "mapbox",
           "type": "scattermapbox"
          }
         ],
         "name": "2019-09"
        }
       ],
       "layout": {
        "font": {
         "color": "#7f7f7f",
         "family": "Courier New, monospace",
         "size": 18
        },
        "height": 600,
        "legend": {
         "itemsizing": "constant",
         "tracegroupgap": 0
        },
        "mapbox": {
         "center": {
          "lat": 53.95693315555557,
          "lon": -2.0154761481481454
         },
         "domain": {
          "x": [
           0,
           0.98
          ],
          "y": [
           0,
           1
          ]
         },
         "style": "open-street-map",
         "zoom": 14
        },
        "margin": {
         "b": 0,
         "l": 0,
         "r": 0,
         "t": 0
        },
        "sliders": [
         {
          "active": 0,
          "currentvalue": {
           "prefix": "month="
          },
          "len": 0.9,
          "pad": {
           "b": 10,
           "t": 60
          },
          "steps": [
           {
            "args": [
             [
              "2019-05"
             ],
             {
              "frame": {
               "duration": 0,
               "redraw": true
              },
              "fromcurrent": true,
              "mode": "immediate",
              "transition": {
               "duration": 0,
               "easing": "linear"
              }
             }
            ],
            "label": "2019-05",
            "method": "animate"
           },
           {
            "args": [
             [
              "2019-07"
             ],
             {
              "frame": {
               "duration": 0,
               "redraw": true
              },
              "fromcurrent": true,
              "mode": "immediate",
              "transition": {
               "duration": 0,
               "easing": "linear"
              }
             }
            ],
            "label": "2019-07",
            "method": "animate"
           },
           {
            "args": [
             [
              "2019-08"
             ],
             {
              "frame": {
               "duration": 0,
               "redraw": true
              },
              "fromcurrent": true,
              "mode": "immediate",
              "transition": {
               "duration": 0,
               "easing": "linear"
              }
             }
            ],
            "label": "2019-08",
            "method": "animate"
           },
           {
            "args": [
             [
              "2019-04"
             ],
             {
              "frame": {
               "duration": 0,
               "redraw": true
              },
              "fromcurrent": true,
              "mode": "immediate",
              "transition": {
               "duration": 0,
               "easing": "linear"
              }
             }
            ],
            "label": "2019-04",
            "method": "animate"
           },
           {
            "args": [
             [
              "2019-06"
             ],
             {
              "frame": {
               "duration": 0,
               "redraw": true
              },
              "fromcurrent": true,
              "mode": "immediate",
              "transition": {
               "duration": 0,
               "easing": "linear"
              }
             }
            ],
            "label": "2019-06",
            "method": "animate"
           },
           {
            "args": [
             [
              "2019-09"
             ],
             {
              "frame": {
               "duration": 0,
               "redraw": true
              },
              "fromcurrent": true,
              "mode": "immediate",
              "transition": {
               "duration": 0,
               "easing": "linear"
              }
             }
            ],
            "label": "2019-09",
            "method": "animate"
           }
          ],
          "x": 0.1,
          "xanchor": "left",
          "y": 0,
          "yanchor": "top"
         }
        ],
        "template": {
         "data": {
          "bar": [
           {
            "error_x": {
             "color": "#2a3f5f"
            },
            "error_y": {
             "color": "#2a3f5f"
            },
            "marker": {
             "line": {
              "color": "#E5ECF6",
              "width": 0.5
             }
            },
            "type": "bar"
           }
          ],
          "barpolar": [
           {
            "marker": {
             "line": {
              "color": "#E5ECF6",
              "width": 0.5
             }
            },
            "type": "barpolar"
           }
          ],
          "carpet": [
           {
            "aaxis": {
             "endlinecolor": "#2a3f5f",
             "gridcolor": "white",
             "linecolor": "white",
             "minorgridcolor": "white",
             "startlinecolor": "#2a3f5f"
            },
            "baxis": {
             "endlinecolor": "#2a3f5f",
             "gridcolor": "white",
             "linecolor": "white",
             "minorgridcolor": "white",
             "startlinecolor": "#2a3f5f"
            },
            "type": "carpet"
           }
          ],
          "choropleth": [
           {
            "colorbar": {
             "outlinewidth": 0,
             "ticks": ""
            },
            "type": "choropleth"
           }
          ],
          "contour": [
           {
            "colorbar": {
             "outlinewidth": 0,
             "ticks": ""
            },
            "colorscale": [
             [
              0,
              "#0d0887"
             ],
             [
              0.1111111111111111,
              "#46039f"
             ],
             [
              0.2222222222222222,
              "#7201a8"
             ],
             [
              0.3333333333333333,
              "#9c179e"
             ],
             [
              0.4444444444444444,
              "#bd3786"
             ],
             [
              0.5555555555555556,
              "#d8576b"
             ],
             [
              0.6666666666666666,
              "#ed7953"
             ],
             [
              0.7777777777777778,
              "#fb9f3a"
             ],
             [
              0.8888888888888888,
              "#fdca26"
             ],
             [
              1,
              "#f0f921"
             ]
            ],
            "type": "contour"
           }
          ],
          "contourcarpet": [
           {
            "colorbar": {
             "outlinewidth": 0,
             "ticks": ""
            },
            "type": "contourcarpet"
           }
          ],
          "heatmap": [
           {
            "colorbar": {
             "outlinewidth": 0,
             "ticks": ""
            },
            "colorscale": [
             [
              0,
              "#0d0887"
             ],
             [
              0.1111111111111111,
              "#46039f"
             ],
             [
              0.2222222222222222,
              "#7201a8"
             ],
             [
              0.3333333333333333,
              "#9c179e"
             ],
             [
              0.4444444444444444,
              "#bd3786"
             ],
             [
              0.5555555555555556,
              "#d8576b"
             ],
             [
              0.6666666666666666,
              "#ed7953"
             ],
             [
              0.7777777777777778,
              "#fb9f3a"
             ],
             [
              0.8888888888888888,
              "#fdca26"
             ],
             [
              1,
              "#f0f921"
             ]
            ],
            "type": "heatmap"
           }
          ],
          "heatmapgl": [
           {
            "colorbar": {
             "outlinewidth": 0,
             "ticks": ""
            },
            "colorscale": [
             [
              0,
              "#0d0887"
             ],
             [
              0.1111111111111111,
              "#46039f"
             ],
             [
              0.2222222222222222,
              "#7201a8"
             ],
             [
              0.3333333333333333,
              "#9c179e"
             ],
             [
              0.4444444444444444,
              "#bd3786"
             ],
             [
              0.5555555555555556,
              "#d8576b"
             ],
             [
              0.6666666666666666,
              "#ed7953"
             ],
             [
              0.7777777777777778,
              "#fb9f3a"
             ],
             [
              0.8888888888888888,
              "#fdca26"
             ],
             [
              1,
              "#f0f921"
             ]
            ],
            "type": "heatmapgl"
           }
          ],
          "histogram": [
           {
            "marker": {
             "colorbar": {
              "outlinewidth": 0,
              "ticks": ""
             }
            },
            "type": "histogram"
           }
          ],
          "histogram2d": [
           {
            "colorbar": {
             "outlinewidth": 0,
             "ticks": ""
            },
            "colorscale": [
             [
              0,
              "#0d0887"
             ],
             [
              0.1111111111111111,
              "#46039f"
             ],
             [
              0.2222222222222222,
              "#7201a8"
             ],
             [
              0.3333333333333333,
              "#9c179e"
             ],
             [
              0.4444444444444444,
              "#bd3786"
             ],
             [
              0.5555555555555556,
              "#d8576b"
             ],
             [
              0.6666666666666666,
              "#ed7953"
             ],
             [
              0.7777777777777778,
              "#fb9f3a"
             ],
             [
              0.8888888888888888,
              "#fdca26"
             ],
             [
              1,
              "#f0f921"
             ]
            ],
            "type": "histogram2d"
           }
          ],
          "histogram2dcontour": [
           {
            "colorbar": {
             "outlinewidth": 0,
             "ticks": ""
            },
            "colorscale": [
             [
              0,
              "#0d0887"
             ],
             [
              0.1111111111111111,
              "#46039f"
             ],
             [
              0.2222222222222222,
              "#7201a8"
             ],
             [
              0.3333333333333333,
              "#9c179e"
             ],
             [
              0.4444444444444444,
              "#bd3786"
             ],
             [
              0.5555555555555556,
              "#d8576b"
             ],
             [
              0.6666666666666666,
              "#ed7953"
             ],
             [
              0.7777777777777778,
              "#fb9f3a"
             ],
             [
              0.8888888888888888,
              "#fdca26"
             ],
             [
              1,
              "#f0f921"
             ]
            ],
            "type": "histogram2dcontour"
           }
          ],
          "mesh3d": [
           {
            "colorbar": {
             "outlinewidth": 0,
             "ticks": ""
            },
            "type": "mesh3d"
           }
          ],
          "parcoords": [
           {
            "line": {
             "colorbar": {
              "outlinewidth": 0,
              "ticks": ""
             }
            },
            "type": "parcoords"
           }
          ],
          "scatter": [
           {
            "marker": {
             "colorbar": {
              "outlinewidth": 0,
              "ticks": ""
             }
            },
            "type": "scatter"
           }
          ],
          "scatter3d": [
           {
            "line": {
             "colorbar": {
              "outlinewidth": 0,
              "ticks": ""
             }
            },
            "marker": {
             "colorbar": {
              "outlinewidth": 0,
              "ticks": ""
             }
            },
            "type": "scatter3d"
           }
          ],
          "scattercarpet": [
           {
            "marker": {
             "colorbar": {
              "outlinewidth": 0,
              "ticks": ""
             }
            },
            "type": "scattercarpet"
           }
          ],
          "scattergeo": [
           {
            "marker": {
             "colorbar": {
              "outlinewidth": 0,
              "ticks": ""
             }
            },
            "type": "scattergeo"
           }
          ],
          "scattergl": [
           {
            "marker": {
             "colorbar": {
              "outlinewidth": 0,
              "ticks": ""
             }
            },
            "type": "scattergl"
           }
          ],
          "scattermapbox": [
           {
            "marker": {
             "colorbar": {
              "outlinewidth": 0,
              "ticks": ""
             }
            },
            "type": "scattermapbox"
           }
          ],
          "scatterpolar": [
           {
            "marker": {
             "colorbar": {
              "outlinewidth": 0,
              "ticks": ""
             }
            },
            "type": "scatterpolar"
           }
          ],
          "scatterpolargl": [
           {
            "marker": {
             "colorbar": {
              "outlinewidth": 0,
              "ticks": ""
             }
            },
            "type": "scatterpolargl"
           }
          ],
          "scatterternary": [
           {
            "marker": {
             "colorbar": {
              "outlinewidth": 0,
              "ticks": ""
             }
            },
            "type": "scatterternary"
           }
          ],
          "surface": [
           {
            "colorbar": {
             "outlinewidth": 0,
             "ticks": ""
            },
            "colorscale": [
             [
              0,
              "#0d0887"
             ],
             [
              0.1111111111111111,
              "#46039f"
             ],
             [
              0.2222222222222222,
              "#7201a8"
             ],
             [
              0.3333333333333333,
              "#9c179e"
             ],
             [
              0.4444444444444444,
              "#bd3786"
             ],
             [
              0.5555555555555556,
              "#d8576b"
             ],
             [
              0.6666666666666666,
              "#ed7953"
             ],
             [
              0.7777777777777778,
              "#fb9f3a"
             ],
             [
              0.8888888888888888,
              "#fdca26"
             ],
             [
              1,
              "#f0f921"
             ]
            ],
            "type": "surface"
           }
          ],
          "table": [
           {
            "cells": {
             "fill": {
              "color": "#EBF0F8"
             },
             "line": {
              "color": "white"
             }
            },
            "header": {
             "fill": {
              "color": "#C8D4E3"
             },
             "line": {
              "color": "white"
             }
            },
            "type": "table"
           }
          ]
         },
         "layout": {
          "annotationdefaults": {
           "arrowcolor": "#2a3f5f",
           "arrowhead": 0,
           "arrowwidth": 1
          },
          "colorscale": {
           "diverging": [
            [
             0,
             "#8e0152"
            ],
            [
             0.1,
             "#c51b7d"
            ],
            [
             0.2,
             "#de77ae"
            ],
            [
             0.3,
             "#f1b6da"
            ],
            [
             0.4,
             "#fde0ef"
            ],
            [
             0.5,
             "#f7f7f7"
            ],
            [
             0.6,
             "#e6f5d0"
            ],
            [
             0.7,
             "#b8e186"
            ],
            [
             0.8,
             "#7fbc41"
            ],
            [
             0.9,
             "#4d9221"
            ],
            [
             1,
             "#276419"
            ]
           ],
           "sequential": [
            [
             0,
             "#0d0887"
            ],
            [
             0.1111111111111111,
             "#46039f"
            ],
            [
             0.2222222222222222,
             "#7201a8"
            ],
            [
             0.3333333333333333,
             "#9c179e"
            ],
            [
             0.4444444444444444,
             "#bd3786"
            ],
            [
             0.5555555555555556,
             "#d8576b"
            ],
            [
             0.6666666666666666,
             "#ed7953"
            ],
            [
             0.7777777777777778,
             "#fb9f3a"
            ],
            [
             0.8888888888888888,
             "#fdca26"
            ],
            [
             1,
             "#f0f921"
            ]
           ],
           "sequentialminus": [
            [
             0,
             "#0d0887"
            ],
            [
             0.1111111111111111,
             "#46039f"
            ],
            [
             0.2222222222222222,
             "#7201a8"
            ],
            [
             0.3333333333333333,
             "#9c179e"
            ],
            [
             0.4444444444444444,
             "#bd3786"
            ],
            [
             0.5555555555555556,
             "#d8576b"
            ],
            [
             0.6666666666666666,
             "#ed7953"
            ],
            [
             0.7777777777777778,
             "#fb9f3a"
            ],
            [
             0.8888888888888888,
             "#fdca26"
            ],
            [
             1,
             "#f0f921"
            ]
           ]
          },
          "colorway": [
           "#636efa",
           "#EF553B",
           "#00cc96",
           "#ab63fa",
           "#FFA15A",
           "#19d3f3",
           "#FF6692",
           "#B6E880",
           "#FF97FF",
           "#FECB52"
          ],
          "font": {
           "color": "#2a3f5f"
          },
          "geo": {
           "bgcolor": "white",
           "lakecolor": "white",
           "landcolor": "#E5ECF6",
           "showlakes": true,
           "showland": true,
           "subunitcolor": "white"
          },
          "hoverlabel": {
           "align": "left"
          },
          "hovermode": "closest",
          "mapbox": {
           "style": "light"
          },
          "paper_bgcolor": "white",
          "plot_bgcolor": "#E5ECF6",
          "polar": {
           "angularaxis": {
            "gridcolor": "white",
            "linecolor": "white",
            "ticks": ""
           },
           "bgcolor": "#E5ECF6",
           "radialaxis": {
            "gridcolor": "white",
            "linecolor": "white",
            "ticks": ""
           }
          },
          "scene": {
           "xaxis": {
            "backgroundcolor": "#E5ECF6",
            "gridcolor": "white",
            "gridwidth": 2,
            "linecolor": "white",
            "showbackground": true,
            "ticks": "",
            "zerolinecolor": "white"
           },
           "yaxis": {
            "backgroundcolor": "#E5ECF6",
            "gridcolor": "white",
            "gridwidth": 2,
            "linecolor": "white",
            "showbackground": true,
            "ticks": "",
            "zerolinecolor": "white"
           },
           "zaxis": {
            "backgroundcolor": "#E5ECF6",
            "gridcolor": "white",
            "gridwidth": 2,
            "linecolor": "white",
            "showbackground": true,
            "ticks": "",
            "zerolinecolor": "white"
           }
          },
          "shapedefaults": {
           "line": {
            "color": "#2a3f5f"
           }
          },
          "ternary": {
           "aaxis": {
            "gridcolor": "white",
            "linecolor": "white",
            "ticks": ""
           },
           "baxis": {
            "gridcolor": "white",
            "linecolor": "white",
            "ticks": ""
           },
           "bgcolor": "#E5ECF6",
           "caxis": {
            "gridcolor": "white",
            "linecolor": "white",
            "ticks": ""
           }
          },
          "title": {
           "x": 0.05
          },
          "xaxis": {
           "automargin": true,
           "gridcolor": "white",
           "linecolor": "white",
           "ticks": "",
           "zerolinecolor": "white",
           "zerolinewidth": 2
          },
          "yaxis": {
           "automargin": true,
           "gridcolor": "white",
           "linecolor": "white",
           "ticks": "",
           "zerolinecolor": "white",
           "zerolinewidth": 2
          }
         }
        },
        "title": {
         "text": "Violent Crimes in Skipton by month"
        },
        "updatemenus": [
         {
          "buttons": [
           {
            "args": [
             null,
             {
              "frame": {
               "duration": 500,
               "redraw": true
              },
              "fromcurrent": true,
              "mode": "immediate",
              "transition": {
               "duration": 500,
               "easing": "linear"
              }
             }
            ],
            "label": "&#9654;",
            "method": "animate"
           },
           {
            "args": [
             [
              null
             ],
             {
              "frame": {
               "duration": 0,
               "redraw": true
              },
              "fromcurrent": true,
              "mode": "immediate",
              "transition": {
               "duration": 0,
               "easing": "linear"
              }
             }
            ],
            "label": "&#9724;",
            "method": "animate"
           }
          ],
          "direction": "left",
          "pad": {
           "r": 10,
           "t": 70
          },
          "showactive": false,
          "type": "buttons",
          "x": 0.1,
          "xanchor": "right",
          "y": 0,
          "yanchor": "top"
         }
        ]
       }
      },
      "text/html": [
       "<div>\n",
       "        \n",
       "        \n",
       "            <div id=\"cee520a8-f996-469e-98da-a403d2968c45\" class=\"plotly-graph-div\" style=\"height:600px; width:100%;\"></div>\n",
       "            <script type=\"text/javascript\">\n",
       "                require([\"plotly\"], function(Plotly) {\n",
       "                    window.PLOTLYENV=window.PLOTLYENV || {};\n",
       "                    \n",
       "                if (document.getElementById(\"cee520a8-f996-469e-98da-a403d2968c45\")) {\n",
       "                    Plotly.newPlot(\n",
       "                        'cee520a8-f996-469e-98da-a403d2968c45',\n",
       "                        [{\"hoverlabel\": {\"namelength\": 0}, \"hovertemplate\": \"month=2019-05<br>count=%{marker.size}<br>latitude=%{lat}<br>longitude=%{lon}\", \"lat\": [53.946812, 53.951568, 53.953203, 53.951325, 53.959082, 53.956332, 53.959981, 53.95848, 53.957132, 53.959217, 53.962372, 53.960395, 53.959792, 53.961159, 53.961743, 53.957905, 53.957438, 53.962435, 53.939454, 53.959218, 53.944208, 53.961654, 53.954733, 53.959892, 53.96728, 53.957475, 53.957277, 53.960459], \"legendgroup\": \"\", \"lon\": [-2.026703, -2.023171, -2.022349, -2.021875, -2.020919, -2.019912, -2.019213, -2.018983, -2.018556, -2.01813, -2.017263, -2.017049, -2.016927, -2.016485, -2.015891, -2.015051, -2.014091, -2.013757, -2.013658, -2.013147, -2.012456, -2.011105, -2.010372, -2.008255, -2.006793, -2.006486, -2.003911, -1.999309], \"marker\": {\"color\": \"#636efa\", \"size\": [1, 2, 3, 1, 1, 1, 2, 1, 1, 1, 1, 4, 1, 2, 1, 1, 1, 1, 2, 1, 1, 1, 1, 1, 1, 1, 1, 1], \"sizemode\": \"area\", \"sizeref\": 0.01}, \"mode\": \"markers\", \"name\": \"\", \"showlegend\": false, \"subplot\": \"mapbox\", \"type\": \"scattermapbox\"}],\n",
       "                        {\"font\": {\"color\": \"#7f7f7f\", \"family\": \"Courier New, monospace\", \"size\": 18}, \"height\": 600, \"legend\": {\"itemsizing\": \"constant\", \"tracegroupgap\": 0}, \"mapbox\": {\"center\": {\"lat\": 53.95693315555557, \"lon\": -2.0154761481481454}, \"domain\": {\"x\": [0.0, 0.98], \"y\": [0.0, 1.0]}, \"style\": \"open-street-map\", \"zoom\": 14}, \"margin\": {\"b\": 0, \"l\": 0, \"r\": 0, \"t\": 0}, \"sliders\": [{\"active\": 0, \"currentvalue\": {\"prefix\": \"month=\"}, \"len\": 0.9, \"pad\": {\"b\": 10, \"t\": 60}, \"steps\": [{\"args\": [[\"2019-05\"], {\"frame\": {\"duration\": 0, \"redraw\": true}, \"fromcurrent\": true, \"mode\": \"immediate\", \"transition\": {\"duration\": 0, \"easing\": \"linear\"}}], \"label\": \"2019-05\", \"method\": \"animate\"}, {\"args\": [[\"2019-07\"], {\"frame\": {\"duration\": 0, \"redraw\": true}, \"fromcurrent\": true, \"mode\": \"immediate\", \"transition\": {\"duration\": 0, \"easing\": \"linear\"}}], \"label\": \"2019-07\", \"method\": \"animate\"}, {\"args\": [[\"2019-08\"], {\"frame\": {\"duration\": 0, \"redraw\": true}, \"fromcurrent\": true, \"mode\": \"immediate\", \"transition\": {\"duration\": 0, \"easing\": \"linear\"}}], \"label\": \"2019-08\", \"method\": \"animate\"}, {\"args\": [[\"2019-04\"], {\"frame\": {\"duration\": 0, \"redraw\": true}, \"fromcurrent\": true, \"mode\": \"immediate\", \"transition\": {\"duration\": 0, \"easing\": \"linear\"}}], \"label\": \"2019-04\", \"method\": \"animate\"}, {\"args\": [[\"2019-06\"], {\"frame\": {\"duration\": 0, \"redraw\": true}, \"fromcurrent\": true, \"mode\": \"immediate\", \"transition\": {\"duration\": 0, \"easing\": \"linear\"}}], \"label\": \"2019-06\", \"method\": \"animate\"}, {\"args\": [[\"2019-09\"], {\"frame\": {\"duration\": 0, \"redraw\": true}, \"fromcurrent\": true, \"mode\": \"immediate\", \"transition\": {\"duration\": 0, \"easing\": \"linear\"}}], \"label\": \"2019-09\", \"method\": \"animate\"}], \"x\": 0.1, \"xanchor\": \"left\", \"y\": 0, \"yanchor\": \"top\"}], \"template\": {\"data\": {\"bar\": [{\"error_x\": {\"color\": \"#2a3f5f\"}, \"error_y\": {\"color\": \"#2a3f5f\"}, \"marker\": {\"line\": {\"color\": \"#E5ECF6\", \"width\": 0.5}}, \"type\": \"bar\"}], \"barpolar\": [{\"marker\": {\"line\": {\"color\": \"#E5ECF6\", \"width\": 0.5}}, \"type\": \"barpolar\"}], \"carpet\": [{\"aaxis\": {\"endlinecolor\": \"#2a3f5f\", \"gridcolor\": \"white\", \"linecolor\": \"white\", \"minorgridcolor\": \"white\", \"startlinecolor\": \"#2a3f5f\"}, \"baxis\": {\"endlinecolor\": \"#2a3f5f\", \"gridcolor\": \"white\", \"linecolor\": \"white\", \"minorgridcolor\": \"white\", \"startlinecolor\": \"#2a3f5f\"}, \"type\": \"carpet\"}], \"choropleth\": [{\"colorbar\": {\"outlinewidth\": 0, \"ticks\": \"\"}, \"type\": \"choropleth\"}], \"contour\": [{\"colorbar\": {\"outlinewidth\": 0, \"ticks\": \"\"}, \"colorscale\": [[0.0, \"#0d0887\"], [0.1111111111111111, \"#46039f\"], [0.2222222222222222, \"#7201a8\"], [0.3333333333333333, \"#9c179e\"], [0.4444444444444444, \"#bd3786\"], [0.5555555555555556, \"#d8576b\"], [0.6666666666666666, \"#ed7953\"], [0.7777777777777778, \"#fb9f3a\"], [0.8888888888888888, \"#fdca26\"], [1.0, \"#f0f921\"]], \"type\": \"contour\"}], \"contourcarpet\": [{\"colorbar\": {\"outlinewidth\": 0, \"ticks\": \"\"}, \"type\": \"contourcarpet\"}], \"heatmap\": [{\"colorbar\": {\"outlinewidth\": 0, \"ticks\": \"\"}, \"colorscale\": [[0.0, \"#0d0887\"], [0.1111111111111111, \"#46039f\"], [0.2222222222222222, \"#7201a8\"], [0.3333333333333333, \"#9c179e\"], [0.4444444444444444, \"#bd3786\"], [0.5555555555555556, \"#d8576b\"], [0.6666666666666666, \"#ed7953\"], [0.7777777777777778, \"#fb9f3a\"], [0.8888888888888888, \"#fdca26\"], [1.0, \"#f0f921\"]], \"type\": \"heatmap\"}], \"heatmapgl\": [{\"colorbar\": {\"outlinewidth\": 0, \"ticks\": \"\"}, \"colorscale\": [[0.0, \"#0d0887\"], [0.1111111111111111, \"#46039f\"], [0.2222222222222222, \"#7201a8\"], [0.3333333333333333, \"#9c179e\"], [0.4444444444444444, \"#bd3786\"], [0.5555555555555556, \"#d8576b\"], [0.6666666666666666, \"#ed7953\"], [0.7777777777777778, \"#fb9f3a\"], [0.8888888888888888, \"#fdca26\"], [1.0, \"#f0f921\"]], \"type\": \"heatmapgl\"}], \"histogram\": [{\"marker\": {\"colorbar\": {\"outlinewidth\": 0, \"ticks\": \"\"}}, \"type\": \"histogram\"}], \"histogram2d\": [{\"colorbar\": {\"outlinewidth\": 0, \"ticks\": \"\"}, \"colorscale\": [[0.0, \"#0d0887\"], [0.1111111111111111, \"#46039f\"], [0.2222222222222222, \"#7201a8\"], [0.3333333333333333, \"#9c179e\"], [0.4444444444444444, \"#bd3786\"], [0.5555555555555556, \"#d8576b\"], [0.6666666666666666, \"#ed7953\"], [0.7777777777777778, \"#fb9f3a\"], [0.8888888888888888, \"#fdca26\"], [1.0, \"#f0f921\"]], \"type\": \"histogram2d\"}], \"histogram2dcontour\": [{\"colorbar\": {\"outlinewidth\": 0, \"ticks\": \"\"}, \"colorscale\": [[0.0, \"#0d0887\"], [0.1111111111111111, \"#46039f\"], [0.2222222222222222, \"#7201a8\"], [0.3333333333333333, \"#9c179e\"], [0.4444444444444444, \"#bd3786\"], [0.5555555555555556, \"#d8576b\"], [0.6666666666666666, \"#ed7953\"], [0.7777777777777778, \"#fb9f3a\"], [0.8888888888888888, \"#fdca26\"], [1.0, \"#f0f921\"]], \"type\": \"histogram2dcontour\"}], \"mesh3d\": [{\"colorbar\": {\"outlinewidth\": 0, \"ticks\": \"\"}, \"type\": \"mesh3d\"}], \"parcoords\": [{\"line\": {\"colorbar\": {\"outlinewidth\": 0, \"ticks\": \"\"}}, \"type\": \"parcoords\"}], \"scatter\": [{\"marker\": {\"colorbar\": {\"outlinewidth\": 0, \"ticks\": \"\"}}, \"type\": \"scatter\"}], \"scatter3d\": [{\"line\": {\"colorbar\": {\"outlinewidth\": 0, \"ticks\": \"\"}}, \"marker\": {\"colorbar\": {\"outlinewidth\": 0, \"ticks\": \"\"}}, \"type\": \"scatter3d\"}], \"scattercarpet\": [{\"marker\": {\"colorbar\": {\"outlinewidth\": 0, \"ticks\": \"\"}}, \"type\": \"scattercarpet\"}], \"scattergeo\": [{\"marker\": {\"colorbar\": {\"outlinewidth\": 0, \"ticks\": \"\"}}, \"type\": \"scattergeo\"}], \"scattergl\": [{\"marker\": {\"colorbar\": {\"outlinewidth\": 0, \"ticks\": \"\"}}, \"type\": \"scattergl\"}], \"scattermapbox\": [{\"marker\": {\"colorbar\": {\"outlinewidth\": 0, \"ticks\": \"\"}}, \"type\": \"scattermapbox\"}], \"scatterpolar\": [{\"marker\": {\"colorbar\": {\"outlinewidth\": 0, \"ticks\": \"\"}}, \"type\": \"scatterpolar\"}], \"scatterpolargl\": [{\"marker\": {\"colorbar\": {\"outlinewidth\": 0, \"ticks\": \"\"}}, \"type\": \"scatterpolargl\"}], \"scatterternary\": [{\"marker\": {\"colorbar\": {\"outlinewidth\": 0, \"ticks\": \"\"}}, \"type\": \"scatterternary\"}], \"surface\": [{\"colorbar\": {\"outlinewidth\": 0, \"ticks\": \"\"}, \"colorscale\": [[0.0, \"#0d0887\"], [0.1111111111111111, \"#46039f\"], [0.2222222222222222, \"#7201a8\"], [0.3333333333333333, \"#9c179e\"], [0.4444444444444444, \"#bd3786\"], [0.5555555555555556, \"#d8576b\"], [0.6666666666666666, \"#ed7953\"], [0.7777777777777778, \"#fb9f3a\"], [0.8888888888888888, \"#fdca26\"], [1.0, \"#f0f921\"]], \"type\": \"surface\"}], \"table\": [{\"cells\": {\"fill\": {\"color\": \"#EBF0F8\"}, \"line\": {\"color\": \"white\"}}, \"header\": {\"fill\": {\"color\": \"#C8D4E3\"}, \"line\": {\"color\": \"white\"}}, \"type\": \"table\"}]}, \"layout\": {\"annotationdefaults\": {\"arrowcolor\": \"#2a3f5f\", \"arrowhead\": 0, \"arrowwidth\": 1}, \"colorscale\": {\"diverging\": [[0, \"#8e0152\"], [0.1, \"#c51b7d\"], [0.2, \"#de77ae\"], [0.3, \"#f1b6da\"], [0.4, \"#fde0ef\"], [0.5, \"#f7f7f7\"], [0.6, \"#e6f5d0\"], [0.7, \"#b8e186\"], [0.8, \"#7fbc41\"], [0.9, \"#4d9221\"], [1, \"#276419\"]], \"sequential\": [[0.0, \"#0d0887\"], [0.1111111111111111, \"#46039f\"], [0.2222222222222222, \"#7201a8\"], [0.3333333333333333, \"#9c179e\"], [0.4444444444444444, \"#bd3786\"], [0.5555555555555556, \"#d8576b\"], [0.6666666666666666, \"#ed7953\"], [0.7777777777777778, \"#fb9f3a\"], [0.8888888888888888, \"#fdca26\"], [1.0, \"#f0f921\"]], \"sequentialminus\": [[0.0, \"#0d0887\"], [0.1111111111111111, \"#46039f\"], [0.2222222222222222, \"#7201a8\"], [0.3333333333333333, \"#9c179e\"], [0.4444444444444444, \"#bd3786\"], [0.5555555555555556, \"#d8576b\"], [0.6666666666666666, \"#ed7953\"], [0.7777777777777778, \"#fb9f3a\"], [0.8888888888888888, \"#fdca26\"], [1.0, \"#f0f921\"]]}, \"colorway\": [\"#636efa\", \"#EF553B\", \"#00cc96\", \"#ab63fa\", \"#FFA15A\", \"#19d3f3\", \"#FF6692\", \"#B6E880\", \"#FF97FF\", \"#FECB52\"], \"font\": {\"color\": \"#2a3f5f\"}, \"geo\": {\"bgcolor\": \"white\", \"lakecolor\": \"white\", \"landcolor\": \"#E5ECF6\", \"showlakes\": true, \"showland\": true, \"subunitcolor\": \"white\"}, \"hoverlabel\": {\"align\": \"left\"}, \"hovermode\": \"closest\", \"mapbox\": {\"style\": \"light\"}, \"paper_bgcolor\": \"white\", \"plot_bgcolor\": \"#E5ECF6\", \"polar\": {\"angularaxis\": {\"gridcolor\": \"white\", \"linecolor\": \"white\", \"ticks\": \"\"}, \"bgcolor\": \"#E5ECF6\", \"radialaxis\": {\"gridcolor\": \"white\", \"linecolor\": \"white\", \"ticks\": \"\"}}, \"scene\": {\"xaxis\": {\"backgroundcolor\": \"#E5ECF6\", \"gridcolor\": \"white\", \"gridwidth\": 2, \"linecolor\": \"white\", \"showbackground\": true, \"ticks\": \"\", \"zerolinecolor\": \"white\"}, \"yaxis\": {\"backgroundcolor\": \"#E5ECF6\", \"gridcolor\": \"white\", \"gridwidth\": 2, \"linecolor\": \"white\", \"showbackground\": true, \"ticks\": \"\", \"zerolinecolor\": \"white\"}, \"zaxis\": {\"backgroundcolor\": \"#E5ECF6\", \"gridcolor\": \"white\", \"gridwidth\": 2, \"linecolor\": \"white\", \"showbackground\": true, \"ticks\": \"\", \"zerolinecolor\": \"white\"}}, \"shapedefaults\": {\"line\": {\"color\": \"#2a3f5f\"}}, \"ternary\": {\"aaxis\": {\"gridcolor\": \"white\", \"linecolor\": \"white\", \"ticks\": \"\"}, \"baxis\": {\"gridcolor\": \"white\", \"linecolor\": \"white\", \"ticks\": \"\"}, \"bgcolor\": \"#E5ECF6\", \"caxis\": {\"gridcolor\": \"white\", \"linecolor\": \"white\", \"ticks\": \"\"}}, \"title\": {\"x\": 0.05}, \"xaxis\": {\"automargin\": true, \"gridcolor\": \"white\", \"linecolor\": \"white\", \"ticks\": \"\", \"zerolinecolor\": \"white\", \"zerolinewidth\": 2}, \"yaxis\": {\"automargin\": true, \"gridcolor\": \"white\", \"linecolor\": \"white\", \"ticks\": \"\", \"zerolinecolor\": \"white\", \"zerolinewidth\": 2}}}, \"title\": {\"text\": \"Violent Crimes in Skipton by month\"}, \"updatemenus\": [{\"buttons\": [{\"args\": [null, {\"frame\": {\"duration\": 500, \"redraw\": true}, \"fromcurrent\": true, \"mode\": \"immediate\", \"transition\": {\"duration\": 500, \"easing\": \"linear\"}}], \"label\": \"&#9654;\", \"method\": \"animate\"}, {\"args\": [[null], {\"frame\": {\"duration\": 0, \"redraw\": true}, \"fromcurrent\": true, \"mode\": \"immediate\", \"transition\": {\"duration\": 0, \"easing\": \"linear\"}}], \"label\": \"&#9724;\", \"method\": \"animate\"}], \"direction\": \"left\", \"pad\": {\"r\": 10, \"t\": 70}, \"showactive\": false, \"type\": \"buttons\", \"x\": 0.1, \"xanchor\": \"right\", \"y\": 0, \"yanchor\": \"top\"}]},\n",
       "                        {\"responsive\": true}\n",
       "                    ).then(function(){\n",
       "                            Plotly.addFrames('cee520a8-f996-469e-98da-a403d2968c45', [{\"data\": [{\"hoverlabel\": {\"namelength\": 0}, \"hovertemplate\": \"month=2019-05<br>count=%{marker.size}<br>latitude=%{lat}<br>longitude=%{lon}\", \"lat\": [53.946812, 53.951568, 53.953203, 53.951325, 53.959082, 53.956332, 53.959981, 53.95848, 53.957132, 53.959217, 53.962372, 53.960395, 53.959792, 53.961159, 53.961743, 53.957905, 53.957438, 53.962435, 53.939454, 53.959218, 53.944208, 53.961654, 53.954733, 53.959892, 53.96728, 53.957475, 53.957277, 53.960459], \"legendgroup\": \"\", \"lon\": [-2.026703, -2.023171, -2.022349, -2.021875, -2.020919, -2.019912, -2.019213, -2.018983, -2.018556, -2.01813, -2.017263, -2.017049, -2.016927, -2.016485, -2.015891, -2.015051, -2.014091, -2.013757, -2.013658, -2.013147, -2.012456, -2.011105, -2.010372, -2.008255, -2.006793, -2.006486, -2.003911, -1.999309], \"marker\": {\"color\": \"#636efa\", \"size\": [1, 2, 3, 1, 1, 1, 2, 1, 1, 1, 1, 4, 1, 2, 1, 1, 1, 1, 2, 1, 1, 1, 1, 1, 1, 1, 1, 1], \"sizemode\": \"area\", \"sizeref\": 0.01}, \"mode\": \"markers\", \"name\": \"\", \"showlegend\": false, \"subplot\": \"mapbox\", \"type\": \"scattermapbox\"}], \"name\": \"2019-05\"}, {\"data\": [{\"hoverlabel\": {\"namelength\": 0}, \"hovertemplate\": \"month=2019-07<br>count=%{marker.size}<br>latitude=%{lat}<br>longitude=%{lon}\", \"lat\": [53.946812, 53.951568, 53.953203, 53.951325, 53.959082, 53.956332, 53.960133, 53.959981, 53.95848, 53.959217, 53.960395, 53.959792, 53.961159, 53.961743, 53.957905, 53.957438, 53.939454, 53.944208, 53.961654, 53.954733, 53.959892, 53.96728, 53.957475, 53.957277, 53.960459], \"legendgroup\": \"\", \"lon\": [-2.026703, -2.023171, -2.022349, -2.021875, -2.020919, -2.019912, -2.019655, -2.019213, -2.018983, -2.01813, -2.017049, -2.016927, -2.016485, -2.015891, -2.015051, -2.014091, -2.013658, -2.012456, -2.011105, -2.010372, -2.008255, -2.006793, -2.006486, -2.003911, -1.999309], \"marker\": {\"color\": \"#636efa\", \"size\": [1, 2, 1, 1, 1, 1, 1, 1, 1, 2, 2, 1, 2, 1, 1, 1, 2, 1, 1, 1, 1, 1, 1, 1, 1], \"sizemode\": \"area\", \"sizeref\": 0.01}, \"mode\": \"markers\", \"name\": \"\", \"showlegend\": false, \"subplot\": \"mapbox\", \"type\": \"scattermapbox\"}], \"name\": \"2019-07\"}, {\"data\": [{\"hoverlabel\": {\"namelength\": 0}, \"hovertemplate\": \"month=2019-08<br>count=%{marker.size}<br>latitude=%{lat}<br>longitude=%{lon}\", \"lat\": [53.946812, 53.951568, 53.953203, 53.951325, 53.959082, 53.956332, 53.959981, 53.959217, 53.962372, 53.960395, 53.959792, 53.961159, 53.961743, 53.957438, 53.939454, 53.961654, 53.954733, 53.959892, 53.96728, 53.957475, 53.957277], \"legendgroup\": \"\", \"lon\": [-2.026703, -2.023171, -2.022349, -2.021875, -2.020919, -2.019912, -2.019213, -2.01813, -2.017263, -2.017049, -2.016927, -2.016485, -2.015891, -2.014091, -2.013658, -2.011105, -2.010372, -2.008255, -2.006793, -2.006486, -2.003911], \"marker\": {\"color\": \"#636efa\", \"size\": [1, 2, 2, 1, 1, 1, 1, 1, 1, 2, 1, 2, 1, 1, 2, 1, 1, 1, 1, 1, 1], \"sizemode\": \"area\", \"sizeref\": 0.01}, \"mode\": \"markers\", \"name\": \"\", \"showlegend\": false, \"subplot\": \"mapbox\", \"type\": \"scattermapbox\"}], \"name\": \"2019-08\"}, {\"data\": [{\"hoverlabel\": {\"namelength\": 0}, \"hovertemplate\": \"month=2019-04<br>count=%{marker.size}<br>latitude=%{lat}<br>longitude=%{lon}\", \"lat\": [53.951568, 53.953203, 53.959082, 53.956332, 53.960133, 53.95848, 53.959217, 53.960395, 53.959792, 53.957905, 53.939454, 53.944208, 53.961654, 53.954733, 53.96728, 53.957475, 53.957277, 53.960459], \"legendgroup\": \"\", \"lon\": [-2.023171, -2.022349, -2.020919, -2.019912, -2.019655, -2.018983, -2.01813, -2.017049, -2.016927, -2.015051, -2.013658, -2.012456, -2.011105, -2.010372, -2.006793, -2.006486, -2.003911, -1.999309], \"marker\": {\"color\": \"#636efa\", \"size\": [1, 1, 1, 1, 1, 2, 2, 2, 1, 1, 2, 1, 1, 1, 1, 1, 1, 1], \"sizemode\": \"area\", \"sizeref\": 0.01}, \"mode\": \"markers\", \"name\": \"\", \"showlegend\": false, \"subplot\": \"mapbox\", \"type\": \"scattermapbox\"}], \"name\": \"2019-04\"}, {\"data\": [{\"hoverlabel\": {\"namelength\": 0}, \"hovertemplate\": \"month=2019-06<br>count=%{marker.size}<br>latitude=%{lat}<br>longitude=%{lon}\", \"lat\": [53.951568, 53.953203, 53.959082, 53.958327, 53.960133, 53.950984, 53.95848, 53.957132, 53.961005, 53.959217, 53.962372, 53.960395, 53.961159, 53.961743, 53.961141, 53.962165, 53.956701, 53.953043, 53.944208, 53.960099, 53.954733], \"legendgroup\": \"\", \"lon\": [-2.023171, -2.022349, -2.020919, -2.020599, -2.019655, -2.019391, -2.018983, -2.018556, -2.018436, -2.01813, -2.017263, -2.017049, -2.016485, -2.015891, -2.01519, -2.015053, -2.013725, -2.013145, -2.012456, -2.012294, -2.010372], \"marker\": {\"color\": \"#636efa\", \"size\": [1, 2, 1, 1, 1, 1, 1, 3, 1, 2, 1, 3, 2, 2, 1, 1, 1, 1, 1, 1, 1], \"sizemode\": \"area\", \"sizeref\": 0.01}, \"mode\": \"markers\", \"name\": \"\", \"showlegend\": false, \"subplot\": \"mapbox\", \"type\": \"scattermapbox\"}], \"name\": \"2019-06\"}, {\"data\": [{\"hoverlabel\": {\"namelength\": 0}, \"hovertemplate\": \"month=2019-09<br>count=%{marker.size}<br>latitude=%{lat}<br>longitude=%{lon}\", \"lat\": [53.951568, 53.953203, 53.959082, 53.958327, 53.956332, 53.960133, 53.95848, 53.957132, 53.961005, 53.959217, 53.962372, 53.960395, 53.961159, 53.957905, 53.939454, 53.953043, 53.944208, 53.960099, 53.961654, 53.954733, 53.957277, 53.960459], \"legendgroup\": \"\", \"lon\": [-2.023171, -2.022349, -2.020919, -2.020599, -2.019912, -2.019655, -2.018983, -2.018556, -2.018436, -2.01813, -2.017263, -2.017049, -2.016485, -2.015051, -2.013658, -2.013145, -2.012456, -2.012294, -2.011105, -2.010372, -2.003911, -1.999309], \"marker\": {\"color\": \"#636efa\", \"size\": [1, 2, 1, 1, 1, 1, 2, 3, 1, 2, 1, 2, 1, 1, 2, 1, 1, 1, 1, 2, 1, 1], \"sizemode\": \"area\", \"sizeref\": 0.01}, \"mode\": \"markers\", \"name\": \"\", \"showlegend\": false, \"subplot\": \"mapbox\", \"type\": \"scattermapbox\"}], \"name\": \"2019-09\"}]);\n",
       "                        }).then(function(){\n",
       "                            \n",
       "var gd = document.getElementById('cee520a8-f996-469e-98da-a403d2968c45');\n",
       "var x = new MutationObserver(function (mutations, observer) {{\n",
       "        var display = window.getComputedStyle(gd).display;\n",
       "        if (!display || display === 'none') {{\n",
       "            console.log([gd, 'removed!']);\n",
       "            Plotly.purge(gd);\n",
       "            observer.disconnect();\n",
       "        }}\n",
       "}});\n",
       "\n",
       "// Listen for the removal of the full notebook cells\n",
       "var notebookContainer = gd.closest('#notebook-container');\n",
       "if (notebookContainer) {{\n",
       "    x.observe(notebookContainer, {childList: true});\n",
       "}}\n",
       "\n",
       "// Listen for the clearing of the current output cell\n",
       "var outputEl = gd.closest('.output');\n",
       "if (outputEl) {{\n",
       "    x.observe(outputEl, {childList: true});\n",
       "}}\n",
       "\n",
       "                        })\n",
       "                };\n",
       "                });\n",
       "            </script>\n",
       "        </div>"
      ]
     },
     "metadata": {},
     "output_type": "display_data"
    }
   ],
   "source": [
    "fig3 = px.scatter_mapbox(grouped, lon=\"longitude\", lat=\"latitude\", \n",
    "                         size=\"count\", zoom=14, animation_frame=\"month\")\n",
    "fig3.update_layout(mapbox_style=\"open-street-map\")\n",
    "fig3.update_layout(margin={\"r\":0,\"t\":0,\"l\":0,\"b\":0})\n",
    "fig3.update_layout(\n",
    "    title=\"Violent Crimes in Skipton by month\",\n",
    "    font=dict(\n",
    "        family=\"Courier New, monospace\",\n",
    "        size=18,\n",
    "        color=\"#7f7f7f\"    )\n",
    ")\n",
    "\n",
    "fig3.show()"
   ]
  },
  {
   "cell_type": "markdown",
   "metadata": {},
   "source": [
    "Here is a pointer on his to fix the date order. Specify the frame sequence.\n",
    "\n",
    "Defining Button Arguments\n",
    "None: Setting \"args\" to undefined (i.e. \"args\": [None]) will create a simple play button that will animate all frames.\n",
    "string: Animate all frames with group \"<some string>\". This is a way of scoping the animations in case you would prefer to animate without explicitly enumerating all frames.\n",
    "[\"frame1\", \"frame2\", ...]: Animate a sequence of named frames."
   ]
  },
  {
   "cell_type": "code",
   "execution_count": null,
   "metadata": {},
   "outputs": [],
   "source": []
  },
  {
   "cell_type": "code",
   "execution_count": null,
   "metadata": {},
   "outputs": [],
   "source": []
  }
 ],
 "metadata": {
  "kernelspec": {
   "display_name": "Python 3",
   "language": "python",
   "name": "python3"
  },
  "language_info": {
   "codemirror_mode": {
    "name": "ipython",
    "version": 3
   },
   "file_extension": ".py",
   "mimetype": "text/x-python",
   "name": "python",
   "nbconvert_exporter": "python",
   "pygments_lexer": "ipython3",
   "version": "3.7.3"
  }
 },
 "nbformat": 4,
 "nbformat_minor": 4
}
