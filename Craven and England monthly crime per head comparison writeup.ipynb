{
 "cells": [
  {
   "cell_type": "markdown",
   "metadata": {},
   "source": [
    "# A Comparison of England and Craven's Monthly Crime per head\n",
    "\n",
    "I have moved to Craven recently and want to see if it is a suitable place to rent. One measure I want to use is to see if the crime rate in Craven is significantly lower than other places in England."
   ]
  },
  {
   "cell_type": "markdown",
   "metadata": {},
   "source": [
    "## Gathering the Data\n",
    "I took data for both Craven and England from https://data.police.uk/ and then concatenated the multiple CSV files into a single dataframe using glob.\n"
   ]
  },
  {
   "cell_type": "code",
   "execution_count": 13,
   "metadata": {},
   "outputs": [],
   "source": [
    "%config IPCompleter.greedy=True\n",
    "import plotly.figure_factory as ff\n",
    "from matplotlib import pyplot"
   ]
  },
  {
   "cell_type": "code",
   "execution_count": 14,
   "metadata": {},
   "outputs": [],
   "source": [
    "#import the UK wide crim data. Dont forget to remove the craven stuff\n",
    "\n",
    "import glob\n",
    "import pandas as pd\n",
    "import numpy as np\n",
    "\n",
    "# glob.glob('data*.csv') - returns List[str]\n",
    "# pd.read_csv(f) - returns pd.DataFrame()\n",
    "# for f in glob.glob() - returns a List[DataFrames]\n",
    "# pd.concat() - returns one pd.DataFrame()\n",
    "ukdf = pd.concat([pd.read_csv(f) for f in glob.glob('D:/Ukwidecrimedata/*.csv')], ignore_index = True)\n",
    "ukdf.columns = [c.replace(' ', '_') for c in ukdf.columns]"
   ]
  },
  {
   "cell_type": "markdown",
   "metadata": {},
   "source": [
    "T test is compare two means\n",
    "\n",
    "Got the UK data by concat smaller CSVs\n",
    "Checked its distribution when grouped by crime ID. Its not normal.\n",
    "Checked and its log-normal so will need to log it later.\n",
    "Created the craven table from the main one and removed craven from the UK table.\n",
    "Created the england table by removing wales from the UK table.\n",
    "Extracted the data for each month from the england and craven tables\n",
    "Grouped this data by the crime type for each month\n",
    "Divided the data by the respective population to get the crime per head population. Logged this data so it became normal.\n",
    "Took a mean across the months to get the monthly crime per head population\n",
    "Used this to do the t-test for each crime type by comparing the means\n",
    "Found out all of them were statistically \n",
    "\n",
    "\n",
    "\n",
    "compile big UK dataframe.\n",
    "remove wales\n",
    "reformat column names\n",
    "remove craven and create craven frame\n",
    "split into smaller monthly dataframes and group by crime totals\n",
    "do the same for the craven one\n",
    "get a mean across several months for both the craven one and the england one\n",
    "compare means\n",
    "\n",
    "England total - composed of All UK crime counts divided by whole UK population\n",
    "-REMOVE THE WALES DATA FIRST\n",
    "Skipton mean - composed of all Skipton crime counts divided by Skipton population\n",
    "\n",
    "Get a mean across all months for each crime in both skipton and uk\n",
    "Compare the mean\n",
    "Do t test\n",
    "....?\n",
    "WIN\n",
    "\n",
    "Get the Independant UK data, then sum (count) all of the occurances of crimes for each type of crime .groupby('Crime type').count()\n",
    "Do the same craven\n",
    "\n",
    "then divide by population\n",
    "\n",
    "then compare the figures\n",
    "\n",
    "\n",
    "If do it by LSOA, then first group and count by LSOA and CRIme type, then extract the craven or whatever data as it will save steps"
   ]
  },
  {
   "cell_type": "markdown",
   "metadata": {},
   "source": [
    "## Check the distribution\n",
    "I checked the distribution of the data using a histogram and it is clearly not a normal distribution. However, logging the data shows that it is log-normal and so we can still do parametric statistical test on it later."
   ]
  },
  {
   "cell_type": "code",
   "execution_count": 15,
   "metadata": {},
   "outputs": [
    {
     "data": {
      "text/plain": [
       "<matplotlib.axes._subplots.AxesSubplot at 0xccbd708160>"
      ]
     },
     "execution_count": 15,
     "metadata": {},
     "output_type": "execute_result"
    },
    {
     "data": {
      "image/png": "[encoded data removed]",
      "text/plain": [
       "<Figure size 432x288 with 1 Axes>"
      ]
     },
     "metadata": {
      "needs_background": "light"
     },
     "output_type": "display_data"
    }
   ],
   "source": [
    "#checked the distribution of the data\n",
    "#its a poisson distribution and not normal\n",
    "ukdf.groupby(['LSOA_code']).Crime_ID.count().hist(bins=range(0,1000,25))"
   ]
  },
  {
   "cell_type": "code",
   "execution_count": 16,
   "metadata": {},
   "outputs": [
    {
     "data": {
      "text/plain": [
       "<matplotlib.axes._subplots.AxesSubplot at 0xcc86a680b8>"
      ]
     },
     "execution_count": 16,
     "metadata": {},
     "output_type": "execute_result"
    },
    {
     "data": {
      "image/png": "[encoded data removed]",
      "text/plain": [
       "<Figure size 432x288 with 1 Axes>"
      ]
     },
     "metadata": {
      "needs_background": "light"
     },
     "output_type": "display_data"
    }
   ],
   "source": [
    "#I did a log of the data above and it is normal. Now to use this data rather than the one below.\n",
    "uklogprep = ukdf.groupby(['LSOA_code']).Crime_ID.count()\n",
    "uklog = np.log(uklogprep)\n",
    "uklog.hist()"
   ]
  },
  {
   "cell_type": "code",
   "execution_count": 17,
   "metadata": {},
   "outputs": [],
   "source": [
    "#create the craven table from the UK one. Then get a list of all of the craven codes so we can cut them from the main table\n",
    "craventest = ukdf[ukdf['LSOA_name'].str.contains(\"Craven\", na=False)]\n",
    "cravencorrect = craventest[['Crime_type','Month']]"
   ]
  },
  {
   "cell_type": "markdown",
   "metadata": {},
   "source": [
    "## Remove Wales data to make it England only\n",
    "I decided that I wanted to narrow it down and compare only to rest of England. Therefore I removed the crime data for Wales from the dataset."
   ]
  },
  {
   "cell_type": "code",
   "execution_count": 23,
   "metadata": {},
   "outputs": [
    {
     "data": {
      "text/plain": [
       "array(['W01001561', 'W01001644', 'W01000773', ..., 'W01000464',\n",
       "       'W01000450', 'W01001809'], dtype=object)"
      ]
     },
     "execution_count": 23,
     "metadata": {},
     "output_type": "execute_result"
    }
   ],
   "source": [
    "#find all the values for wales\n",
    "wales = ukdf[ukdf['LSOA_code'].str.contains(\"W\", na=False)]\n",
    "wales['LSOA_code'].unique()"
   ]
  },
  {
   "cell_type": "code",
   "execution_count": 24,
   "metadata": {},
   "outputs": [],
   "source": [
    "#Dropping the wales data to make it England only. Dropping the Craven from the England dataframe so that they are both independant.\n",
    "nocravenuk = ukdf.drop(index=craventest.index) #this works by dropping all of the rows where the index is equal the non-reset indexes of the craven table drawn from the main dataset\n",
    "engonly = nocravenuk.drop(index=wales.index) #remove the wales data"
   ]
  },
  {
   "cell_type": "code",
   "execution_count": 25,
   "metadata": {},
   "outputs": [],
   "source": [
    "eng_ind = engonly[['Crime_type', 'Month']]"
   ]
  },
  {
   "cell_type": "markdown",
   "metadata": {},
   "source": [
    "## Creating the monthly datasets\n",
    "\n",
    "I created dataframes for each of the 6 months in the England and Craven datasets. "
   ]
  },
  {
   "cell_type": "code",
   "execution_count": 26,
   "metadata": {},
   "outputs": [],
   "source": [
    "#April\n",
    "ukapril = eng_ind.loc[eng_ind['Month'] == '2019-04']\n",
    "ukapril.rename(columns={'Month':'April'}, inplace=True)\n",
    "cravenapril = cravencorrect.loc[cravencorrect['Month'] == '2019-04']\n",
    "cravenapril.rename(columns={'Month':'April'}, inplace=True)\n",
    "#May\n",
    "ukmay = eng_ind.loc[eng_ind['Month'] == '2019-05']\n",
    "ukmay.rename(columns={'Month':'May'}, inplace=True)\n",
    "cravenmay = cravencorrect.loc[cravencorrect['Month'] == '2019-05']\n",
    "cravenmay.rename(columns={'Month':'May'}, inplace=True)\n",
    "#June\n",
    "ukjune = eng_ind.loc[eng_ind['Month'] == '2019-06']\n",
    "ukjune.rename(columns={'Month':'June'}, inplace=True)\n",
    "cravenjune = cravencorrect.loc[cravencorrect['Month'] == '2019-06']\n",
    "cravenjune.rename(columns={'Month':'June'}, inplace=True)\n",
    "#July\n",
    "ukjuly = eng_ind.loc[eng_ind['Month'] == '2019-07']\n",
    "ukjuly.rename(columns={'Month':'July'}, inplace=True)\n",
    "cravenjuly = cravencorrect.loc[cravencorrect['Month'] == '2019-07']\n",
    "cravenjuly.rename(columns={'Month':'July'}, inplace=True)\n",
    "#August\n",
    "ukaugust = eng_ind.loc[eng_ind['Month'] == '2019-08']\n",
    "ukaugust.rename(columns={'Month':'August'}, inplace=True)\n",
    "cravenaugust = cravencorrect.loc[cravencorrect['Month'] == '2019-08']\n",
    "cravenaugust.rename(columns={'Month':'August'}, inplace=True)\n",
    "#September\n",
    "uksep = eng_ind.loc[eng_ind['Month'] == '2019-09']\n",
    "uksep.rename(columns={'Month':'September'}, inplace=True)\n",
    "cravensep = cravencorrect.loc[cravencorrect['Month'] == '2019-09']\n",
    "cravensep.rename(columns={'Month':'September'}, inplace=True)"
   ]
  },
  {
   "cell_type": "markdown",
   "metadata": {},
   "source": [
    "## Grouping the data by crime type\n",
    "I grouped the data by crime type for each of the month dataframes for both England and Craven and counted how many of each crime were comitted."
   ]
  },
  {
   "cell_type": "code",
   "execution_count": 27,
   "metadata": {},
   "outputs": [],
   "source": [
    "#april\n",
    "ukapril_group = ukapril.groupby('Crime_type').count()\n",
    "cravenapril_group = cravenapril.groupby('Crime_type').count()\n",
    "#may\n",
    "ukmay_group = ukmay.groupby('Crime_type').count()\n",
    "cravenmay_group = cravenmay.groupby('Crime_type').count()\n",
    "#june\n",
    "ukjune_group = ukjune.groupby('Crime_type').count()\n",
    "cravenjune_group = cravenjune.groupby('Crime_type').count()\n",
    "#july\n",
    "ukjuly_group = ukjuly.groupby('Crime_type').count()\n",
    "cravenjuly_group = cravenjuly.groupby('Crime_type').count()\n",
    "#august\n",
    "ukaugust_group = ukaugust.groupby('Crime_type').count()\n",
    "cravenaugust_group = cravenaugust.groupby('Crime_type').count()\n",
    "#september\n",
    "uksep_group = uksep.groupby('Crime_type').count()\n",
    "cravensep_group = cravensep.groupby('Crime_type').count()"
   ]
  },
  {
   "cell_type": "markdown",
   "metadata": {},
   "source": [
    "## Create the crime per population data for each month\n",
    "I dervived the crime per population by dividing the counts of the crime types by the population of England and Craven respectively. I logged the data at this stage so as to make it normally distributed."
   ]
  },
  {
   "cell_type": "code",
   "execution_count": 28,
   "metadata": {},
   "outputs": [],
   "source": [
    "#divide by the populations\n",
    "engpop = 66435600\n",
    "cravenpop = 53600\n",
    "#april\n",
    "engpopapril = np.log(ukapril_group.div(engpop-cravenpop))\n",
    "cravenpopapril = np.log(cravenapril_group.div(cravenpop))\n",
    "#may\n",
    "engpopmay =  np.log(ukmay_group.div(engpop-cravenpop))\n",
    "cravenpopmay =  np.log(cravenapril_group.div(cravenpop))\n",
    "#june\n",
    "engpopjune =  np.log(ukjune_group.div(engpop-cravenpop))\n",
    "cravenpopjune =  np.log(cravenjune_group.div(cravenpop))\n",
    "#july\n",
    "engpopjuly =  np.log(ukjuly_group.div(engpop-cravenpop))\n",
    "cravenpopjuly =  np.log(cravenjuly_group.div(cravenpop))\n",
    "#august\n",
    "engpopaugust =  np.log(ukaugust_group.div(engpop-cravenpop))\n",
    "cravenpopaugust =  np.log(cravenaugust_group.div(cravenpop))\n",
    "#september\n",
    "engpopsep =  np.log(uksep_group.div(engpop-cravenpop))\n",
    "cravenpopsep =  np.log(cravensep_group.div(cravenpop))"
   ]
  },
  {
   "cell_type": "markdown",
   "metadata": {},
   "source": [
    "## Create the combined tables for the monthly crime by population for Craven and England\n",
    "I concatenated all of the monthly tables in order to get the monthly crime by population for Craven and England. "
   ]
  },
  {
   "cell_type": "code",
   "execution_count": 34,
   "metadata": {},
   "outputs": [
    {
     "name": "stderr",
     "output_type": "stream",
     "text": [
      "C:\\Users\\Adam\\Anaconda3\\lib\\site-packages\\ipykernel_launcher.py:1: FutureWarning:\n",
      "\n",
      "Sorting because non-concatenation axis is not aligned. A future version\n",
      "of pandas will change to not sort by default.\n",
      "\n",
      "To accept the future behavior, pass 'sort=False'.\n",
      "\n",
      "To retain the current behavior and silence the warning, pass 'sort=True'.\n",
      "\n",
      "\n"
     ]
    }
   ],
   "source": [
    "cravenmeanmaker = pd.concat([cravenpopapril, cravenpopmay, cravenpopjune, cravenpopjuly, cravenpopaugust, cravenpopsep], axis=1).fillna(0)\n",
    "engmeanmaker = pd.concat([engpopapril, engpopmay,engpopjune,engpopjuly,engpopaugust,engpopsep],axis=1)\n"
   ]
  },
  {
   "cell_type": "markdown",
   "metadata": {},
   "source": [
    "# Perform Statistical Analysis\n",
    "\n",
    "Now the data is succesfully gathered into a usable format, I performed a T-Test on the mean monthly crime by population for Craven and England"
   ]
  },
  {
   "cell_type": "code",
   "execution_count": 36,
   "metadata": {},
   "outputs": [
    {
     "name": "stdout",
     "output_type": "stream",
     "text": [
      "Anti-social behaviour, : Craven -6.56388, England -6.365271,  Ttest_indResult(statistic=-3.1402395097752844, pvalue=0.010505891605633604)\n",
      "Bicycle theft, : Craven -10.05420, England -9.009830,  Ttest_indResult(statistic=-3.472244151425313, pvalue=0.005998533327408396)\n",
      "Burglary, : Craven -7.43747, England -7.714909,  Ttest_indResult(statistic=3.5369761197394527, pvalue=0.0053838224328445015)\n",
      "Criminal damage and arson, : Craven -7.77665, England -7.325592,  Ttest_indResult(statistic=-2.8165181047434737, pvalue=0.018269487289587823)\n",
      "Drugs, : Craven -9.48338, England -8.465670,  Ttest_indResult(statistic=-4.186793020702219, pvalue=0.0018674444257877477)\n",
      "Other crime, : Craven -9.84958, England -9.002559,  Ttest_indResult(statistic=-5.396911870192019, pvalue=0.00030274164846534737)\n",
      "Other theft, : Craven -7.89335, England -7.359197,  Ttest_indResult(statistic=-5.058323650874295, pvalue=0.0004931914381944599)\n",
      "Possession of weapons, : Craven -3.51424, England -9.763710,  Ttest_indResult(statistic=2.809339248561986, pvalue=0.018495842450698522)\n",
      "Public order, : Craven -8.40396, England -7.518063,  Ttest_indResult(statistic=-6.717898729527219, pvalue=5.246674765158612e-05)\n",
      "Robbery, : Craven -5.44465, England -9.150863,  Ttest_indResult(statistic=1.5220272862319493, pvalue=0.1589755237335289)\n",
      "Shoplifting, : Craven -8.16701, England -7.754641,  Ttest_indResult(statistic=-3.850670091079712, pvalue=0.0032087117756580525)\n",
      "Theft from the person, : Craven -6.91296, England -8.939435,  Ttest_indResult(statistic=0.9256573991185822, pvalue=0.37642229208829736)\n",
      "Vehicle crime, : Craven -8.23523, England -7.547469,  Ttest_indResult(statistic=-3.704291141931829, pvalue=0.004079525663179117)\n",
      "Violence and sexual offences, : Craven -6.53513, England -6.088309,  Ttest_indResult(statistic=-22.199774719630035, pvalue=7.720135350166847e-10)\n"
     ]
    }
   ],
   "source": [
    "import scipy\n",
    "\n",
    "for crime_type in cravenmeanmaker.index.tolist():\n",
    "    ttest_out = scipy.stats.ttest_ind(cravenmeanmaker.loc[crime_type,:], # <- asking for the \n",
    "                          engmeanmaker.loc[crime_type,:], equal_var=True)\n",
    "    craven_mean = cravenmeanmaker.loc[crime_type,:].mean()\n",
    "    eng_mean = engmeanmaker.loc[crime_type,:].mean()\n",
    "    \n",
    "    print(f'{crime_type}, : Craven {craven_mean:.5f}, England {eng_mean:5f}, ', ttest_out)"
   ]
  },
  {
   "cell_type": "markdown",
   "metadata": {},
   "source": [
    "# Result\n",
    "For each crime type the UK is signigicantly below the UK mean monthly crime by population. The high P values for Robbery and Theft from Person suggest this diffence might not be significant."
   ]
  },
  {
   "cell_type": "code",
   "execution_count": null,
   "metadata": {},
   "outputs": [],
   "source": []
  }
 ],
 "metadata": {
  "kernelspec": {
   "display_name": "Python 3",
   "language": "python",
   "name": "python3"
  },
  "language_info": {
   "codemirror_mode": {
    "name": "ipython",
    "version": 3
   },
   "file_extension": ".py",
   "mimetype": "text/x-python",
   "name": "python",
   "nbconvert_exporter": "python",
   "pygments_lexer": "ipython3",
   "version": "3.7.3"
  }
 },
 "nbformat": 4,
 "nbformat_minor": 4
}
